{
 "cells": [
  {
   "cell_type": "markdown",
   "metadata": {},
   "source": [
    "# Сборный проект - 1"
   ]
  },
  {
   "cell_type": "markdown",
   "metadata": {},
   "source": [
    "Вы работаете в интернет-магазине «Стримчик», который продаёт по всему миру компьютерные игры. Из открытых источников доступны исторические данные о продажах игр, оценки пользователей и экспертов, жанры и платформы (например, Xbox или PlayStation). Вам нужно выявить определяющие успешность игры закономерности. Это позволит сделать ставку на потенциально популярный продукт и спланировать рекламные кампании.\n",
    "\n",
    "Перед вами данные до 2016 года. Представим, что сейчас декабрь 2016 г., и вы планируете кампанию на 2017-й. Нужно отработать принцип работы с данными. Неважно, прогнозируете ли вы продажи на 2017 год по данным 2016-го или же 2027-й — по данным 2026 года.\n",
    "\n",
    "В наборе данных попадается аббревиатура ESRB (Entertainment Software Rating Board) — это ассоциация, определяющая возрастной рейтинг компьютерных игр. ESRB оценивает игровой контент и присваивает ему подходящую возрастную категорию, например, «Для взрослых», «Для детей младшего возраста» или «Для подростков»."
   ]
  },
  {
   "cell_type": "markdown",
   "metadata": {},
   "source": [
    "## Откроем файл с данными и изучим общую информацию"
   ]
  },
  {
   "cell_type": "code",
   "execution_count": 1,
   "metadata": {
    "scrolled": true
   },
   "outputs": [],
   "source": [
    "#Импортируем библиотеки.\n",
    "import pandas as pd\n",
    "import numpy as np\n",
    "import seaborn as sns\n",
    "import matplotlib.pyplot as plt\n",
    "from datetime import datetime\n",
    "from scipy import stats as st"
   ]
  },
  {
   "cell_type": "code",
   "execution_count": 2,
   "metadata": {
    "scrolled": true
   },
   "outputs": [],
   "source": [
    "#Считываем данные из csv-файла в датафрейм\n",
    "try:\n",
    "    data = pd.read_csv('/datasets/games.csv')\n",
    "except:\n",
    "    data = pd.read_csv('https://code.s3.yandex.net/datasets/games.csv')"
   ]
  },
  {
   "cell_type": "code",
   "execution_count": 3,
   "metadata": {
    "scrolled": true
   },
   "outputs": [
    {
     "data": {
      "text/html": [
       "<div>\n",
       "<style scoped>\n",
       "    .dataframe tbody tr th:only-of-type {\n",
       "        vertical-align: middle;\n",
       "    }\n",
       "\n",
       "    .dataframe tbody tr th {\n",
       "        vertical-align: top;\n",
       "    }\n",
       "\n",
       "    .dataframe thead th {\n",
       "        text-align: right;\n",
       "    }\n",
       "</style>\n",
       "<table border=\"1\" class=\"dataframe\">\n",
       "  <thead>\n",
       "    <tr style=\"text-align: right;\">\n",
       "      <th></th>\n",
       "      <th>Name</th>\n",
       "      <th>Platform</th>\n",
       "      <th>Year_of_Release</th>\n",
       "      <th>Genre</th>\n",
       "      <th>NA_sales</th>\n",
       "      <th>EU_sales</th>\n",
       "      <th>JP_sales</th>\n",
       "      <th>Other_sales</th>\n",
       "      <th>Critic_Score</th>\n",
       "      <th>User_Score</th>\n",
       "      <th>Rating</th>\n",
       "    </tr>\n",
       "  </thead>\n",
       "  <tbody>\n",
       "    <tr>\n",
       "      <th>0</th>\n",
       "      <td>Wii Sports</td>\n",
       "      <td>Wii</td>\n",
       "      <td>2006.0</td>\n",
       "      <td>Sports</td>\n",
       "      <td>41.36</td>\n",
       "      <td>28.96</td>\n",
       "      <td>3.77</td>\n",
       "      <td>8.45</td>\n",
       "      <td>76.0</td>\n",
       "      <td>8</td>\n",
       "      <td>E</td>\n",
       "    </tr>\n",
       "    <tr>\n",
       "      <th>1</th>\n",
       "      <td>Super Mario Bros.</td>\n",
       "      <td>NES</td>\n",
       "      <td>1985.0</td>\n",
       "      <td>Platform</td>\n",
       "      <td>29.08</td>\n",
       "      <td>3.58</td>\n",
       "      <td>6.81</td>\n",
       "      <td>0.77</td>\n",
       "      <td>NaN</td>\n",
       "      <td>NaN</td>\n",
       "      <td>NaN</td>\n",
       "    </tr>\n",
       "    <tr>\n",
       "      <th>2</th>\n",
       "      <td>Mario Kart Wii</td>\n",
       "      <td>Wii</td>\n",
       "      <td>2008.0</td>\n",
       "      <td>Racing</td>\n",
       "      <td>15.68</td>\n",
       "      <td>12.76</td>\n",
       "      <td>3.79</td>\n",
       "      <td>3.29</td>\n",
       "      <td>82.0</td>\n",
       "      <td>8.3</td>\n",
       "      <td>E</td>\n",
       "    </tr>\n",
       "    <tr>\n",
       "      <th>3</th>\n",
       "      <td>Wii Sports Resort</td>\n",
       "      <td>Wii</td>\n",
       "      <td>2009.0</td>\n",
       "      <td>Sports</td>\n",
       "      <td>15.61</td>\n",
       "      <td>10.93</td>\n",
       "      <td>3.28</td>\n",
       "      <td>2.95</td>\n",
       "      <td>80.0</td>\n",
       "      <td>8</td>\n",
       "      <td>E</td>\n",
       "    </tr>\n",
       "    <tr>\n",
       "      <th>4</th>\n",
       "      <td>Pokemon Red/Pokemon Blue</td>\n",
       "      <td>GB</td>\n",
       "      <td>1996.0</td>\n",
       "      <td>Role-Playing</td>\n",
       "      <td>11.27</td>\n",
       "      <td>8.89</td>\n",
       "      <td>10.22</td>\n",
       "      <td>1.00</td>\n",
       "      <td>NaN</td>\n",
       "      <td>NaN</td>\n",
       "      <td>NaN</td>\n",
       "    </tr>\n",
       "    <tr>\n",
       "      <th>5</th>\n",
       "      <td>Tetris</td>\n",
       "      <td>GB</td>\n",
       "      <td>1989.0</td>\n",
       "      <td>Puzzle</td>\n",
       "      <td>23.20</td>\n",
       "      <td>2.26</td>\n",
       "      <td>4.22</td>\n",
       "      <td>0.58</td>\n",
       "      <td>NaN</td>\n",
       "      <td>NaN</td>\n",
       "      <td>NaN</td>\n",
       "    </tr>\n",
       "    <tr>\n",
       "      <th>6</th>\n",
       "      <td>New Super Mario Bros.</td>\n",
       "      <td>DS</td>\n",
       "      <td>2006.0</td>\n",
       "      <td>Platform</td>\n",
       "      <td>11.28</td>\n",
       "      <td>9.14</td>\n",
       "      <td>6.50</td>\n",
       "      <td>2.88</td>\n",
       "      <td>89.0</td>\n",
       "      <td>8.5</td>\n",
       "      <td>E</td>\n",
       "    </tr>\n",
       "    <tr>\n",
       "      <th>7</th>\n",
       "      <td>Wii Play</td>\n",
       "      <td>Wii</td>\n",
       "      <td>2006.0</td>\n",
       "      <td>Misc</td>\n",
       "      <td>13.96</td>\n",
       "      <td>9.18</td>\n",
       "      <td>2.93</td>\n",
       "      <td>2.84</td>\n",
       "      <td>58.0</td>\n",
       "      <td>6.6</td>\n",
       "      <td>E</td>\n",
       "    </tr>\n",
       "    <tr>\n",
       "      <th>8</th>\n",
       "      <td>New Super Mario Bros. Wii</td>\n",
       "      <td>Wii</td>\n",
       "      <td>2009.0</td>\n",
       "      <td>Platform</td>\n",
       "      <td>14.44</td>\n",
       "      <td>6.94</td>\n",
       "      <td>4.70</td>\n",
       "      <td>2.24</td>\n",
       "      <td>87.0</td>\n",
       "      <td>8.4</td>\n",
       "      <td>E</td>\n",
       "    </tr>\n",
       "    <tr>\n",
       "      <th>9</th>\n",
       "      <td>Duck Hunt</td>\n",
       "      <td>NES</td>\n",
       "      <td>1984.0</td>\n",
       "      <td>Shooter</td>\n",
       "      <td>26.93</td>\n",
       "      <td>0.63</td>\n",
       "      <td>0.28</td>\n",
       "      <td>0.47</td>\n",
       "      <td>NaN</td>\n",
       "      <td>NaN</td>\n",
       "      <td>NaN</td>\n",
       "    </tr>\n",
       "  </tbody>\n",
       "</table>\n",
       "</div>"
      ],
      "text/plain": [
       "                        Name Platform  Year_of_Release         Genre  \\\n",
       "0                 Wii Sports      Wii           2006.0        Sports   \n",
       "1          Super Mario Bros.      NES           1985.0      Platform   \n",
       "2             Mario Kart Wii      Wii           2008.0        Racing   \n",
       "3          Wii Sports Resort      Wii           2009.0        Sports   \n",
       "4   Pokemon Red/Pokemon Blue       GB           1996.0  Role-Playing   \n",
       "5                     Tetris       GB           1989.0        Puzzle   \n",
       "6      New Super Mario Bros.       DS           2006.0      Platform   \n",
       "7                   Wii Play      Wii           2006.0          Misc   \n",
       "8  New Super Mario Bros. Wii      Wii           2009.0      Platform   \n",
       "9                  Duck Hunt      NES           1984.0       Shooter   \n",
       "\n",
       "   NA_sales  EU_sales  JP_sales  Other_sales  Critic_Score User_Score Rating  \n",
       "0     41.36     28.96      3.77         8.45          76.0          8      E  \n",
       "1     29.08      3.58      6.81         0.77           NaN        NaN    NaN  \n",
       "2     15.68     12.76      3.79         3.29          82.0        8.3      E  \n",
       "3     15.61     10.93      3.28         2.95          80.0          8      E  \n",
       "4     11.27      8.89     10.22         1.00           NaN        NaN    NaN  \n",
       "5     23.20      2.26      4.22         0.58           NaN        NaN    NaN  \n",
       "6     11.28      9.14      6.50         2.88          89.0        8.5      E  \n",
       "7     13.96      9.18      2.93         2.84          58.0        6.6      E  \n",
       "8     14.44      6.94      4.70         2.24          87.0        8.4      E  \n",
       "9     26.93      0.63      0.28         0.47           NaN        NaN    NaN  "
      ]
     },
     "execution_count": 3,
     "metadata": {},
     "output_type": "execute_result"
    }
   ],
   "source": [
    "#Выведем первые 10 строчек датафрейма data на экран\n",
    "pd.set_option('display.max_columns', None)\n",
    "data.head(10)"
   ]
  },
  {
   "cell_type": "code",
   "execution_count": 4,
   "metadata": {
    "scrolled": true
   },
   "outputs": [
    {
     "name": "stdout",
     "output_type": "stream",
     "text": [
      "<class 'pandas.core.frame.DataFrame'>\n",
      "RangeIndex: 16715 entries, 0 to 16714\n",
      "Data columns (total 11 columns):\n",
      " #   Column           Non-Null Count  Dtype  \n",
      "---  ------           --------------  -----  \n",
      " 0   Name             16713 non-null  object \n",
      " 1   Platform         16715 non-null  object \n",
      " 2   Year_of_Release  16446 non-null  float64\n",
      " 3   Genre            16713 non-null  object \n",
      " 4   NA_sales         16715 non-null  float64\n",
      " 5   EU_sales         16715 non-null  float64\n",
      " 6   JP_sales         16715 non-null  float64\n",
      " 7   Other_sales      16715 non-null  float64\n",
      " 8   Critic_Score     8137 non-null   float64\n",
      " 9   User_Score       10014 non-null  object \n",
      " 10  Rating           9949 non-null   object \n",
      "dtypes: float64(6), object(5)\n",
      "memory usage: 1.4+ MB\n"
     ]
    }
   ],
   "source": [
    "#Выведите основную информацию о датафрейме с помощью метода info()\n",
    "data.info()"
   ]
  },
  {
   "cell_type": "code",
   "execution_count": 5,
   "metadata": {},
   "outputs": [
    {
     "data": {
      "text/plain": [
       "Name                  2\n",
       "Platform              0\n",
       "Year_of_Release     269\n",
       "Genre                 2\n",
       "NA_sales              0\n",
       "EU_sales              0\n",
       "JP_sales              0\n",
       "Other_sales           0\n",
       "Critic_Score       8578\n",
       "User_Score         6701\n",
       "Rating             6766\n",
       "dtype: int64"
      ]
     },
     "execution_count": 5,
     "metadata": {},
     "output_type": "execute_result"
    }
   ],
   "source": [
    "#Посмотрим, в каких столбцах есть пропуски\n",
    "data.isna().sum()"
   ]
  },
  {
   "cell_type": "code",
   "execution_count": 6,
   "metadata": {
    "scrolled": true
   },
   "outputs": [
    {
     "data": {
      "text/html": [
       "<style  type=\"text/css\" >\n",
       "#T_3d3af_row0_col0,#T_3d3af_row1_col0,#T_3d3af_row3_col0,#T_3d3af_row4_col0,#T_3d3af_row5_col0,#T_3d3af_row6_col0,#T_3d3af_row7_col0{\n",
       "            background-color:  #3b4cc0;\n",
       "            color:  #f1f1f1;\n",
       "        }#T_3d3af_row2_col0{\n",
       "            background-color:  #4358cb;\n",
       "            color:  #f1f1f1;\n",
       "        }#T_3d3af_row8_col0{\n",
       "            background-color:  #b40426;\n",
       "            color:  #f1f1f1;\n",
       "        }#T_3d3af_row9_col0{\n",
       "            background-color:  #f08b6e;\n",
       "            color:  #000000;\n",
       "        }#T_3d3af_row10_col0{\n",
       "            background-color:  #ef886b;\n",
       "            color:  #000000;\n",
       "        }</style><table id=\"T_3d3af_\" ><thead>    <tr>        <th class=\"blank level0\" ></th>        <th class=\"col_heading level0 col0\" >0</th>    </tr></thead><tbody>\n",
       "                <tr>\n",
       "                        <th id=\"T_3d3af_level0_row0\" class=\"row_heading level0 row0\" >Name</th>\n",
       "                        <td id=\"T_3d3af_row0_col0\" class=\"data row0 col0\" >0.000000</td>\n",
       "            </tr>\n",
       "            <tr>\n",
       "                        <th id=\"T_3d3af_level0_row1\" class=\"row_heading level0 row1\" >Platform</th>\n",
       "                        <td id=\"T_3d3af_row1_col0\" class=\"data row1 col0\" >0.000000</td>\n",
       "            </tr>\n",
       "            <tr>\n",
       "                        <th id=\"T_3d3af_level0_row2\" class=\"row_heading level0 row2\" >Year_of_Release</th>\n",
       "                        <td id=\"T_3d3af_row2_col0\" class=\"data row2 col0\" >1.600000</td>\n",
       "            </tr>\n",
       "            <tr>\n",
       "                        <th id=\"T_3d3af_level0_row3\" class=\"row_heading level0 row3\" >Genre</th>\n",
       "                        <td id=\"T_3d3af_row3_col0\" class=\"data row3 col0\" >0.000000</td>\n",
       "            </tr>\n",
       "            <tr>\n",
       "                        <th id=\"T_3d3af_level0_row4\" class=\"row_heading level0 row4\" >NA_sales</th>\n",
       "                        <td id=\"T_3d3af_row4_col0\" class=\"data row4 col0\" >0.000000</td>\n",
       "            </tr>\n",
       "            <tr>\n",
       "                        <th id=\"T_3d3af_level0_row5\" class=\"row_heading level0 row5\" >EU_sales</th>\n",
       "                        <td id=\"T_3d3af_row5_col0\" class=\"data row5 col0\" >0.000000</td>\n",
       "            </tr>\n",
       "            <tr>\n",
       "                        <th id=\"T_3d3af_level0_row6\" class=\"row_heading level0 row6\" >JP_sales</th>\n",
       "                        <td id=\"T_3d3af_row6_col0\" class=\"data row6 col0\" >0.000000</td>\n",
       "            </tr>\n",
       "            <tr>\n",
       "                        <th id=\"T_3d3af_level0_row7\" class=\"row_heading level0 row7\" >Other_sales</th>\n",
       "                        <td id=\"T_3d3af_row7_col0\" class=\"data row7 col0\" >0.000000</td>\n",
       "            </tr>\n",
       "            <tr>\n",
       "                        <th id=\"T_3d3af_level0_row8\" class=\"row_heading level0 row8\" >Critic_Score</th>\n",
       "                        <td id=\"T_3d3af_row8_col0\" class=\"data row8 col0\" >51.300000</td>\n",
       "            </tr>\n",
       "            <tr>\n",
       "                        <th id=\"T_3d3af_level0_row9\" class=\"row_heading level0 row9\" >User_Score</th>\n",
       "                        <td id=\"T_3d3af_row9_col0\" class=\"data row9 col0\" >40.100000</td>\n",
       "            </tr>\n",
       "            <tr>\n",
       "                        <th id=\"T_3d3af_level0_row10\" class=\"row_heading level0 row10\" >Rating</th>\n",
       "                        <td id=\"T_3d3af_row10_col0\" class=\"data row10 col0\" >40.500000</td>\n",
       "            </tr>\n",
       "    </tbody></table>"
      ],
      "text/plain": [
       "<pandas.io.formats.style.Styler at 0x7fe359af70a0>"
      ]
     },
     "execution_count": 6,
     "metadata": {},
     "output_type": "execute_result"
    }
   ],
   "source": [
    "#посмотрим долю пропусков, и на основании этого примем решение о удалении, замене либо игнорировании пропусков\n",
    "pd.DataFrame(round(data.isna().mean()*100,1)).style.background_gradient('coolwarm')"
   ]
  },
  {
   "cell_type": "markdown",
   "metadata": {},
   "source": [
    "**Описание данных**\n",
    "\n",
    "- Name — название игры\n",
    "- Platform — платформа\n",
    "- Year_of_Release — год выпуска\n",
    "- Genre — жанр игры\n",
    "- NA_sales — продажи в Северной Америке (миллионы проданных копий)\n",
    "- EU_sales — продажи в Европе (миллионы проданных копий)\n",
    "- JP_sales — продажи в Японии (миллионы проданных копий)\n",
    "- Other_sales — продажи в других странах (миллионы проданных копий)\n",
    "- Critic_Score — оценка критиков (максимум 100)\n",
    "- User_Score — оценка пользователей (максимум 10)\n",
    "- Rating — рейтинг от организации ESRB (англ. Entertainment Software Rating Board). Эта ассоциация определяет рейтинг компьютерных игр и присваивает им подходящую возрастную категорию."
   ]
  },
  {
   "cell_type": "code",
   "execution_count": 7,
   "metadata": {
    "scrolled": true
   },
   "outputs": [
    {
     "data": {
      "text/html": [
       "<div>\n",
       "<style scoped>\n",
       "    .dataframe tbody tr th:only-of-type {\n",
       "        vertical-align: middle;\n",
       "    }\n",
       "\n",
       "    .dataframe tbody tr th {\n",
       "        vertical-align: top;\n",
       "    }\n",
       "\n",
       "    .dataframe thead th {\n",
       "        text-align: right;\n",
       "    }\n",
       "</style>\n",
       "<table border=\"1\" class=\"dataframe\">\n",
       "  <thead>\n",
       "    <tr style=\"text-align: right;\">\n",
       "      <th></th>\n",
       "      <th>Year_of_Release</th>\n",
       "      <th>NA_sales</th>\n",
       "      <th>EU_sales</th>\n",
       "      <th>JP_sales</th>\n",
       "      <th>Other_sales</th>\n",
       "      <th>Critic_Score</th>\n",
       "    </tr>\n",
       "  </thead>\n",
       "  <tbody>\n",
       "    <tr>\n",
       "      <th>count</th>\n",
       "      <td>16446.000000</td>\n",
       "      <td>16715.000000</td>\n",
       "      <td>16715.000000</td>\n",
       "      <td>16715.000000</td>\n",
       "      <td>16715.000000</td>\n",
       "      <td>8137.000000</td>\n",
       "    </tr>\n",
       "    <tr>\n",
       "      <th>mean</th>\n",
       "      <td>2006.484616</td>\n",
       "      <td>0.263377</td>\n",
       "      <td>0.145060</td>\n",
       "      <td>0.077617</td>\n",
       "      <td>0.047342</td>\n",
       "      <td>68.967679</td>\n",
       "    </tr>\n",
       "    <tr>\n",
       "      <th>std</th>\n",
       "      <td>5.877050</td>\n",
       "      <td>0.813604</td>\n",
       "      <td>0.503339</td>\n",
       "      <td>0.308853</td>\n",
       "      <td>0.186731</td>\n",
       "      <td>13.938165</td>\n",
       "    </tr>\n",
       "    <tr>\n",
       "      <th>min</th>\n",
       "      <td>1980.000000</td>\n",
       "      <td>0.000000</td>\n",
       "      <td>0.000000</td>\n",
       "      <td>0.000000</td>\n",
       "      <td>0.000000</td>\n",
       "      <td>13.000000</td>\n",
       "    </tr>\n",
       "    <tr>\n",
       "      <th>25%</th>\n",
       "      <td>2003.000000</td>\n",
       "      <td>0.000000</td>\n",
       "      <td>0.000000</td>\n",
       "      <td>0.000000</td>\n",
       "      <td>0.000000</td>\n",
       "      <td>60.000000</td>\n",
       "    </tr>\n",
       "    <tr>\n",
       "      <th>50%</th>\n",
       "      <td>2007.000000</td>\n",
       "      <td>0.080000</td>\n",
       "      <td>0.020000</td>\n",
       "      <td>0.000000</td>\n",
       "      <td>0.010000</td>\n",
       "      <td>71.000000</td>\n",
       "    </tr>\n",
       "    <tr>\n",
       "      <th>75%</th>\n",
       "      <td>2010.000000</td>\n",
       "      <td>0.240000</td>\n",
       "      <td>0.110000</td>\n",
       "      <td>0.040000</td>\n",
       "      <td>0.030000</td>\n",
       "      <td>79.000000</td>\n",
       "    </tr>\n",
       "    <tr>\n",
       "      <th>max</th>\n",
       "      <td>2016.000000</td>\n",
       "      <td>41.360000</td>\n",
       "      <td>28.960000</td>\n",
       "      <td>10.220000</td>\n",
       "      <td>10.570000</td>\n",
       "      <td>98.000000</td>\n",
       "    </tr>\n",
       "  </tbody>\n",
       "</table>\n",
       "</div>"
      ],
      "text/plain": [
       "       Year_of_Release      NA_sales      EU_sales      JP_sales  \\\n",
       "count     16446.000000  16715.000000  16715.000000  16715.000000   \n",
       "mean       2006.484616      0.263377      0.145060      0.077617   \n",
       "std           5.877050      0.813604      0.503339      0.308853   \n",
       "min        1980.000000      0.000000      0.000000      0.000000   \n",
       "25%        2003.000000      0.000000      0.000000      0.000000   \n",
       "50%        2007.000000      0.080000      0.020000      0.000000   \n",
       "75%        2010.000000      0.240000      0.110000      0.040000   \n",
       "max        2016.000000     41.360000     28.960000     10.220000   \n",
       "\n",
       "        Other_sales  Critic_Score  \n",
       "count  16715.000000   8137.000000  \n",
       "mean       0.047342     68.967679  \n",
       "std        0.186731     13.938165  \n",
       "min        0.000000     13.000000  \n",
       "25%        0.000000     60.000000  \n",
       "50%        0.010000     71.000000  \n",
       "75%        0.030000     79.000000  \n",
       "max       10.570000     98.000000  "
      ]
     },
     "metadata": {},
     "output_type": "display_data"
    }
   ],
   "source": [
    "#Выведем статистику\n",
    "display(data.describe())"
   ]
  },
  {
   "cell_type": "markdown",
   "metadata": {},
   "source": [
    "### Вывод"
   ]
  },
  {
   "cell_type": "markdown",
   "metadata": {},
   "source": [
    "Необходимо подготовить данные, так как есть некорректные значения."
   ]
  },
  {
   "cell_type": "code",
   "execution_count": 8,
   "metadata": {},
   "outputs": [],
   "source": [
    "# def название функции (df):\n",
    "#   '''Функция получения первичной информации о датафрейме'''\n",
    "#   print ('------------- Первые 5 строк ------------')\n",
    "#   display(df.head())\n",
    "#   print('')\n",
    "#   print('')\n",
    "#   print ('------------- Типы данных ------------')\n",
    "#   print (df.info())\n",
    "#   print('')\n",
    "#   print('')\n",
    "#   print ('------------- Пропуски ------------')\n",
    "#   count = 0\n",
    "#   for element in df.columns:\n",
    "#     if df[element].isna().sum() > 0: \n",
    "#       print(element, ' - ', df[element].isna().sum(), 'пропусков')\n",
    "#       count = +1\n",
    "#   if count == 0:\n",
    "#     print('Пропусков НЕТ')\n",
    "#   print('')\n",
    "#   print('')\n",
    "#   print ('------------- Дубликаты ------------')\n",
    "#   if df.duplicated().sum() > 0:\n",
    "#     print('Дубликатов: ', df.duplicated().sum())\n",
    "#   else:\n",
    "#     print('Дубликатов НЕТ')"
   ]
  },
  {
   "cell_type": "code",
   "execution_count": 9,
   "metadata": {},
   "outputs": [],
   "source": [
    "#название функции(датасет)"
   ]
  },
  {
   "cell_type": "markdown",
   "metadata": {},
   "source": [
    "## Подготовим данные\n"
   ]
  },
  {
   "cell_type": "markdown",
   "metadata": {},
   "source": [
    "- Замените названия столбцов (приведите к нижнему регистру);\n",
    "- Преобразуйте данные в нужные типы. Опишите, в каких столбцах заменили тип данных и почему;\n",
    "- Обработайте пропуски при необходимости:\n",
    "    - Объясните, почему заполнили пропуски определённым образом или почему не стали это делать;\n",
    "    - Опишите причины, которые могли привести к пропускам;\n",
    "    - Обратите внимание на аббревиатуру 'tbd' в столбце с оценкой пользователей. Отдельно разберите это значение и опишите, как его обработать;\n",
    "- Посчитайте суммарные продажи во всех регионах и запишите их в отдельный столбец."
   ]
  },
  {
   "cell_type": "code",
   "execution_count": 10,
   "metadata": {
    "scrolled": true
   },
   "outputs": [],
   "source": [
    "#Приведем к нижнему регистру названия столбцов\n",
    "data.columns = map(str.lower, data.columns)"
   ]
  },
  {
   "cell_type": "code",
   "execution_count": 11,
   "metadata": {
    "scrolled": true
   },
   "outputs": [],
   "source": [
    "#Значения в столбце 'year_of_release' вещественные числа\n",
    "#С помощью метода astype() превратим содержимое этого столбца в целый тип данных, так как в годах дробей быть не может\n",
    "#Для этого сначала удалим строки с пропусками в year_of_release, 269 пропусков - это 1,6% от всех записей\n",
    "data = data.dropna(subset=['year_of_release']).reset_index(drop=True)\n",
    "data['year_of_release'] = data['year_of_release'].astype(int)"
   ]
  },
  {
   "cell_type": "code",
   "execution_count": 12,
   "metadata": {
    "scrolled": true
   },
   "outputs": [
    {
     "data": {
      "text/plain": [
       "name                  2\n",
       "platform              0\n",
       "year_of_release       0\n",
       "genre                 2\n",
       "na_sales              0\n",
       "eu_sales              0\n",
       "jp_sales              0\n",
       "other_sales           0\n",
       "critic_score       8463\n",
       "user_score         6607\n",
       "rating             6678\n",
       "dtype: int64"
      ]
     },
     "execution_count": 12,
     "metadata": {},
     "output_type": "execute_result"
    }
   ],
   "source": [
    "#Посмотрим еще раз, в каких столбцах есть пропуски\n",
    "data.isna().sum()"
   ]
  },
  {
   "cell_type": "code",
   "execution_count": 13,
   "metadata": {
    "scrolled": true
   },
   "outputs": [
    {
     "data": {
      "text/html": [
       "<div>\n",
       "<style scoped>\n",
       "    .dataframe tbody tr th:only-of-type {\n",
       "        vertical-align: middle;\n",
       "    }\n",
       "\n",
       "    .dataframe tbody tr th {\n",
       "        vertical-align: top;\n",
       "    }\n",
       "\n",
       "    .dataframe thead th {\n",
       "        text-align: right;\n",
       "    }\n",
       "</style>\n",
       "<table border=\"1\" class=\"dataframe\">\n",
       "  <thead>\n",
       "    <tr style=\"text-align: right;\">\n",
       "      <th></th>\n",
       "      <th>name</th>\n",
       "      <th>platform</th>\n",
       "      <th>year_of_release</th>\n",
       "      <th>genre</th>\n",
       "      <th>na_sales</th>\n",
       "      <th>eu_sales</th>\n",
       "      <th>jp_sales</th>\n",
       "      <th>other_sales</th>\n",
       "      <th>critic_score</th>\n",
       "      <th>user_score</th>\n",
       "      <th>rating</th>\n",
       "    </tr>\n",
       "  </thead>\n",
       "  <tbody>\n",
       "    <tr>\n",
       "      <th>652</th>\n",
       "      <td>NaN</td>\n",
       "      <td>GEN</td>\n",
       "      <td>1993</td>\n",
       "      <td>NaN</td>\n",
       "      <td>1.78</td>\n",
       "      <td>0.53</td>\n",
       "      <td>0.00</td>\n",
       "      <td>0.08</td>\n",
       "      <td>NaN</td>\n",
       "      <td>NaN</td>\n",
       "      <td>NaN</td>\n",
       "    </tr>\n",
       "    <tr>\n",
       "      <th>14022</th>\n",
       "      <td>NaN</td>\n",
       "      <td>GEN</td>\n",
       "      <td>1993</td>\n",
       "      <td>NaN</td>\n",
       "      <td>0.00</td>\n",
       "      <td>0.00</td>\n",
       "      <td>0.03</td>\n",
       "      <td>0.00</td>\n",
       "      <td>NaN</td>\n",
       "      <td>NaN</td>\n",
       "      <td>NaN</td>\n",
       "    </tr>\n",
       "  </tbody>\n",
       "</table>\n",
       "</div>"
      ],
      "text/plain": [
       "      name platform  year_of_release genre  na_sales  eu_sales  jp_sales  \\\n",
       "652    NaN      GEN             1993   NaN      1.78      0.53      0.00   \n",
       "14022  NaN      GEN             1993   NaN      0.00      0.00      0.03   \n",
       "\n",
       "       other_sales  critic_score user_score rating  \n",
       "652           0.08           NaN        NaN    NaN  \n",
       "14022         0.00           NaN        NaN    NaN  "
      ]
     },
     "execution_count": 13,
     "metadata": {},
     "output_type": "execute_result"
    }
   ],
   "source": [
    "#Пропуски в столбцах name и genre, посмотрим на данные строки\n",
    "data[data['name'].isna()]\n",
    "data[data['genre'].isna()]"
   ]
  },
  {
   "cell_type": "code",
   "execution_count": 14,
   "metadata": {
    "scrolled": true
   },
   "outputs": [],
   "source": [
    "#Это две одинаковые строки, удалим их\n",
    "data = data.dropna(subset=['name']).reset_index(drop=True)"
   ]
  },
  {
   "cell_type": "markdown",
   "metadata": {},
   "source": [
    "В столбцах critic_score пропуски заменять не будем, так как их слишком много."
   ]
  },
  {
   "cell_type": "code",
   "execution_count": 15,
   "metadata": {},
   "outputs": [],
   "source": [
    "#Заменим пустые значения rating на Unknow\n",
    "data['rating'] = data['rating'].fillna(value='Unknow')"
   ]
  },
  {
   "cell_type": "markdown",
   "metadata": {},
   "source": [
    "Посмотрим на значения в столбце с оценкой пользователей user_score"
   ]
  },
  {
   "cell_type": "code",
   "execution_count": 16,
   "metadata": {
    "scrolled": true
   },
   "outputs": [
    {
     "data": {
      "text/plain": [
       "array(['tbd', '9.7', '9.6', '9.5', '9.4', '9.3', '9.2', '9.1', '9', '8.9',\n",
       "       '8.8', '8.7', '8.6', '8.5', '8.4', '8.3', '8.2', '8.1', '8', '7.9',\n",
       "       '7.8', '7.7', '7.6', '7.5', '7.4', '7.3', '7.2', '7.1', '7', '6.9',\n",
       "       '6.8', '6.7', '6.6', '6.5', '6.4', '6.3', '6.2', '6.1', '6', '5.9',\n",
       "       '5.8', '5.7', '5.6', '5.5', '5.4', '5.3', '5.2', '5.1', '5', '4.9',\n",
       "       '4.8', '4.7', '4.6', '4.5', '4.4', '4.3', '4.2', '4.1', '4', '3.9',\n",
       "       '3.8', '3.7', '3.6', '3.5', '3.4', '3.3', '3.2', '3.1', '3', '2.9',\n",
       "       '2.8', '2.7', '2.6', '2.5', '2.4', '2.3', '2.2', '2.1', '2', '1.9',\n",
       "       '1.8', '1.7', '1.6', '1.5', '1.4', '1.3', '1.2', '1.1', '1', '0.9',\n",
       "       '0.7', '0.6', '0.5', '0.3', '0.2', '0', nan], dtype=object)"
      ]
     },
     "execution_count": 16,
     "metadata": {},
     "output_type": "execute_result"
    }
   ],
   "source": [
    "#Выведем уникальные значения\n",
    "data['user_score'].sort_values(ascending=False).unique()"
   ]
  },
  {
   "cell_type": "markdown",
   "metadata": {},
   "source": [
    "TBD - сокращение часто используется в сфере компьютерных игр. Расшифровывается - To Be Determined, то есть \"Будет определено\"."
   ]
  },
  {
   "cell_type": "code",
   "execution_count": 17,
   "metadata": {
    "scrolled": true
   },
   "outputs": [
    {
     "data": {
      "text/plain": [
       "2376"
      ]
     },
     "execution_count": 17,
     "metadata": {},
     "output_type": "execute_result"
    }
   ],
   "source": [
    "#Посмотрим количество строк с tbd\n",
    "data[data['user_score'] == 'tbd']['user_score'].count()"
   ]
  },
  {
   "cell_type": "code",
   "execution_count": 18,
   "metadata": {
    "scrolled": true
   },
   "outputs": [],
   "source": [
    "#2376 строк очень много, удалять нельзя. Можно предположить, что данное значение можно заменить на nan.\n",
    "data.loc[data['user_score'] == 'tbd','user_score'] = np.nan"
   ]
  },
  {
   "cell_type": "code",
   "execution_count": 19,
   "metadata": {
    "scrolled": true
   },
   "outputs": [],
   "source": [
    "#Значения в столбце 'user_score' строки\n",
    "#С помощью метода astype() превратим содержимое этого столбца в вещественный тип данных\n",
    "data['user_score'] = pd.to_numeric(data['user_score'], errors='coerce')"
   ]
  },
  {
   "cell_type": "code",
   "execution_count": 20,
   "metadata": {
    "scrolled": true
   },
   "outputs": [
    {
     "data": {
      "text/plain": [
       "array([9.7, 9.6, 9.5, 9.4, 9.3, 9.2, 9.1, 9. , 8.9, 8.8, 8.7, 8.6, 8.5,\n",
       "       8.4, 8.3, 8.2, 8.1, 8. , 7.9, 7.8, 7.7, 7.6, 7.5, 7.4, 7.3, 7.2,\n",
       "       7.1, 7. , 6.9, 6.8, 6.7, 6.6, 6.5, 6.4, 6.3, 6.2, 6.1, 6. , 5.9,\n",
       "       5.8, 5.7, 5.6, 5.5, 5.4, 5.3, 5.2, 5.1, 5. , 4.9, 4.8, 4.7, 4.6,\n",
       "       4.5, 4.4, 4.3, 4.2, 4.1, 4. , 3.9, 3.8, 3.7, 3.6, 3.5, 3.4, 3.3,\n",
       "       3.2, 3.1, 3. , 2.9, 2.8, 2.7, 2.6, 2.5, 2.4, 2.3, 2.2, 2.1, 2. ,\n",
       "       1.9, 1.8, 1.7, 1.6, 1.5, 1.4, 1.3, 1.2, 1.1, 1. , 0.9, 0.7, 0.6,\n",
       "       0.5, 0.3, 0.2, 0. , nan])"
      ]
     },
     "execution_count": 20,
     "metadata": {},
     "output_type": "execute_result"
    }
   ],
   "source": [
    "#Проверим уникальные значения\n",
    "data['user_score'].sort_values(ascending=False).unique()"
   ]
  },
  {
   "cell_type": "code",
   "execution_count": 21,
   "metadata": {
    "scrolled": true
   },
   "outputs": [],
   "source": [
    "#Добавим новый столбец с суммарными продажами во всех регионах\n",
    "data['total_sales'] = data['na_sales'] + data['eu_sales'] + data['jp_sales'] + data['other_sales']"
   ]
  },
  {
   "cell_type": "code",
   "execution_count": 22,
   "metadata": {
    "scrolled": true
   },
   "outputs": [
    {
     "data": {
      "text/html": [
       "<div>\n",
       "<style scoped>\n",
       "    .dataframe tbody tr th:only-of-type {\n",
       "        vertical-align: middle;\n",
       "    }\n",
       "\n",
       "    .dataframe tbody tr th {\n",
       "        vertical-align: top;\n",
       "    }\n",
       "\n",
       "    .dataframe thead th {\n",
       "        text-align: right;\n",
       "    }\n",
       "</style>\n",
       "<table border=\"1\" class=\"dataframe\">\n",
       "  <thead>\n",
       "    <tr style=\"text-align: right;\">\n",
       "      <th></th>\n",
       "      <th>name</th>\n",
       "      <th>platform</th>\n",
       "      <th>year_of_release</th>\n",
       "      <th>genre</th>\n",
       "      <th>na_sales</th>\n",
       "      <th>eu_sales</th>\n",
       "      <th>jp_sales</th>\n",
       "      <th>other_sales</th>\n",
       "      <th>critic_score</th>\n",
       "      <th>user_score</th>\n",
       "      <th>rating</th>\n",
       "      <th>total_sales</th>\n",
       "    </tr>\n",
       "  </thead>\n",
       "  <tbody>\n",
       "    <tr>\n",
       "      <th>0</th>\n",
       "      <td>Wii Sports</td>\n",
       "      <td>Wii</td>\n",
       "      <td>2006</td>\n",
       "      <td>Sports</td>\n",
       "      <td>41.36</td>\n",
       "      <td>28.96</td>\n",
       "      <td>3.77</td>\n",
       "      <td>8.45</td>\n",
       "      <td>76.0</td>\n",
       "      <td>8.0</td>\n",
       "      <td>E</td>\n",
       "      <td>82.54</td>\n",
       "    </tr>\n",
       "    <tr>\n",
       "      <th>1</th>\n",
       "      <td>Super Mario Bros.</td>\n",
       "      <td>NES</td>\n",
       "      <td>1985</td>\n",
       "      <td>Platform</td>\n",
       "      <td>29.08</td>\n",
       "      <td>3.58</td>\n",
       "      <td>6.81</td>\n",
       "      <td>0.77</td>\n",
       "      <td>NaN</td>\n",
       "      <td>NaN</td>\n",
       "      <td>Unknow</td>\n",
       "      <td>40.24</td>\n",
       "    </tr>\n",
       "    <tr>\n",
       "      <th>2</th>\n",
       "      <td>Mario Kart Wii</td>\n",
       "      <td>Wii</td>\n",
       "      <td>2008</td>\n",
       "      <td>Racing</td>\n",
       "      <td>15.68</td>\n",
       "      <td>12.76</td>\n",
       "      <td>3.79</td>\n",
       "      <td>3.29</td>\n",
       "      <td>82.0</td>\n",
       "      <td>8.3</td>\n",
       "      <td>E</td>\n",
       "      <td>35.52</td>\n",
       "    </tr>\n",
       "    <tr>\n",
       "      <th>3</th>\n",
       "      <td>Wii Sports Resort</td>\n",
       "      <td>Wii</td>\n",
       "      <td>2009</td>\n",
       "      <td>Sports</td>\n",
       "      <td>15.61</td>\n",
       "      <td>10.93</td>\n",
       "      <td>3.28</td>\n",
       "      <td>2.95</td>\n",
       "      <td>80.0</td>\n",
       "      <td>8.0</td>\n",
       "      <td>E</td>\n",
       "      <td>32.77</td>\n",
       "    </tr>\n",
       "    <tr>\n",
       "      <th>4</th>\n",
       "      <td>Pokemon Red/Pokemon Blue</td>\n",
       "      <td>GB</td>\n",
       "      <td>1996</td>\n",
       "      <td>Role-Playing</td>\n",
       "      <td>11.27</td>\n",
       "      <td>8.89</td>\n",
       "      <td>10.22</td>\n",
       "      <td>1.00</td>\n",
       "      <td>NaN</td>\n",
       "      <td>NaN</td>\n",
       "      <td>Unknow</td>\n",
       "      <td>31.38</td>\n",
       "    </tr>\n",
       "    <tr>\n",
       "      <th>5</th>\n",
       "      <td>Tetris</td>\n",
       "      <td>GB</td>\n",
       "      <td>1989</td>\n",
       "      <td>Puzzle</td>\n",
       "      <td>23.20</td>\n",
       "      <td>2.26</td>\n",
       "      <td>4.22</td>\n",
       "      <td>0.58</td>\n",
       "      <td>NaN</td>\n",
       "      <td>NaN</td>\n",
       "      <td>Unknow</td>\n",
       "      <td>30.26</td>\n",
       "    </tr>\n",
       "    <tr>\n",
       "      <th>6</th>\n",
       "      <td>New Super Mario Bros.</td>\n",
       "      <td>DS</td>\n",
       "      <td>2006</td>\n",
       "      <td>Platform</td>\n",
       "      <td>11.28</td>\n",
       "      <td>9.14</td>\n",
       "      <td>6.50</td>\n",
       "      <td>2.88</td>\n",
       "      <td>89.0</td>\n",
       "      <td>8.5</td>\n",
       "      <td>E</td>\n",
       "      <td>29.80</td>\n",
       "    </tr>\n",
       "    <tr>\n",
       "      <th>7</th>\n",
       "      <td>Wii Play</td>\n",
       "      <td>Wii</td>\n",
       "      <td>2006</td>\n",
       "      <td>Misc</td>\n",
       "      <td>13.96</td>\n",
       "      <td>9.18</td>\n",
       "      <td>2.93</td>\n",
       "      <td>2.84</td>\n",
       "      <td>58.0</td>\n",
       "      <td>6.6</td>\n",
       "      <td>E</td>\n",
       "      <td>28.91</td>\n",
       "    </tr>\n",
       "    <tr>\n",
       "      <th>8</th>\n",
       "      <td>New Super Mario Bros. Wii</td>\n",
       "      <td>Wii</td>\n",
       "      <td>2009</td>\n",
       "      <td>Platform</td>\n",
       "      <td>14.44</td>\n",
       "      <td>6.94</td>\n",
       "      <td>4.70</td>\n",
       "      <td>2.24</td>\n",
       "      <td>87.0</td>\n",
       "      <td>8.4</td>\n",
       "      <td>E</td>\n",
       "      <td>28.32</td>\n",
       "    </tr>\n",
       "    <tr>\n",
       "      <th>9</th>\n",
       "      <td>Duck Hunt</td>\n",
       "      <td>NES</td>\n",
       "      <td>1984</td>\n",
       "      <td>Shooter</td>\n",
       "      <td>26.93</td>\n",
       "      <td>0.63</td>\n",
       "      <td>0.28</td>\n",
       "      <td>0.47</td>\n",
       "      <td>NaN</td>\n",
       "      <td>NaN</td>\n",
       "      <td>Unknow</td>\n",
       "      <td>28.31</td>\n",
       "    </tr>\n",
       "  </tbody>\n",
       "</table>\n",
       "</div>"
      ],
      "text/plain": [
       "                        name platform  year_of_release         genre  \\\n",
       "0                 Wii Sports      Wii             2006        Sports   \n",
       "1          Super Mario Bros.      NES             1985      Platform   \n",
       "2             Mario Kart Wii      Wii             2008        Racing   \n",
       "3          Wii Sports Resort      Wii             2009        Sports   \n",
       "4   Pokemon Red/Pokemon Blue       GB             1996  Role-Playing   \n",
       "5                     Tetris       GB             1989        Puzzle   \n",
       "6      New Super Mario Bros.       DS             2006      Platform   \n",
       "7                   Wii Play      Wii             2006          Misc   \n",
       "8  New Super Mario Bros. Wii      Wii             2009      Platform   \n",
       "9                  Duck Hunt      NES             1984       Shooter   \n",
       "\n",
       "   na_sales  eu_sales  jp_sales  other_sales  critic_score  user_score  \\\n",
       "0     41.36     28.96      3.77         8.45          76.0         8.0   \n",
       "1     29.08      3.58      6.81         0.77           NaN         NaN   \n",
       "2     15.68     12.76      3.79         3.29          82.0         8.3   \n",
       "3     15.61     10.93      3.28         2.95          80.0         8.0   \n",
       "4     11.27      8.89     10.22         1.00           NaN         NaN   \n",
       "5     23.20      2.26      4.22         0.58           NaN         NaN   \n",
       "6     11.28      9.14      6.50         2.88          89.0         8.5   \n",
       "7     13.96      9.18      2.93         2.84          58.0         6.6   \n",
       "8     14.44      6.94      4.70         2.24          87.0         8.4   \n",
       "9     26.93      0.63      0.28         0.47           NaN         NaN   \n",
       "\n",
       "   rating  total_sales  \n",
       "0       E        82.54  \n",
       "1  Unknow        40.24  \n",
       "2       E        35.52  \n",
       "3       E        32.77  \n",
       "4  Unknow        31.38  \n",
       "5  Unknow        30.26  \n",
       "6       E        29.80  \n",
       "7       E        28.91  \n",
       "8       E        28.32  \n",
       "9  Unknow        28.31  "
      ]
     },
     "execution_count": 22,
     "metadata": {},
     "output_type": "execute_result"
    }
   ],
   "source": [
    "data.head(10)"
   ]
  },
  {
   "cell_type": "code",
   "execution_count": 23,
   "metadata": {
    "scrolled": true
   },
   "outputs": [
    {
     "data": {
      "text/plain": [
       "0"
      ]
     },
     "execution_count": 23,
     "metadata": {},
     "output_type": "execute_result"
    }
   ],
   "source": [
    "#Проверим на явные дубликаты\n",
    "data.duplicated().sum()"
   ]
  },
  {
   "cell_type": "markdown",
   "metadata": {},
   "source": [
    "Явных дубликатов нет"
   ]
  },
  {
   "cell_type": "markdown",
   "metadata": {},
   "source": [
    "### Вывод"
   ]
  },
  {
   "cell_type": "markdown",
   "metadata": {},
   "source": [
    "Заменили названия столбцов, привели к нижнему регистру. \n",
    "\n",
    "Преобразовали данные в столбцах year_of_release и user_score в нужные типы данных. \n",
    "\n",
    "Удалили пропуски в столбцах name и genre. В столбцах critic_score, user_score пропуски удалять/заменять не будем, так как их слишком много. Причины таких больших пропусков могут быть следующие: не обязательные поля для заполнения, отсутствие данных (не популярные игры). Заменил пропуски в столбце rating на Unknow.\n",
    "\n",
    "Заменили в user_score аббревиатуру 'tbd' на nan. Создали новый столбец с суммарными продажами.\n",
    "\n",
    "Проверили на явные дубликаты - не обноружили."
   ]
  },
  {
   "cell_type": "markdown",
   "metadata": {},
   "source": [
    "## Проведем исследовательский анализ данных"
   ]
  },
  {
   "cell_type": "markdown",
   "metadata": {},
   "source": [
    "- Посмотрите, сколько игр выпускалось в разные годы. Важны ли данные за все периоды?\n",
    "- Посмотрите, как менялись продажи по платформам. Выберите платформы с наибольшими суммарными продажами и постройте распределение по годам. За какой характерный срок появляются новые и исчезают старые платформы?\n",
    "- Возьмите данные за соответствующий актуальный период. Актуальный период определите самостоятельно в результате исследования предыдущих вопросов. Основной фактор — эти данные помогут построить прогноз на 2017 год.\n",
    "- Не учитывайте в работе данные за предыдущие годы.\n",
    "- Какие платформы лидируют по продажам, растут или падают? Выберите несколько потенциально прибыльных платформ.\n",
    "- Постройте график «ящик с усами» по глобальным продажам игр в разбивке по платформам. Опишите результат.\n",
    "- Посмотрите, как влияют на продажи внутри одной популярной платформы отзывы пользователей и критиков. Постройте диаграмму рассеяния и посчитайте корреляцию между отзывами и продажами. Сформулируйте выводы.\n",
    "- Соотнесите выводы с продажами игр на других платформах.\n",
    "- Посмотрите на общее распределение игр по жанрам. Что можно сказать о самых прибыльных жанрах? Выделяются ли жанры с высокими и низкими продажами?"
   ]
  },
  {
   "cell_type": "markdown",
   "metadata": {},
   "source": [
    "### Посмотрите, сколько игр выпускалось в разные годы. Важны ли данные за все периоды?"
   ]
  },
  {
   "cell_type": "code",
   "execution_count": 24,
   "metadata": {},
   "outputs": [
    {
     "data": {
      "text/html": [
       "<div>\n",
       "<style scoped>\n",
       "    .dataframe tbody tr th:only-of-type {\n",
       "        vertical-align: middle;\n",
       "    }\n",
       "\n",
       "    .dataframe tbody tr th {\n",
       "        vertical-align: top;\n",
       "    }\n",
       "\n",
       "    .dataframe thead th {\n",
       "        text-align: right;\n",
       "    }\n",
       "</style>\n",
       "<table border=\"1\" class=\"dataframe\">\n",
       "  <thead>\n",
       "    <tr style=\"text-align: right;\">\n",
       "      <th></th>\n",
       "      <th>name</th>\n",
       "    </tr>\n",
       "    <tr>\n",
       "      <th>year_of_release</th>\n",
       "      <th></th>\n",
       "    </tr>\n",
       "  </thead>\n",
       "  <tbody>\n",
       "    <tr>\n",
       "      <th>1980</th>\n",
       "      <td>9</td>\n",
       "    </tr>\n",
       "    <tr>\n",
       "      <th>1981</th>\n",
       "      <td>46</td>\n",
       "    </tr>\n",
       "    <tr>\n",
       "      <th>1982</th>\n",
       "      <td>36</td>\n",
       "    </tr>\n",
       "    <tr>\n",
       "      <th>1983</th>\n",
       "      <td>17</td>\n",
       "    </tr>\n",
       "    <tr>\n",
       "      <th>1984</th>\n",
       "      <td>14</td>\n",
       "    </tr>\n",
       "    <tr>\n",
       "      <th>1985</th>\n",
       "      <td>14</td>\n",
       "    </tr>\n",
       "    <tr>\n",
       "      <th>1986</th>\n",
       "      <td>21</td>\n",
       "    </tr>\n",
       "    <tr>\n",
       "      <th>1987</th>\n",
       "      <td>16</td>\n",
       "    </tr>\n",
       "    <tr>\n",
       "      <th>1988</th>\n",
       "      <td>15</td>\n",
       "    </tr>\n",
       "    <tr>\n",
       "      <th>1989</th>\n",
       "      <td>17</td>\n",
       "    </tr>\n",
       "    <tr>\n",
       "      <th>1990</th>\n",
       "      <td>16</td>\n",
       "    </tr>\n",
       "    <tr>\n",
       "      <th>1991</th>\n",
       "      <td>41</td>\n",
       "    </tr>\n",
       "    <tr>\n",
       "      <th>1992</th>\n",
       "      <td>43</td>\n",
       "    </tr>\n",
       "    <tr>\n",
       "      <th>1993</th>\n",
       "      <td>60</td>\n",
       "    </tr>\n",
       "    <tr>\n",
       "      <th>1994</th>\n",
       "      <td>121</td>\n",
       "    </tr>\n",
       "    <tr>\n",
       "      <th>1995</th>\n",
       "      <td>219</td>\n",
       "    </tr>\n",
       "    <tr>\n",
       "      <th>1996</th>\n",
       "      <td>263</td>\n",
       "    </tr>\n",
       "    <tr>\n",
       "      <th>1997</th>\n",
       "      <td>289</td>\n",
       "    </tr>\n",
       "    <tr>\n",
       "      <th>1998</th>\n",
       "      <td>379</td>\n",
       "    </tr>\n",
       "    <tr>\n",
       "      <th>1999</th>\n",
       "      <td>338</td>\n",
       "    </tr>\n",
       "    <tr>\n",
       "      <th>2000</th>\n",
       "      <td>350</td>\n",
       "    </tr>\n",
       "    <tr>\n",
       "      <th>2001</th>\n",
       "      <td>482</td>\n",
       "    </tr>\n",
       "    <tr>\n",
       "      <th>2002</th>\n",
       "      <td>829</td>\n",
       "    </tr>\n",
       "    <tr>\n",
       "      <th>2003</th>\n",
       "      <td>775</td>\n",
       "    </tr>\n",
       "    <tr>\n",
       "      <th>2004</th>\n",
       "      <td>762</td>\n",
       "    </tr>\n",
       "    <tr>\n",
       "      <th>2005</th>\n",
       "      <td>939</td>\n",
       "    </tr>\n",
       "    <tr>\n",
       "      <th>2006</th>\n",
       "      <td>1006</td>\n",
       "    </tr>\n",
       "    <tr>\n",
       "      <th>2007</th>\n",
       "      <td>1197</td>\n",
       "    </tr>\n",
       "    <tr>\n",
       "      <th>2008</th>\n",
       "      <td>1427</td>\n",
       "    </tr>\n",
       "    <tr>\n",
       "      <th>2009</th>\n",
       "      <td>1426</td>\n",
       "    </tr>\n",
       "    <tr>\n",
       "      <th>2010</th>\n",
       "      <td>1255</td>\n",
       "    </tr>\n",
       "    <tr>\n",
       "      <th>2011</th>\n",
       "      <td>1136</td>\n",
       "    </tr>\n",
       "    <tr>\n",
       "      <th>2012</th>\n",
       "      <td>653</td>\n",
       "    </tr>\n",
       "    <tr>\n",
       "      <th>2013</th>\n",
       "      <td>544</td>\n",
       "    </tr>\n",
       "    <tr>\n",
       "      <th>2014</th>\n",
       "      <td>581</td>\n",
       "    </tr>\n",
       "    <tr>\n",
       "      <th>2015</th>\n",
       "      <td>606</td>\n",
       "    </tr>\n",
       "    <tr>\n",
       "      <th>2016</th>\n",
       "      <td>502</td>\n",
       "    </tr>\n",
       "  </tbody>\n",
       "</table>\n",
       "</div>"
      ],
      "text/plain": [
       "                 name\n",
       "year_of_release      \n",
       "1980                9\n",
       "1981               46\n",
       "1982               36\n",
       "1983               17\n",
       "1984               14\n",
       "1985               14\n",
       "1986               21\n",
       "1987               16\n",
       "1988               15\n",
       "1989               17\n",
       "1990               16\n",
       "1991               41\n",
       "1992               43\n",
       "1993               60\n",
       "1994              121\n",
       "1995              219\n",
       "1996              263\n",
       "1997              289\n",
       "1998              379\n",
       "1999              338\n",
       "2000              350\n",
       "2001              482\n",
       "2002              829\n",
       "2003              775\n",
       "2004              762\n",
       "2005              939\n",
       "2006             1006\n",
       "2007             1197\n",
       "2008             1427\n",
       "2009             1426\n",
       "2010             1255\n",
       "2011             1136\n",
       "2012              653\n",
       "2013              544\n",
       "2014              581\n",
       "2015              606\n",
       "2016              502"
      ]
     },
     "execution_count": 24,
     "metadata": {},
     "output_type": "execute_result"
    }
   ],
   "source": [
    "#Группируем таблицу по годам, для каждого находим количество\n",
    "data.pivot_table(index='year_of_release', values='name', aggfunc='count')"
   ]
  },
  {
   "cell_type": "code",
   "execution_count": 25,
   "metadata": {},
   "outputs": [
    {
     "data": {
      "image/png": "[encoded data removed]",
      "text/plain": [
       "<Figure size 864x360 with 1 Axes>"
      ]
     },
     "metadata": {
      "needs_background": "light"
     },
     "output_type": "display_data"
    }
   ],
   "source": [
    "#Построим график\n",
    "plt.figure(figsize=(12,5))\n",
    "plt.plot(data.pivot_table(index='year_of_release', values='name', aggfunc='count'), label='Выпуск игр')\n",
    "plt.legend()\n",
    "plt.xlabel('Год выпуска')\n",
    "plt.ylabel('Количество')\n",
    "plt.show()"
   ]
  },
  {
   "cell_type": "markdown",
   "metadata": {},
   "source": [
    "До 1990 года количество игр выпускалось достаточно мало, их можно не брать в расчет. Настоящий бум наступил с 2000-х годов с развитием и доступностью компюьтеров."
   ]
  },
  {
   "cell_type": "code",
   "execution_count": 26,
   "metadata": {
    "scrolled": true
   },
   "outputs": [],
   "source": [
    "#Дальше будем работать с данными от 1990 года\n",
    "data_1990 = data.query('year_of_release > 1990')"
   ]
  },
  {
   "cell_type": "markdown",
   "metadata": {},
   "source": [
    "### Посмотрите, как менялись продажи по платформам. Выберите платформы с наибольшими суммарными продажами и постройте распределение по годам. За какой характерный срок появляются новые и исчезают старые платформы?"
   ]
  },
  {
   "cell_type": "code",
   "execution_count": 27,
   "metadata": {},
   "outputs": [
    {
     "data": {
      "image/png": "[encoded data removed]",
      "text/plain": [
       "<Figure size 1440x720 with 1 Axes>"
      ]
     },
     "metadata": {
      "needs_background": "light"
     },
     "output_type": "display_data"
    }
   ],
   "source": [
    "#Группируем таблицу по платформам, для каждой находим сумму\n",
    "platform_sales_pivot = data_1990.pivot_table(index='platform', values = 'total_sales', aggfunc='sum').sort_values(by='total_sales', ascending=False)\n",
    "\n",
    "#Строим гистограмму\n",
    "plt.figure(figsize=(20, 10))\n",
    "sns.barplot(x=platform_sales_pivot.index, y=platform_sales_pivot['total_sales'])\n",
    "plt.title(\"Суммарные продажи по платформам\")\n",
    "plt.xlabel('Платформы')\n",
    "plt.ylabel('Продажи')\n",
    "plt.show()"
   ]
  },
  {
   "cell_type": "code",
   "execution_count": 28,
   "metadata": {},
   "outputs": [
    {
     "data": {
      "text/html": [
       "<div>\n",
       "<style scoped>\n",
       "    .dataframe tbody tr th:only-of-type {\n",
       "        vertical-align: middle;\n",
       "    }\n",
       "\n",
       "    .dataframe tbody tr th {\n",
       "        vertical-align: top;\n",
       "    }\n",
       "\n",
       "    .dataframe thead th {\n",
       "        text-align: right;\n",
       "    }\n",
       "</style>\n",
       "<table border=\"1\" class=\"dataframe\">\n",
       "  <thead>\n",
       "    <tr style=\"text-align: right;\">\n",
       "      <th></th>\n",
       "      <th>total_sales</th>\n",
       "    </tr>\n",
       "    <tr>\n",
       "      <th>platform</th>\n",
       "      <th></th>\n",
       "    </tr>\n",
       "  </thead>\n",
       "  <tbody>\n",
       "    <tr>\n",
       "      <th>PS2</th>\n",
       "      <td>1233.56</td>\n",
       "    </tr>\n",
       "    <tr>\n",
       "      <th>X360</th>\n",
       "      <td>961.24</td>\n",
       "    </tr>\n",
       "    <tr>\n",
       "      <th>PS3</th>\n",
       "      <td>931.34</td>\n",
       "    </tr>\n",
       "    <tr>\n",
       "      <th>Wii</th>\n",
       "      <td>891.18</td>\n",
       "    </tr>\n",
       "    <tr>\n",
       "      <th>DS</th>\n",
       "      <td>802.76</td>\n",
       "    </tr>\n",
       "    <tr>\n",
       "      <th>PS</th>\n",
       "      <td>727.58</td>\n",
       "    </tr>\n",
       "    <tr>\n",
       "      <th>PS4</th>\n",
       "      <td>314.14</td>\n",
       "    </tr>\n",
       "    <tr>\n",
       "      <th>GBA</th>\n",
       "      <td>312.88</td>\n",
       "    </tr>\n",
       "    <tr>\n",
       "      <th>PSP</th>\n",
       "      <td>289.53</td>\n",
       "    </tr>\n",
       "    <tr>\n",
       "      <th>3DS</th>\n",
       "      <td>257.81</td>\n",
       "    </tr>\n",
       "    <tr>\n",
       "      <th>PC</th>\n",
       "      <td>255.69</td>\n",
       "    </tr>\n",
       "    <tr>\n",
       "      <th>XB</th>\n",
       "      <td>251.57</td>\n",
       "    </tr>\n",
       "    <tr>\n",
       "      <th>N64</th>\n",
       "      <td>218.01</td>\n",
       "    </tr>\n",
       "    <tr>\n",
       "      <th>GC</th>\n",
       "      <td>196.73</td>\n",
       "    </tr>\n",
       "    <tr>\n",
       "      <th>GB</th>\n",
       "      <td>183.14</td>\n",
       "    </tr>\n",
       "    <tr>\n",
       "      <th>SNES</th>\n",
       "      <td>173.89</td>\n",
       "    </tr>\n",
       "    <tr>\n",
       "      <th>XOne</th>\n",
       "      <td>159.32</td>\n",
       "    </tr>\n",
       "    <tr>\n",
       "      <th>WiiU</th>\n",
       "      <td>82.19</td>\n",
       "    </tr>\n",
       "    <tr>\n",
       "      <th>PSV</th>\n",
       "      <td>53.81</td>\n",
       "    </tr>\n",
       "    <tr>\n",
       "      <th>SAT</th>\n",
       "      <td>33.59</td>\n",
       "    </tr>\n",
       "    <tr>\n",
       "      <th>GEN</th>\n",
       "      <td>25.75</td>\n",
       "    </tr>\n",
       "    <tr>\n",
       "      <th>DC</th>\n",
       "      <td>15.95</td>\n",
       "    </tr>\n",
       "    <tr>\n",
       "      <th>NES</th>\n",
       "      <td>11.81</td>\n",
       "    </tr>\n",
       "    <tr>\n",
       "      <th>SCD</th>\n",
       "      <td>1.86</td>\n",
       "    </tr>\n",
       "    <tr>\n",
       "      <th>NG</th>\n",
       "      <td>1.44</td>\n",
       "    </tr>\n",
       "    <tr>\n",
       "      <th>WS</th>\n",
       "      <td>1.42</td>\n",
       "    </tr>\n",
       "    <tr>\n",
       "      <th>TG16</th>\n",
       "      <td>0.16</td>\n",
       "    </tr>\n",
       "    <tr>\n",
       "      <th>3DO</th>\n",
       "      <td>0.10</td>\n",
       "    </tr>\n",
       "    <tr>\n",
       "      <th>GG</th>\n",
       "      <td>0.04</td>\n",
       "    </tr>\n",
       "    <tr>\n",
       "      <th>PCFX</th>\n",
       "      <td>0.03</td>\n",
       "    </tr>\n",
       "  </tbody>\n",
       "</table>\n",
       "</div>"
      ],
      "text/plain": [
       "          total_sales\n",
       "platform             \n",
       "PS2           1233.56\n",
       "X360           961.24\n",
       "PS3            931.34\n",
       "Wii            891.18\n",
       "DS             802.76\n",
       "PS             727.58\n",
       "PS4            314.14\n",
       "GBA            312.88\n",
       "PSP            289.53\n",
       "3DS            257.81\n",
       "PC             255.69\n",
       "XB             251.57\n",
       "N64            218.01\n",
       "GC             196.73\n",
       "GB             183.14\n",
       "SNES           173.89\n",
       "XOne           159.32\n",
       "WiiU            82.19\n",
       "PSV             53.81\n",
       "SAT             33.59\n",
       "GEN             25.75\n",
       "DC              15.95\n",
       "NES             11.81\n",
       "SCD              1.86\n",
       "NG               1.44\n",
       "WS               1.42\n",
       "TG16             0.16\n",
       "3DO              0.10\n",
       "GG               0.04\n",
       "PCFX             0.03"
      ]
     },
     "execution_count": 28,
     "metadata": {},
     "output_type": "execute_result"
    }
   ],
   "source": [
    "#Отобразим в таблице\n",
    "platform_sales_pivot"
   ]
  },
  {
   "cell_type": "markdown",
   "metadata": {},
   "source": [
    "Платформы с наибольшими суммарными продажами: PS2, X360, PS3, Wii, DS, PS"
   ]
  },
  {
   "cell_type": "code",
   "execution_count": 29,
   "metadata": {
    "scrolled": true
   },
   "outputs": [],
   "source": [
    "#Выберем топ платформ\n",
    "platform_sales_top_pivot = platform_sales_pivot.query('total_sales > 100').index"
   ]
  },
  {
   "cell_type": "code",
   "execution_count": 30,
   "metadata": {},
   "outputs": [
    {
     "data": {
      "image/png": "[encoded data removed]",
      "text/plain": [
       "<Figure size 1440x720 with 1 Axes>"
      ]
     },
     "metadata": {
      "needs_background": "light"
     },
     "output_type": "display_data"
    }
   ],
   "source": [
    "#Построим график топ платформ\n",
    "platform_sales_pivot = data[data['platform'].isin(platform_sales_top_pivot)]\n",
    "platform_sales_pivot = platform_sales_pivot.pivot_table(index='year_of_release', columns='platform', values='total_sales', aggfunc='sum').plot(grid=True, figsize=(20, 10))\n",
    "plt.title(\"Количество продаж топ платформ\")\n",
    "plt.xlabel('Год выпуска')\n",
    "plt.ylabel('Количество')\n",
    "plt.show()"
   ]
  },
  {
   "cell_type": "markdown",
   "metadata": {},
   "source": [
    "В среднем по графику срок жизни платформы 10-11 лет. Исключим из списка PS и PS2, так как они уже ушли в далекое прошлое и возьмем актуальный период от 2004 года."
   ]
  },
  {
   "cell_type": "code",
   "execution_count": 31,
   "metadata": {
    "scrolled": true
   },
   "outputs": [],
   "source": [
    "#Создадим список актуальных платформ\n",
    "list_top4 = ['PS4','PS3','XOne','3DS','X360']\n",
    "#Сделаем выборку только с данными платформами от 2013 года\n",
    "data_2013 = data[data['platform'].isin(list_top4)]\n",
    "data_2013 = data_2013[(data_2013['year_of_release'] >= 2013)]"
   ]
  },
  {
   "cell_type": "markdown",
   "metadata": {},
   "source": [
    "Исходя из графика выберем топ платформ PS4, PS3, XOne, 3DS, X360"
   ]
  },
  {
   "cell_type": "markdown",
   "metadata": {},
   "source": [
    "### Постройте график «ящик с усами» по глобальным продажам игр в разбивке по платформам. Опишите результат."
   ]
  },
  {
   "cell_type": "code",
   "execution_count": 32,
   "metadata": {
    "scrolled": true
   },
   "outputs": [
    {
     "data": {
      "text/plain": [
       "count    1473.000000\n",
       "mean        0.634718\n",
       "std         1.454708\n",
       "min         0.010000\n",
       "25%         0.050000\n",
       "50%         0.170000\n",
       "75%         0.580000\n",
       "max        21.050000\n",
       "Name: total_sales, dtype: float64"
      ]
     },
     "execution_count": 32,
     "metadata": {},
     "output_type": "execute_result"
    }
   ],
   "source": [
    "data_2013['total_sales'].describe()"
   ]
  },
  {
   "cell_type": "code",
   "execution_count": 33,
   "metadata": {},
   "outputs": [
    {
     "data": {
      "image/png": "[encoded data removed]",
      "text/plain": [
       "<Figure size 864x720 with 1 Axes>"
      ]
     },
     "metadata": {
      "needs_background": "light"
     },
     "output_type": "display_data"
    }
   ],
   "source": [
    "#Построим диаграмму размаха (график «ящик с усами»)\n",
    "plt.figure(figsize=(12,10))\n",
    "sns.boxplot(data=data_2013, x='platform', y='total_sales')\n",
    "plt.title('Диаграмма размаха \"Ящик с усами\"')\n",
    "plt.xlabel('Платформа')\n",
    "plt.ylabel('Продажи')\n",
    "plt.ylim(0, 3)\n",
    "plt.show()"
   ]
  },
  {
   "cell_type": "markdown",
   "metadata": {},
   "source": [
    "Топ платформ по продажам распределились следующим образом: X360, PS4, XOne, PS3, 3DS"
   ]
  },
  {
   "cell_type": "markdown",
   "metadata": {},
   "source": [
    "### Посмотрите, как влияют на продажи внутри одной популярной платформы отзывы пользователей и критиков. Постройте диаграмму рассеяния и посчитайте корреляцию между отзывами и продажами. Сформулируйте выводы."
   ]
  },
  {
   "cell_type": "code",
   "execution_count": 34,
   "metadata": {
    "scrolled": true
   },
   "outputs": [],
   "source": [
    "#Для расчетов возьмем самую популярную платформу X360\n",
    "data_x360 = data_2013[data_2013['platform'] == 'X360']"
   ]
  },
  {
   "cell_type": "code",
   "execution_count": 35,
   "metadata": {
    "scrolled": true
   },
   "outputs": [
    {
     "data": {
      "text/plain": [
       "-0.011742185147181342"
      ]
     },
     "execution_count": 35,
     "metadata": {},
     "output_type": "execute_result"
    }
   ],
   "source": [
    "#Влияние на продажи отзывов пользователей\n",
    "data_x360['user_score'].corr(data_x360['total_sales'])"
   ]
  },
  {
   "cell_type": "code",
   "execution_count": 36,
   "metadata": {
    "scrolled": true
   },
   "outputs": [
    {
     "data": {
      "text/plain": [
       "0.3503445460228664"
      ]
     },
     "execution_count": 36,
     "metadata": {},
     "output_type": "execute_result"
    }
   ],
   "source": [
    "#Влияние на продажи отзывов критиков\n",
    "data_x360['critic_score'].corr(data_x360['total_sales'])"
   ]
  },
  {
   "cell_type": "code",
   "execution_count": 37,
   "metadata": {},
   "outputs": [
    {
     "data": {
      "image/png": "[encoded data removed]",
      "text/plain": [
       "<Figure size 864x432 with 1 Axes>"
      ]
     },
     "metadata": {
      "needs_background": "light"
     },
     "output_type": "display_data"
    }
   ],
   "source": [
    "#Построим диаграмму рассеяния влияния на продажи отзывов пользователей\n",
    "plt.figure(figsize=(12,6))\n",
    "sns.scatterplot(data=data_x360, x='user_score', y='total_sales', alpha=0.7)\n",
    "plt.title('Влияние на продажи отзывов пользователей')\n",
    "plt.xlabel('Отзывы пользователей')\n",
    "plt.ylabel('Продажи')\n",
    "plt.show()"
   ]
  },
  {
   "cell_type": "code",
   "execution_count": 38,
   "metadata": {},
   "outputs": [
    {
     "data": {
      "image/png": "[encoded data removed]",
      "text/plain": [
       "<Figure size 864x432 with 1 Axes>"
      ]
     },
     "metadata": {
      "needs_background": "light"
     },
     "output_type": "display_data"
    }
   ],
   "source": [
    "#Построим диаграмму рассеяния влияния на продажи отзывов критиков\n",
    "plt.figure(figsize=(12,6))\n",
    "sns.scatterplot(data=data_x360, x='critic_score', y='total_sales', alpha=0.7)\n",
    "plt.title('Влияние на продажи отзывов критиков')\n",
    "plt.xlabel('Отзывы критиков')\n",
    "plt.ylabel('Продажи')\n",
    "plt.show()"
   ]
  },
  {
   "cell_type": "markdown",
   "metadata": {},
   "source": [
    "Влияние на продажи отзывов пользователей слабая, влияние на продажи отзывов критиков умеренная. Можно сказать, что мнение критиков намного сильнее влияет на продажи, чем отзывы обычных пользователей."
   ]
  },
  {
   "cell_type": "markdown",
   "metadata": {},
   "source": [
    "### Соотнесите выводы с продажами игр на других платформах."
   ]
  },
  {
   "cell_type": "code",
   "execution_count": 39,
   "metadata": {
    "scrolled": true
   },
   "outputs": [],
   "source": [
    "#Напишем функциию для корреляции и построения графиков\n",
    "def func_corr(name_platform):   \n",
    "    data_name_platform = data_2013[data_2013['platform'] == name_platform]\n",
    "    print(name_platform)\n",
    "    print('Влияние на продажи отзывов пользователей ', data_name_platform['user_score'].corr(data_name_platform['total_sales']))\n",
    "    print('Влияние на продажи отзывов критиков ', data_name_platform['critic_score'].corr(data_name_platform['total_sales']))\n",
    "    print('\\n')\n",
    "    \n",
    "    #Построим диаграмму рассеяния влияния на продажи отзывов пользователей\n",
    "    plt.figure(figsize=(12,6))\n",
    "    sns.scatterplot(data=data_name_platform, x='user_score', y='total_sales', alpha=0.7)\n",
    "    plt.title('Влияние на продажи отзывов пользователей')\n",
    "    plt.xlabel('Отзывы пользователей')\n",
    "    plt.ylabel('Продажи')\n",
    "    plt.show()\n",
    "    \n",
    "    #Построим диаграмму рассеяния влияния на продажи отзывов критиков\n",
    "    plt.figure(figsize=(12,6))\n",
    "    sns.scatterplot(data=data_name_platform, x='critic_score', y='total_sales', alpha=0.7)\n",
    "    plt.title('Влияние на продажи отзывов критиков')\n",
    "    plt.xlabel('Отзывы критиков')\n",
    "    plt.ylabel('Продажи')\n",
    "    plt.show()"
   ]
  },
  {
   "cell_type": "code",
   "execution_count": 40,
   "metadata": {},
   "outputs": [
    {
     "name": "stdout",
     "output_type": "stream",
     "text": [
      "PS4\n",
      "Влияние на продажи отзывов пользователей  -0.031957110204556376\n",
      "Влияние на продажи отзывов критиков  0.40656790206178095\n",
      "\n",
      "\n"
     ]
    },
    {
     "data": {
      "image/png": "[encoded data removed]",
      "text/plain": [
       "<Figure size 864x432 with 1 Axes>"
      ]
     },
     "metadata": {
      "needs_background": "light"
     },
     "output_type": "display_data"
    },
    {
     "data": {
      "image/png": "[encoded data removed]",
      "text/plain": [
       "<Figure size 864x432 with 1 Axes>"
      ]
     },
     "metadata": {
      "needs_background": "light"
     },
     "output_type": "display_data"
    },
    {
     "name": "stdout",
     "output_type": "stream",
     "text": [
      "PS3\n",
      "Влияние на продажи отзывов пользователей  0.0023944027357566925\n",
      "Влияние на продажи отзывов критиков  0.3342853393371919\n",
      "\n",
      "\n"
     ]
    },
    {
     "data": {
      "image/png": "[encoded data removed]",
      "text/plain": [
       "<Figure size 864x432 with 1 Axes>"
      ]
     },
     "metadata": {
      "needs_background": "light"
     },
     "output_type": "display_data"
    },
    {
     "data": {
      "image/png": "[encoded data removed]",
      "text/plain": [
       "<Figure size 864x432 with 1 Axes>"
      ]
     },
     "metadata": {
      "needs_background": "light"
     },
     "output_type": "display_data"
    },
    {
     "name": "stdout",
     "output_type": "stream",
     "text": [
      "XOne\n",
      "Влияние на продажи отзывов пользователей  -0.06892505328279414\n",
      "Влияние на продажи отзывов критиков  0.4169983280084017\n",
      "\n",
      "\n"
     ]
    },
    {
     "data": {
      "image/png": "[encoded data removed]",
      "text/plain": [
       "<Figure size 864x432 with 1 Axes>"
      ]
     },
     "metadata": {
      "needs_background": "light"
     },
     "output_type": "display_data"
    },
    {
     "data": {
      "image/png": "[encoded data removed]",
      "text/plain": [
       "<Figure size 864x432 with 1 Axes>"
      ]
     },
     "metadata": {
      "needs_background": "light"
     },
     "output_type": "display_data"
    },
    {
     "name": "stdout",
     "output_type": "stream",
     "text": [
      "3DS\n",
      "Влияние на продажи отзывов пользователей  0.24150411773563016\n",
      "Влияние на продажи отзывов критиков  0.3570566142288103\n",
      "\n",
      "\n"
     ]
    },
    {
     "data": {
      "image/png": "[encoded data removed]",
      "text/plain": [
       "<Figure size 864x432 with 1 Axes>"
      ]
     },
     "metadata": {
      "needs_background": "light"
     },
     "output_type": "display_data"
    },
    {
     "data": {
      "image/png": "[encoded data removed]",
      "text/plain": [
       "<Figure size 864x432 with 1 Axes>"
      ]
     },
     "metadata": {
      "needs_background": "light"
     },
     "output_type": "display_data"
    }
   ],
   "source": [
    "#Выведем для оставшихся из топа платформ\n",
    "for name_pl in ['PS4','PS3','XOne','3DS']:\n",
    "    func_corr(name_pl)    "
   ]
  },
  {
   "cell_type": "markdown",
   "metadata": {},
   "source": [
    "По другим платформам ситуация немного отличается, но общий вывод такой же, критики влияют сильнее. Исключением выглядет XOne, влияние отзывов пользователей выглядет довольно странно."
   ]
  },
  {
   "cell_type": "markdown",
   "metadata": {},
   "source": [
    "### Посмотрите на общее распределение игр по жанрам. Что можно сказать о самых прибыльных жанрах? Выделяются ли жанры с высокими и низкими продажами?"
   ]
  },
  {
   "cell_type": "code",
   "execution_count": 41,
   "metadata": {},
   "outputs": [
    {
     "data": {
      "text/html": [
       "<div>\n",
       "<style scoped>\n",
       "    .dataframe tbody tr th:only-of-type {\n",
       "        vertical-align: middle;\n",
       "    }\n",
       "\n",
       "    .dataframe tbody tr th {\n",
       "        vertical-align: top;\n",
       "    }\n",
       "\n",
       "    .dataframe thead th {\n",
       "        text-align: right;\n",
       "    }\n",
       "</style>\n",
       "<table border=\"1\" class=\"dataframe\">\n",
       "  <thead>\n",
       "    <tr style=\"text-align: right;\">\n",
       "      <th></th>\n",
       "      <th>total_sales</th>\n",
       "    </tr>\n",
       "    <tr>\n",
       "      <th>genre</th>\n",
       "      <th></th>\n",
       "    </tr>\n",
       "  </thead>\n",
       "  <tbody>\n",
       "    <tr>\n",
       "      <th>Action</th>\n",
       "      <td>521</td>\n",
       "    </tr>\n",
       "    <tr>\n",
       "      <th>Role-Playing</th>\n",
       "      <td>184</td>\n",
       "    </tr>\n",
       "    <tr>\n",
       "      <th>Sports</th>\n",
       "      <td>170</td>\n",
       "    </tr>\n",
       "    <tr>\n",
       "      <th>Shooter</th>\n",
       "      <td>145</td>\n",
       "    </tr>\n",
       "    <tr>\n",
       "      <th>Adventure</th>\n",
       "      <td>110</td>\n",
       "    </tr>\n",
       "    <tr>\n",
       "      <th>Misc</th>\n",
       "      <td>98</td>\n",
       "    </tr>\n",
       "    <tr>\n",
       "      <th>Racing</th>\n",
       "      <td>64</td>\n",
       "    </tr>\n",
       "    <tr>\n",
       "      <th>Fighting</th>\n",
       "      <td>63</td>\n",
       "    </tr>\n",
       "    <tr>\n",
       "      <th>Platform</th>\n",
       "      <td>47</td>\n",
       "    </tr>\n",
       "    <tr>\n",
       "      <th>Simulation</th>\n",
       "      <td>35</td>\n",
       "    </tr>\n",
       "    <tr>\n",
       "      <th>Strategy</th>\n",
       "      <td>25</td>\n",
       "    </tr>\n",
       "    <tr>\n",
       "      <th>Puzzle</th>\n",
       "      <td>11</td>\n",
       "    </tr>\n",
       "  </tbody>\n",
       "</table>\n",
       "</div>"
      ],
      "text/plain": [
       "              total_sales\n",
       "genre                    \n",
       "Action                521\n",
       "Role-Playing          184\n",
       "Sports                170\n",
       "Shooter               145\n",
       "Adventure             110\n",
       "Misc                   98\n",
       "Racing                 64\n",
       "Fighting               63\n",
       "Platform               47\n",
       "Simulation             35\n",
       "Strategy               25\n",
       "Puzzle                 11"
      ]
     },
     "execution_count": 41,
     "metadata": {},
     "output_type": "execute_result"
    }
   ],
   "source": [
    "#Группируем таблицу по жанрам, и посчитаем количество\n",
    "platform_sales_pivot = data_2013.pivot_table(index='genre', values = 'total_sales', aggfunc='count').sort_values(by='total_sales', ascending=False)\n",
    "platform_sales_pivot"
   ]
  },
  {
   "cell_type": "code",
   "execution_count": 42,
   "metadata": {},
   "outputs": [
    {
     "data": {
      "text/html": [
       "<div>\n",
       "<style scoped>\n",
       "    .dataframe tbody tr th:only-of-type {\n",
       "        vertical-align: middle;\n",
       "    }\n",
       "\n",
       "    .dataframe tbody tr th {\n",
       "        vertical-align: top;\n",
       "    }\n",
       "\n",
       "    .dataframe thead th {\n",
       "        text-align: right;\n",
       "    }\n",
       "</style>\n",
       "<table border=\"1\" class=\"dataframe\">\n",
       "  <thead>\n",
       "    <tr style=\"text-align: right;\">\n",
       "      <th></th>\n",
       "      <th>total_sales</th>\n",
       "    </tr>\n",
       "    <tr>\n",
       "      <th>genre</th>\n",
       "      <th></th>\n",
       "    </tr>\n",
       "  </thead>\n",
       "  <tbody>\n",
       "    <tr>\n",
       "      <th>Action</th>\n",
       "      <td>285.96</td>\n",
       "    </tr>\n",
       "    <tr>\n",
       "      <th>Shooter</th>\n",
       "      <td>216.22</td>\n",
       "    </tr>\n",
       "    <tr>\n",
       "      <th>Sports</th>\n",
       "      <td>142.48</td>\n",
       "    </tr>\n",
       "    <tr>\n",
       "      <th>Role-Playing</th>\n",
       "      <td>127.83</td>\n",
       "    </tr>\n",
       "    <tr>\n",
       "      <th>Misc</th>\n",
       "      <td>43.57</td>\n",
       "    </tr>\n",
       "    <tr>\n",
       "      <th>Racing</th>\n",
       "      <td>31.46</td>\n",
       "    </tr>\n",
       "    <tr>\n",
       "      <th>Fighting</th>\n",
       "      <td>27.91</td>\n",
       "    </tr>\n",
       "    <tr>\n",
       "      <th>Platform</th>\n",
       "      <td>22.88</td>\n",
       "    </tr>\n",
       "    <tr>\n",
       "      <th>Adventure</th>\n",
       "      <td>18.59</td>\n",
       "    </tr>\n",
       "    <tr>\n",
       "      <th>Simulation</th>\n",
       "      <td>13.05</td>\n",
       "    </tr>\n",
       "    <tr>\n",
       "      <th>Strategy</th>\n",
       "      <td>3.20</td>\n",
       "    </tr>\n",
       "    <tr>\n",
       "      <th>Puzzle</th>\n",
       "      <td>1.79</td>\n",
       "    </tr>\n",
       "  </tbody>\n",
       "</table>\n",
       "</div>"
      ],
      "text/plain": [
       "              total_sales\n",
       "genre                    \n",
       "Action             285.96\n",
       "Shooter            216.22\n",
       "Sports             142.48\n",
       "Role-Playing       127.83\n",
       "Misc                43.57\n",
       "Racing              31.46\n",
       "Fighting            27.91\n",
       "Platform            22.88\n",
       "Adventure           18.59\n",
       "Simulation          13.05\n",
       "Strategy             3.20\n",
       "Puzzle               1.79"
      ]
     },
     "execution_count": 42,
     "metadata": {},
     "output_type": "execute_result"
    }
   ],
   "source": [
    "#Группируем таблицу по жанрам, и посчитаем сумму\n",
    "platform_genre_pivot = data_2013.pivot_table(index='genre', values = 'total_sales', aggfunc='sum').sort_values(by='total_sales', ascending=False)\n",
    "platform_genre_pivot"
   ]
  },
  {
   "cell_type": "code",
   "execution_count": 43,
   "metadata": {},
   "outputs": [
    {
     "data": {
      "image/png": "[encoded data removed]",
      "text/plain": [
       "<Figure size 1440x720 with 1 Axes>"
      ]
     },
     "metadata": {
      "needs_background": "light"
     },
     "output_type": "display_data"
    }
   ],
   "source": [
    "#Построим гистограмму\n",
    "plt.figure(figsize=(20, 10))\n",
    "sns.barplot(x=platform_genre_pivot.index, y=platform_genre_pivot['total_sales'])\n",
    "plt.title('Распределение игр по жанрам')\n",
    "plt.xlabel('Жанры')\n",
    "plt.ylabel('Продажи')\n",
    "plt.show()"
   ]
  },
  {
   "cell_type": "code",
   "execution_count": 44,
   "metadata": {},
   "outputs": [
    {
     "data": {
      "image/png": "[encoded data removed]",
      "text/plain": [
       "<Figure size 1440x720 with 1 Axes>"
      ]
     },
     "metadata": {
      "needs_background": "light"
     },
     "output_type": "display_data"
    }
   ],
   "source": [
    "#Построим диграмму размаха\n",
    "plt.figure(figsize=(20, 10))\n",
    "sns.boxplot(data=data_2013, x='genre', y='total_sales')\n",
    "plt.title('Распределение игр по жанрам')\n",
    "plt.xlabel('Жанры')\n",
    "plt.ylabel('Продажи')\n",
    "plt.ylim(0, 3)\n",
    "plt.show()"
   ]
  },
  {
   "cell_type": "code",
   "execution_count": 45,
   "metadata": {},
   "outputs": [
    {
     "data": {
      "text/html": [
       "<div>\n",
       "<style scoped>\n",
       "    .dataframe tbody tr th:only-of-type {\n",
       "        vertical-align: middle;\n",
       "    }\n",
       "\n",
       "    .dataframe tbody tr th {\n",
       "        vertical-align: top;\n",
       "    }\n",
       "\n",
       "    .dataframe thead tr th {\n",
       "        text-align: left;\n",
       "    }\n",
       "\n",
       "    .dataframe thead tr:last-of-type th {\n",
       "        text-align: right;\n",
       "    }\n",
       "</style>\n",
       "<table border=\"1\" class=\"dataframe\">\n",
       "  <thead>\n",
       "    <tr>\n",
       "      <th></th>\n",
       "      <th>mean</th>\n",
       "      <th>median</th>\n",
       "    </tr>\n",
       "    <tr>\n",
       "      <th></th>\n",
       "      <th>total_sales</th>\n",
       "      <th>total_sales</th>\n",
       "    </tr>\n",
       "    <tr>\n",
       "      <th>genre</th>\n",
       "      <th></th>\n",
       "      <th></th>\n",
       "    </tr>\n",
       "  </thead>\n",
       "  <tbody>\n",
       "    <tr>\n",
       "      <th>Shooter</th>\n",
       "      <td>1.491172</td>\n",
       "      <td>0.620</td>\n",
       "    </tr>\n",
       "    <tr>\n",
       "      <th>Sports</th>\n",
       "      <td>0.838118</td>\n",
       "      <td>0.365</td>\n",
       "    </tr>\n",
       "    <tr>\n",
       "      <th>Platform</th>\n",
       "      <td>0.486809</td>\n",
       "      <td>0.240</td>\n",
       "    </tr>\n",
       "    <tr>\n",
       "      <th>Racing</th>\n",
       "      <td>0.491563</td>\n",
       "      <td>0.180</td>\n",
       "    </tr>\n",
       "    <tr>\n",
       "      <th>Role-Playing</th>\n",
       "      <td>0.694728</td>\n",
       "      <td>0.180</td>\n",
       "    </tr>\n",
       "    <tr>\n",
       "      <th>Fighting</th>\n",
       "      <td>0.443016</td>\n",
       "      <td>0.150</td>\n",
       "    </tr>\n",
       "    <tr>\n",
       "      <th>Action</th>\n",
       "      <td>0.548868</td>\n",
       "      <td>0.140</td>\n",
       "    </tr>\n",
       "    <tr>\n",
       "      <th>Misc</th>\n",
       "      <td>0.444592</td>\n",
       "      <td>0.130</td>\n",
       "    </tr>\n",
       "    <tr>\n",
       "      <th>Simulation</th>\n",
       "      <td>0.372857</td>\n",
       "      <td>0.100</td>\n",
       "    </tr>\n",
       "    <tr>\n",
       "      <th>Strategy</th>\n",
       "      <td>0.128000</td>\n",
       "      <td>0.080</td>\n",
       "    </tr>\n",
       "    <tr>\n",
       "      <th>Puzzle</th>\n",
       "      <td>0.162727</td>\n",
       "      <td>0.070</td>\n",
       "    </tr>\n",
       "    <tr>\n",
       "      <th>Adventure</th>\n",
       "      <td>0.169000</td>\n",
       "      <td>0.060</td>\n",
       "    </tr>\n",
       "  </tbody>\n",
       "</table>\n",
       "</div>"
      ],
      "text/plain": [
       "                    mean      median\n",
       "             total_sales total_sales\n",
       "genre                               \n",
       "Shooter         1.491172       0.620\n",
       "Sports          0.838118       0.365\n",
       "Platform        0.486809       0.240\n",
       "Racing          0.491563       0.180\n",
       "Role-Playing    0.694728       0.180\n",
       "Fighting        0.443016       0.150\n",
       "Action          0.548868       0.140\n",
       "Misc            0.444592       0.130\n",
       "Simulation      0.372857       0.100\n",
       "Strategy        0.128000       0.080\n",
       "Puzzle          0.162727       0.070\n",
       "Adventure       0.169000       0.060"
      ]
     },
     "execution_count": 45,
     "metadata": {},
     "output_type": "execute_result"
    }
   ],
   "source": [
    "#Группируем таблицу по жанрам, и посчитаем средние и медианные продажи\n",
    "platform_genre_m_pivot = data_2013.pivot_table(index='genre', values = 'total_sales', aggfunc=['mean', 'median']).sort_values(by=('median', 'total_sales'), ascending=False)\n",
    "platform_genre_m_pivot"
   ]
  },
  {
   "cell_type": "markdown",
   "metadata": {},
   "source": [
    "По диаграмме размаха видно, что много выбросов. И топ по жанрам совсем другой. Для более точных данных добавили сравнение по средним и медианным продажам.\n",
    "\n",
    "Больше всего жанров: Action\t- 521, Role-Playing - 184, Sports - 170. Но по сумме продаж топ 3 отличается: Shooter - медианна продаж 0.62, Sports - медианна продаж 0.36, Platform - 0,24. Меньше всего продаж у жанров Puzzle и Adventure. Разры между Shooter и Adventure очень велик."
   ]
  },
  {
   "cell_type": "markdown",
   "metadata": {},
   "source": [
    "### Вывод"
   ]
  },
  {
   "cell_type": "markdown",
   "metadata": {},
   "source": [
    "Посмотрели сколько игр выпускалось в разные годы. До 1990 года количество игр выпускалось достаточно мало, их можно не брать в расчет. Настоящий бум наступил с 2000-х годов с развитием и доступностью компьютеров. \n",
    "\n",
    "Проверили, как менялись продажи по платформам. В среднем по графику срок жизни платформы 10-11 лет. Исключили из списка PS и PS2, так как они уже ушли в далекое прошлое и взяли актуальный период 2008-2011 года. \n",
    "\n",
    "Выбрали платформы лидирующие по продажам: PS4, PS3, XOne, 3DS, X360. Исходя из диаграммы размаха топ платформ по продажам распределились следующим образом: X360, PS4, XOne, PS3, 3DS. \n",
    "\n",
    "Исследовали влияние отзывов пользователей и критиков. Влияние на продажи отзывов пользователей слабая, влияние на продажи отзывов критиков умеренная. Можно сказать, что мнение критиков намного сильнее влияет на продажи, чем отзывы обычных пользователей.\n",
    "\n",
    "Посмотрите на общее распределение игр по жанрам. Больше всего жанров: Action - 521, Role-Playing - 184, Sports - 170. Но по сумме продаж топ 3 отличается: Shooter - медианна продаж 0.62, Sports - медианна продаж 0.36, Platform - 0,24. Меньше всего продаж у жанров Puzzle и Adventure. Разры между Shooter и Adventure очень велик."
   ]
  },
  {
   "cell_type": "markdown",
   "metadata": {},
   "source": [
    "## Составьте портрет пользователя каждого региона"
   ]
  },
  {
   "cell_type": "markdown",
   "metadata": {},
   "source": [
    "Определите для пользователя каждого региона (NA, EU, JP):\n",
    "- Самые популярные платформы (топ-5). Опишите различия в долях продаж.\n",
    "- Самые популярные жанры (топ-5). Поясните разницу.\n",
    "- Влияет ли рейтинг ESRB на продажи в отдельном регионе?"
   ]
  },
  {
   "cell_type": "markdown",
   "metadata": {},
   "source": [
    "### Самые популярные платформы (топ-5). Опишите различия в долях продаж."
   ]
  },
  {
   "cell_type": "code",
   "execution_count": 46,
   "metadata": {
    "scrolled": true
   },
   "outputs": [],
   "source": [
    "#Напишем функцию для графиков платформ по регионам\n",
    "def func_region_platform(region, title):\n",
    "    platform_region_pl_pivot = data_2013.pivot_table(index='platform', values = region, aggfunc='sum').sort_values(by=region, ascending=False)\n",
    "    platform_region_pl_pivot = platform_region_pl_pivot.head()\n",
    "    \n",
    "    plt.figure(figsize=(5, 3))\n",
    "    sns.barplot(x=platform_region_pl_pivot.index, y=platform_region_pl_pivot[region])\n",
    "    plt.title(title)\n",
    "    plt.xlabel('Платформы')\n",
    "    plt.ylabel('Продажи')\n",
    "    plt.show()"
   ]
  },
  {
   "cell_type": "code",
   "execution_count": 47,
   "metadata": {},
   "outputs": [
    {
     "data": {
      "image/png": "[encoded data removed]",
      "text/plain": [
       "<Figure size 360x216 with 1 Axes>"
      ]
     },
     "metadata": {
      "needs_background": "light"
     },
     "output_type": "display_data"
    },
    {
     "data": {
      "image/png": "[encoded data removed]",
      "text/plain": [
       "<Figure size 360x216 with 1 Axes>"
      ]
     },
     "metadata": {
      "needs_background": "light"
     },
     "output_type": "display_data"
    },
    {
     "data": {
      "image/png": "[encoded data removed]",
      "text/plain": [
       "<Figure size 360x216 with 1 Axes>"
      ]
     },
     "metadata": {
      "needs_background": "light"
     },
     "output_type": "display_data"
    }
   ],
   "source": [
    "#Выведем топ по регионам\n",
    "for name_reg_pl in ['na_sales','eu_sales','jp_sales']:\n",
    "    func_region_platform(name_reg_pl, name_reg_pl)  "
   ]
  },
  {
   "cell_type": "markdown",
   "metadata": {},
   "source": [
    "Топ 5 популярных платформ NA: PS4, XOne, X360, PS3, 3DS\n",
    "\n",
    "Топ 5 популярных платформ EU: PS4, PS3, XOne, X360, 3DS\n",
    "\n",
    "Топ 5 популярных платформ JP: 3DS, PS3, PS4, X360, XOne\n",
    "\n",
    "В NA разрыв равномерный. В EU отрыв PS4 довольно большой. В JP большой отрыв 3DS. Так же JP выделяется тем, что на первом месте платформа DS, в то время, как в NA и EU она на 5м месте."
   ]
  },
  {
   "cell_type": "markdown",
   "metadata": {},
   "source": [
    "### Самые популярные жанры (топ-5). Поясните разницу."
   ]
  },
  {
   "cell_type": "code",
   "execution_count": 48,
   "metadata": {
    "scrolled": true
   },
   "outputs": [],
   "source": [
    "#Напишем функцию для графиков жанров по регионам\n",
    "def func_region_genre(region, title):\n",
    "    platform_region_gen_pivot = data.pivot_table(index='genre', values = region, aggfunc='sum').sort_values(by=region, ascending=False)\n",
    "    platform_region_gen_pivot = platform_region_gen_pivot.head()\n",
    "    \n",
    "    plt.figure(figsize=(5, 3))\n",
    "    sns.barplot(x=platform_region_gen_pivot.index, y=platform_region_gen_pivot[region])\n",
    "    plt.title(title)\n",
    "    plt.xlabel('Платформы')\n",
    "    plt.ylabel('Продажи')\n",
    "    plt.show()"
   ]
  },
  {
   "cell_type": "code",
   "execution_count": 49,
   "metadata": {},
   "outputs": [
    {
     "data": {
      "image/png": "[encoded data removed]",
      "text/plain": [
       "<Figure size 360x216 with 1 Axes>"
      ]
     },
     "metadata": {
      "needs_background": "light"
     },
     "output_type": "display_data"
    },
    {
     "data": {
      "image/png": "[encoded data removed]",
      "text/plain": [
       "<Figure size 360x216 with 1 Axes>"
      ]
     },
     "metadata": {
      "needs_background": "light"
     },
     "output_type": "display_data"
    },
    {
     "data": {
      "image/png": "[encoded data removed]",
      "text/plain": [
       "<Figure size 360x216 with 1 Axes>"
      ]
     },
     "metadata": {
      "needs_background": "light"
     },
     "output_type": "display_data"
    }
   ],
   "source": [
    "#Выведем топ по регионам\n",
    "for name_reg_pl in ['na_sales','eu_sales','jp_sales']:\n",
    "    func_region_genre(name_reg_pl, name_reg_pl)  "
   ]
  },
  {
   "cell_type": "markdown",
   "metadata": {},
   "source": [
    "Топ 5 популярных жанров NA: action, sports, shooter, platform, misc\n",
    "\n",
    "Топ 5 популярных жанров EU: action, sports, shooter, racing, misc\n",
    "\n",
    "Топ 5 популярных жанров JP: role-playing, action, sports, platform, misc\n",
    "\n",
    "В NA и EU идет плавное распределение игр по жанрам и топ 3 одинаковый. А вот в JP с большим отрывом на первом месте жанр role-playing, что обусловленно особым менталитетом японцев."
   ]
  },
  {
   "cell_type": "markdown",
   "metadata": {},
   "source": [
    "### Влияет ли рейтинг ESRB на продажи в отдельном регионе?"
   ]
  },
  {
   "cell_type": "code",
   "execution_count": 50,
   "metadata": {},
   "outputs": [
    {
     "data": {
      "image/png": "[encoded data removed]",
      "text/plain": [
       "<Figure size 1440x720 with 1 Axes>"
      ]
     },
     "metadata": {
      "needs_background": "light"
     },
     "output_type": "display_data"
    }
   ],
   "source": [
    "#Группируем таблицу\n",
    "data_esrb = data.pivot_table(index='rating', values=['na_sales','eu_sales','jp_sales'], aggfunc='mean').sort_values(by='na_sales', ascending=False).plot(kind='bar', figsize=(20, 10))\n",
    "#Строим гистограмму\n",
    "plt.title('Влияние рейтинга ESRB на продажи')\n",
    "plt.xlabel('Рейтинг')\n",
    "plt.ylabel('Продажи')\n",
    "plt.show()"
   ]
  },
  {
   "cell_type": "markdown",
   "metadata": {},
   "source": [
    "Рейтинг ESRB предназначен для маркировки игр для США и Канады. И логично, что для других регионов, в нашем случае Японии, он не заполняется. Но есть по какой-то причине исключение рейтинг K-A (для всей аудитории). Самые большие продажи в EU и NA рейтингом игр 18+."
   ]
  },
  {
   "cell_type": "markdown",
   "metadata": {},
   "source": [
    "### Вывод"
   ]
  },
  {
   "cell_type": "markdown",
   "metadata": {},
   "source": [
    "Топ 5 популярных платформ NA: NA: PS4, XOne, X360, PS3, 3DS. Топ 5 популярных платформ EU: PS4, PS3, XOne, X360, 3DS. Топ 5 популярных платформ JP: 3DS, PS3, PS4, X360, XOne. В NA разрыв равномерный. В EU отрыв PS4 довольно большой. В JP большой отрыв 3DS. Так же JP выделяется тем, что на первом месте платформа DS, в то время, как в NA и EU она на 5м месте.\n",
    "\n",
    "Топ 5 популярных жанров NA: action, sports, shooter, platform, misc. Топ 5 популярных жанров EU: action, sports, shooter, racing, misc. Топ 5 популярных жанров JP: role-playing, action, sports, platform, misc. В NA и EU идет плавное распределение игр по жанрам и топ 3 одинаковый. А вот в JP с большим отрывом на первом месте жанр role-playing, что обусловленно особым менталитетом японцев.\n",
    "\n",
    "Рейтинг ESRB предназначен для маркировки игр для США и Канады. И логично, что для других регионов, в нашем случае Японии, он не заполняется. Но есть по какой-то причине исключение рейтинг K-A (для всей аудитории). Самые большие продажи в EU и NA рейтингом игр 18+."
   ]
  },
  {
   "cell_type": "markdown",
   "metadata": {},
   "source": [
    "## Проверьте гипотезы"
   ]
  },
  {
   "cell_type": "markdown",
   "metadata": {},
   "source": [
    "- Средние пользовательские рейтинги платформ Xbox One и PC одинаковые;\n",
    "- Средние пользовательские рейтинги жанров Action (англ. «действие», экшен-игры) и Sports (англ. «спортивные соревнования») разные.\n",
    "\n",
    "Задайте самостоятельно пороговое значение alpha.\n",
    "\n",
    "Поясните:\n",
    "- Как вы сформулировали нулевую и альтернативную гипотезы;\n",
    "- Какой критерий применили для проверки гипотез и почему."
   ]
  },
  {
   "cell_type": "markdown",
   "metadata": {},
   "source": [
    "В Python есть специальный метод для проверки гипотезы о равенстве среднего двух генеральных совокупностей по взятым из них выборкам st.ttest_ind."
   ]
  },
  {
   "cell_type": "markdown",
   "metadata": {},
   "source": [
    "### Средние пользовательские рейтинги платформ Xbox One и PC одинаковые"
   ]
  },
  {
   "cell_type": "markdown",
   "metadata": {},
   "source": [
    "Сформулируем гипотезу:\n",
    "- H₀ = средние пользовательские рейтинги платформ Xbox One и PC одинаковые\n",
    "- H₁ = средние пользовательские рейтинги платформ Xbox One и PC разные"
   ]
  },
  {
   "cell_type": "code",
   "execution_count": 51,
   "metadata": {},
   "outputs": [
    {
     "name": "stdout",
     "output_type": "stream",
     "text": [
      "p-значение: 0.14012658403611647\n",
      "Не получилось отвергнуть нулевую гипотезу\n"
     ]
    }
   ],
   "source": [
    "#0я гипотеза - средние пользовательские рейтинги платформ Xbox One и PC одинаковые\n",
    "#Сделаем выборку и уберем нулевые значения, так как с ними p-значение будет равно nan\n",
    "xboxone_test = data[(data['platform'] == 'XOne') & (data['year_of_release'] > 2012) & (data['user_score'].notna())]['user_score']\n",
    "pc_test = data[(data['platform'] == 'PC') & (data['year_of_release'] > 2012) & (data['user_score'].notna())]['user_score']\n",
    "\n",
    "xboxone_test.head()\n",
    "\n",
    "alpha = .05 # критический уровень статистической значимости\n",
    "# если p-value окажется меньше него - отвергнем гипотезу\n",
    "\n",
    "results = st.ttest_ind(\n",
    "    xboxone_test, \n",
    "    pc_test)\n",
    "\n",
    "print('p-значение:', results.pvalue)\n",
    "\n",
    "if results.pvalue < alpha:\n",
    "    print(\"Отвергаем нулевую гипотезу\")\n",
    "else:\n",
    "    print(\"Не получилось отвергнуть нулевую гипотезу\") "
   ]
  },
  {
   "cell_type": "markdown",
   "metadata": {},
   "source": [
    "Следовательно средние пользовательские рейтинги платформ Xbox One и PC одинаковые."
   ]
  },
  {
   "cell_type": "markdown",
   "metadata": {},
   "source": [
    "### Средние пользовательские рейтинги жанров Action (англ. «действие», экшен-игры) и Sports (англ. «спортивные соревнования») разные."
   ]
  },
  {
   "cell_type": "markdown",
   "metadata": {},
   "source": [
    "Сформулируем гипотезу:\n",
    "- H₀ = средние пользовательские рейтинги жанров Action и Sports разные\n",
    "- H₁ = средние пользовательские рейтинги жанров Action и Sports одинаковые"
   ]
  },
  {
   "cell_type": "code",
   "execution_count": 52,
   "metadata": {},
   "outputs": [
    {
     "name": "stdout",
     "output_type": "stream",
     "text": [
      "p-значение: 1.0517832389140023e-27\n",
      "Отвергаем нулевую гипотезу\n"
     ]
    }
   ],
   "source": [
    "#0я гипотеза - средние пользовательские рейтинги жанров Action (англ. «действие», экшен-игры) и Sports (англ. «спортивные соревнования») разные\n",
    "#Сделаем выборку и уберем нулевые значения, так как с ними p-значение будет равно nan\n",
    "action_test = data[(data['genre'] == 'Action') & (data['year_of_release'] > 2012) & (data['user_score'].notna())]['user_score']\n",
    "sports_test = data[(data['genre'] == 'Sports') & (data['year_of_release'] > 2012) & (data['user_score'].notna())]['user_score']\n",
    "\n",
    "xboxone_test.head()\n",
    "\n",
    "alpha = .05 # критический уровень статистической значимости\n",
    "# если p-value окажется меньше него - отвергнем гипотезу\n",
    "\n",
    "results = st.ttest_ind(\n",
    "    action_test, \n",
    "    sports_test)\n",
    "\n",
    "print('p-значение:', results.pvalue)\n",
    "\n",
    "if results.pvalue < alpha:\n",
    "    print(\"Отвергаем нулевую гипотезу\")\n",
    "else:\n",
    "    print(\"Не получилось отвергнуть нулевую гипотезу\") "
   ]
  },
  {
   "cell_type": "markdown",
   "metadata": {},
   "source": [
    "Следовательно средние пользовательские рейтинги жанров Action и Sports одинаковые."
   ]
  },
  {
   "cell_type": "markdown",
   "metadata": {},
   "source": [
    "## Общий вывод"
   ]
  },
  {
   "cell_type": "markdown",
   "metadata": {},
   "source": [
    "1. До 1990 года количество игр выпускалось достаточно мало, их можно не брать в расчет. Настоящий бум наступил с 2000-х годов с развитием и доступностью компьютеров.\n",
    "\n",
    "2. В среднем срок жизни платформы 10-11 лет.\n",
    "\n",
    "3. Лидирующие платформы по продажам: X360, PS4, XOne, PS3, 3DS.\n",
    "\n",
    "4. Влияние на продажи отзывов пользователей слабая, влияние на продажи отзывов критиков умеренная.\n",
    "\n",
    "5. Больше всего жанров: Action - 521, Role-Playing - 184, Sports - 170. Но по сумме продаж топ 3 отличается: Shooter - медианна продаж 0.62, Sports - медианна продаж 0.36, Platform - 0,24. Меньше всего продаж у жанров Puzzle и Adventure. Разры между Shooter и Adventure очень велик.\n",
    "\n",
    "6. По регионам топ 5 популярных платформ NA: NA: PS4, XOne, X360, PS3, 3DS. Топ 5 популярных платформ EU: PS4, PS3, XOne, X360, 3DS. Топ 5 популярных платформ JP: 3DS, PS3, PS4, X360, XOne. В NA разрыв равномерный. В EU отрыв PS4 довольно большой. В JP большой отрыв 3DS. Так же JP выделяется тем, что на первом месте платформа DS, в то время, как в NA и EU она на 5м месте.\n",
    "\n",
    "7. По регионам топ 5 популярных жанров NA: action, sports, shooter, platform, misc. Топ 5 популярных жанров EU: action, sports, shooter, racing, misc. Топ 5 популярных жанров JP: role-playing, action, sports, platform, misc. В NA и EU идет плавное распределение игр по жанрам и топ 3 одинаковый. А вот в JP с большим отрывом на первом месте жанр role-playing, что обусловленно особым менталитетом японцев.\n",
    "\n",
    "8. Рейтинг ESRB предназначен для маркировки игр для США и Канады. И логично, что для других регионов, в нашем случае Японии, он не заполняется. Но есть по какой-то причине исключение рейтинг K-A (для всей аудитории). Самые большие продажи в EU и NA рейтингом игр 18+.\n",
    "\n",
    "9. Не получилось отвергуть нулевую гипотезу H₀ = средние пользовательские рейтинги платформ Xbox One и PC одинаковые. Отвергли нулевую гипотезу H₀ = средние пользовательские рейтинги жанров Action и Sports разные."
   ]
  },
  {
   "cell_type": "markdown",
   "metadata": {},
   "source": [
    "## Итог\n",
    "1. В Северной Америке необходмо запускать и продвигать игры на платфоре PS4 в жанрах action, sports и shooter с возрастным ограничением 18+.\n",
    "2. В Европе необходмо запускать и продвигать игры на платфоре PS4 в жанрах action, sports и shooter с возрастным ограничением 18+.\n",
    "3. В Японии необходмо запускать и продвигать игры на платфоре 3DS в жанре role-playing\n",
    "4. Для Северной Америки и Европы необходио добиться положительных отзывов критиков."
   ]
  }
 ],
 "metadata": {
  "ExecuteTimeLog": [
   {
    "duration": 1447,
    "start_time": "2023-01-30T21:12:24.122Z"
   },
   {
    "duration": 95,
    "start_time": "2023-01-30T21:16:19.945Z"
   },
   {
    "duration": 15,
    "start_time": "2023-01-30T21:16:37.072Z"
   },
   {
    "duration": 45,
    "start_time": "2023-01-30T21:17:08.421Z"
   },
   {
    "duration": 8,
    "start_time": "2023-01-30T21:17:09.363Z"
   },
   {
    "duration": 44,
    "start_time": "2023-01-30T21:17:19.232Z"
   },
   {
    "duration": 8,
    "start_time": "2023-01-30T21:17:20.233Z"
   },
   {
    "duration": 49,
    "start_time": "2023-01-30T21:18:36.043Z"
   },
   {
    "duration": 21,
    "start_time": "2023-01-30T21:18:37.951Z"
   },
   {
    "duration": 16,
    "start_time": "2023-01-30T21:19:39.504Z"
   },
   {
    "duration": 33,
    "start_time": "2023-01-30T21:20:08.049Z"
   },
   {
    "duration": 873,
    "start_time": "2023-01-30T21:26:53.707Z"
   },
   {
    "duration": 55,
    "start_time": "2023-01-31T06:21:44.147Z"
   },
   {
    "duration": 9,
    "start_time": "2023-01-31T06:21:55.506Z"
   },
   {
    "duration": 1445,
    "start_time": "2023-01-31T06:22:08.018Z"
   },
   {
    "duration": 107,
    "start_time": "2023-01-31T06:22:09.465Z"
   },
   {
    "duration": 21,
    "start_time": "2023-01-31T06:22:09.573Z"
   },
   {
    "duration": 15,
    "start_time": "2023-01-31T06:22:09.596Z"
   },
   {
    "duration": 34,
    "start_time": "2023-01-31T06:22:09.613Z"
   },
   {
    "duration": 413,
    "start_time": "2023-01-31T06:22:09.649Z"
   },
   {
    "duration": 3,
    "start_time": "2023-01-31T06:29:54.782Z"
   },
   {
    "duration": 15,
    "start_time": "2023-01-31T08:08:18.742Z"
   },
   {
    "duration": 9,
    "start_time": "2023-01-31T08:25:03.765Z"
   },
   {
    "duration": 11,
    "start_time": "2023-01-31T08:32:24.194Z"
   },
   {
    "duration": 13,
    "start_time": "2023-01-31T08:36:37.534Z"
   },
   {
    "duration": 11,
    "start_time": "2023-01-31T08:44:32.234Z"
   },
   {
    "duration": 10,
    "start_time": "2023-01-31T08:47:02.920Z"
   },
   {
    "duration": 16,
    "start_time": "2023-01-31T09:06:47.699Z"
   },
   {
    "duration": 15,
    "start_time": "2023-01-31T09:06:56.039Z"
   },
   {
    "duration": 13,
    "start_time": "2023-01-31T09:07:04.599Z"
   },
   {
    "duration": 15,
    "start_time": "2023-01-31T09:07:51.037Z"
   },
   {
    "duration": 12,
    "start_time": "2023-01-31T09:10:21.004Z"
   },
   {
    "duration": 8,
    "start_time": "2023-01-31T09:10:38.198Z"
   },
   {
    "duration": 8,
    "start_time": "2023-01-31T09:25:39.340Z"
   },
   {
    "duration": 7,
    "start_time": "2023-01-31T09:30:25.101Z"
   },
   {
    "duration": 7,
    "start_time": "2023-01-31T09:31:27.406Z"
   },
   {
    "duration": 8,
    "start_time": "2023-01-31T09:36:17.621Z"
   },
   {
    "duration": 6,
    "start_time": "2023-01-31T09:36:30.589Z"
   },
   {
    "duration": 6,
    "start_time": "2023-01-31T09:36:39.113Z"
   },
   {
    "duration": 1196,
    "start_time": "2023-01-31T09:36:49.366Z"
   },
   {
    "duration": 48,
    "start_time": "2023-01-31T09:36:50.565Z"
   },
   {
    "duration": 34,
    "start_time": "2023-01-31T09:36:50.614Z"
   },
   {
    "duration": 26,
    "start_time": "2023-01-31T09:36:50.651Z"
   },
   {
    "duration": 10,
    "start_time": "2023-01-31T09:36:50.678Z"
   },
   {
    "duration": 42,
    "start_time": "2023-01-31T09:36:50.690Z"
   },
   {
    "duration": 4,
    "start_time": "2023-01-31T09:36:50.734Z"
   },
   {
    "duration": 19,
    "start_time": "2023-01-31T09:36:50.740Z"
   },
   {
    "duration": 7,
    "start_time": "2023-01-31T09:36:50.761Z"
   },
   {
    "duration": 10,
    "start_time": "2023-01-31T09:36:50.770Z"
   },
   {
    "duration": 24,
    "start_time": "2023-01-31T09:36:50.782Z"
   },
   {
    "duration": 20,
    "start_time": "2023-01-31T09:36:50.807Z"
   },
   {
    "duration": 8,
    "start_time": "2023-01-31T09:36:50.829Z"
   },
   {
    "duration": 1250,
    "start_time": "2023-01-31T09:37:20.785Z"
   },
   {
    "duration": 49,
    "start_time": "2023-01-31T09:37:22.038Z"
   },
   {
    "duration": 23,
    "start_time": "2023-01-31T09:37:22.089Z"
   },
   {
    "duration": 48,
    "start_time": "2023-01-31T09:37:22.115Z"
   },
   {
    "duration": 30,
    "start_time": "2023-01-31T09:37:22.165Z"
   },
   {
    "duration": 55,
    "start_time": "2023-01-31T09:37:22.197Z"
   },
   {
    "duration": 3,
    "start_time": "2023-01-31T09:37:22.255Z"
   },
   {
    "duration": 30,
    "start_time": "2023-01-31T09:37:22.260Z"
   },
   {
    "duration": 20,
    "start_time": "2023-01-31T09:37:22.292Z"
   },
   {
    "duration": 22,
    "start_time": "2023-01-31T09:37:22.315Z"
   },
   {
    "duration": 24,
    "start_time": "2023-01-31T09:37:22.341Z"
   },
   {
    "duration": 22,
    "start_time": "2023-01-31T09:37:22.367Z"
   },
   {
    "duration": 16,
    "start_time": "2023-01-31T09:37:22.391Z"
   },
   {
    "duration": 7,
    "start_time": "2023-01-31T11:08:09.753Z"
   },
   {
    "duration": 104,
    "start_time": "2023-01-31T11:12:13.256Z"
   },
   {
    "duration": 1203,
    "start_time": "2023-01-31T11:13:23.565Z"
   },
   {
    "duration": 49,
    "start_time": "2023-01-31T11:13:24.770Z"
   },
   {
    "duration": 34,
    "start_time": "2023-01-31T11:13:24.821Z"
   },
   {
    "duration": 16,
    "start_time": "2023-01-31T11:13:24.857Z"
   },
   {
    "duration": 10,
    "start_time": "2023-01-31T11:13:24.874Z"
   },
   {
    "duration": 31,
    "start_time": "2023-01-31T11:13:24.886Z"
   },
   {
    "duration": 12,
    "start_time": "2023-01-31T11:13:24.919Z"
   },
   {
    "duration": 27,
    "start_time": "2023-01-31T11:13:24.933Z"
   },
   {
    "duration": 2,
    "start_time": "2023-01-31T11:13:24.962Z"
   },
   {
    "duration": 14,
    "start_time": "2023-01-31T11:13:24.967Z"
   },
   {
    "duration": 19,
    "start_time": "2023-01-31T11:13:24.982Z"
   },
   {
    "duration": 17,
    "start_time": "2023-01-31T11:13:25.003Z"
   },
   {
    "duration": 27,
    "start_time": "2023-01-31T11:13:25.022Z"
   },
   {
    "duration": 8,
    "start_time": "2023-01-31T11:13:25.053Z"
   },
   {
    "duration": 16,
    "start_time": "2023-01-31T11:13:25.063Z"
   },
   {
    "duration": 6,
    "start_time": "2023-01-31T11:15:41.270Z"
   },
   {
    "duration": 7,
    "start_time": "2023-01-31T11:16:00.895Z"
   },
   {
    "duration": 6,
    "start_time": "2023-01-31T11:20:41.152Z"
   },
   {
    "duration": 16,
    "start_time": "2023-01-31T11:20:59.552Z"
   },
   {
    "duration": 14,
    "start_time": "2023-01-31T11:41:51.287Z"
   },
   {
    "duration": 17,
    "start_time": "2023-01-31T11:43:08.755Z"
   },
   {
    "duration": 93,
    "start_time": "2023-01-31T11:53:10.380Z"
   },
   {
    "duration": 101,
    "start_time": "2023-01-31T11:53:23.384Z"
   },
   {
    "duration": 203,
    "start_time": "2023-01-31T11:53:35.752Z"
   },
   {
    "duration": 202,
    "start_time": "2023-01-31T11:53:53.156Z"
   },
   {
    "duration": 200,
    "start_time": "2023-01-31T11:54:11.352Z"
   },
   {
    "duration": 127,
    "start_time": "2023-01-31T11:55:08.872Z"
   },
   {
    "duration": 230,
    "start_time": "2023-01-31T11:55:40.356Z"
   },
   {
    "duration": 169,
    "start_time": "2023-01-31T11:57:15.311Z"
   },
   {
    "duration": 221,
    "start_time": "2023-01-31T11:57:31.946Z"
   },
   {
    "duration": 18,
    "start_time": "2023-01-31T12:03:06.400Z"
   },
   {
    "duration": 204,
    "start_time": "2023-01-31T12:03:56.659Z"
   },
   {
    "duration": 175,
    "start_time": "2023-01-31T12:04:03.211Z"
   },
   {
    "duration": 181,
    "start_time": "2023-01-31T12:04:07.903Z"
   },
   {
    "duration": 272,
    "start_time": "2023-01-31T12:04:14.321Z"
   },
   {
    "duration": 193,
    "start_time": "2023-01-31T12:04:22.455Z"
   },
   {
    "duration": 173,
    "start_time": "2023-01-31T12:04:28.964Z"
   },
   {
    "duration": 169,
    "start_time": "2023-01-31T12:04:54.752Z"
   },
   {
    "duration": 158,
    "start_time": "2023-01-31T12:05:23.854Z"
   },
   {
    "duration": 221,
    "start_time": "2023-01-31T12:05:38.602Z"
   },
   {
    "duration": 18,
    "start_time": "2023-01-31T12:28:15.908Z"
   },
   {
    "duration": 118,
    "start_time": "2023-01-31T12:28:47.819Z"
   },
   {
    "duration": 14,
    "start_time": "2023-01-31T12:39:59.461Z"
   },
   {
    "duration": 113,
    "start_time": "2023-01-31T12:58:11.248Z"
   },
   {
    "duration": 1916,
    "start_time": "2023-01-31T13:01:06.817Z"
   },
   {
    "duration": 2065,
    "start_time": "2023-01-31T13:01:55.926Z"
   },
   {
    "duration": 14,
    "start_time": "2023-01-31T13:09:03.417Z"
   },
   {
    "duration": 7,
    "start_time": "2023-01-31T13:09:15.984Z"
   },
   {
    "duration": 14,
    "start_time": "2023-01-31T13:09:22.081Z"
   },
   {
    "duration": 1664,
    "start_time": "2023-01-31T13:09:27.156Z"
   },
   {
    "duration": 9,
    "start_time": "2023-01-31T13:09:43.046Z"
   },
   {
    "duration": 15,
    "start_time": "2023-01-31T13:09:51.501Z"
   },
   {
    "duration": 1644,
    "start_time": "2023-01-31T13:09:54.681Z"
   },
   {
    "duration": 1713,
    "start_time": "2023-01-31T13:10:18.842Z"
   },
   {
    "duration": 1868,
    "start_time": "2023-01-31T13:10:30.378Z"
   },
   {
    "duration": 1725,
    "start_time": "2023-01-31T13:10:40.387Z"
   },
   {
    "duration": 1739,
    "start_time": "2023-01-31T13:10:50.167Z"
   },
   {
    "duration": 1693,
    "start_time": "2023-01-31T13:11:02.572Z"
   },
   {
    "duration": 1699,
    "start_time": "2023-01-31T13:11:11.043Z"
   },
   {
    "duration": 1163,
    "start_time": "2023-01-31T13:13:21.527Z"
   },
   {
    "duration": 1121,
    "start_time": "2023-01-31T13:13:49.824Z"
   },
   {
    "duration": 1140,
    "start_time": "2023-01-31T13:14:10.261Z"
   },
   {
    "duration": 1111,
    "start_time": "2023-01-31T13:14:23.540Z"
   },
   {
    "duration": 1257,
    "start_time": "2023-01-31T13:14:29.794Z"
   },
   {
    "duration": 13,
    "start_time": "2023-01-31T13:29:37.606Z"
   },
   {
    "duration": 7,
    "start_time": "2023-01-31T13:34:33.344Z"
   },
   {
    "duration": 11,
    "start_time": "2023-01-31T13:35:09.549Z"
   },
   {
    "duration": 11,
    "start_time": "2023-01-31T13:35:27.478Z"
   },
   {
    "duration": 1199,
    "start_time": "2023-01-31T13:35:41.748Z"
   },
   {
    "duration": 51,
    "start_time": "2023-01-31T13:35:42.949Z"
   },
   {
    "duration": 21,
    "start_time": "2023-01-31T13:35:43.001Z"
   },
   {
    "duration": 33,
    "start_time": "2023-01-31T13:35:43.024Z"
   },
   {
    "duration": 11,
    "start_time": "2023-01-31T13:35:43.060Z"
   },
   {
    "duration": 47,
    "start_time": "2023-01-31T13:35:43.073Z"
   },
   {
    "duration": 4,
    "start_time": "2023-01-31T13:35:43.122Z"
   },
   {
    "duration": 32,
    "start_time": "2023-01-31T13:35:43.128Z"
   },
   {
    "duration": 20,
    "start_time": "2023-01-31T13:35:43.162Z"
   },
   {
    "duration": 16,
    "start_time": "2023-01-31T13:35:43.185Z"
   },
   {
    "duration": 39,
    "start_time": "2023-01-31T13:35:43.203Z"
   },
   {
    "duration": 30,
    "start_time": "2023-01-31T13:35:43.243Z"
   },
   {
    "duration": 16,
    "start_time": "2023-01-31T13:35:43.274Z"
   },
   {
    "duration": 16,
    "start_time": "2023-01-31T13:35:43.292Z"
   },
   {
    "duration": 44,
    "start_time": "2023-01-31T13:35:43.310Z"
   },
   {
    "duration": 14,
    "start_time": "2023-01-31T13:35:43.356Z"
   },
   {
    "duration": 12,
    "start_time": "2023-01-31T13:35:43.371Z"
   },
   {
    "duration": 30,
    "start_time": "2023-01-31T13:35:43.385Z"
   },
   {
    "duration": 30,
    "start_time": "2023-01-31T13:35:43.417Z"
   },
   {
    "duration": 204,
    "start_time": "2023-01-31T13:35:43.449Z"
   },
   {
    "duration": 8,
    "start_time": "2023-01-31T13:35:43.655Z"
   },
   {
    "duration": 22,
    "start_time": "2023-01-31T13:35:43.665Z"
   },
   {
    "duration": 121,
    "start_time": "2023-01-31T13:35:43.688Z"
   },
   {
    "duration": 71,
    "start_time": "2023-01-31T13:36:25.002Z"
   },
   {
    "duration": 12,
    "start_time": "2023-01-31T13:36:54.294Z"
   },
   {
    "duration": 61,
    "start_time": "2023-01-31T13:37:06.538Z"
   },
   {
    "duration": 16,
    "start_time": "2023-01-31T13:37:21.994Z"
   },
   {
    "duration": 12,
    "start_time": "2023-01-31T13:37:25.505Z"
   },
   {
    "duration": 9,
    "start_time": "2023-01-31T13:38:29.241Z"
   },
   {
    "duration": 10,
    "start_time": "2023-01-31T13:38:36.004Z"
   },
   {
    "duration": 68,
    "start_time": "2023-01-31T13:38:53.878Z"
   },
   {
    "duration": 32,
    "start_time": "2023-01-31T13:40:46.141Z"
   },
   {
    "duration": 20,
    "start_time": "2023-01-31T13:45:51.923Z"
   },
   {
    "duration": 13,
    "start_time": "2023-01-31T13:46:07.133Z"
   },
   {
    "duration": 21,
    "start_time": "2023-01-31T13:47:11.717Z"
   },
   {
    "duration": 8,
    "start_time": "2023-01-31T13:47:14.748Z"
   },
   {
    "duration": 10,
    "start_time": "2023-01-31T13:53:49.897Z"
   },
   {
    "duration": 9,
    "start_time": "2023-01-31T13:53:53.255Z"
   },
   {
    "duration": 4,
    "start_time": "2023-01-31T15:00:41.654Z"
   },
   {
    "duration": 7,
    "start_time": "2023-01-31T15:00:47.379Z"
   },
   {
    "duration": 418,
    "start_time": "2023-01-31T15:11:17.039Z"
   },
   {
    "duration": 80,
    "start_time": "2023-01-31T15:12:09.633Z"
   },
   {
    "duration": 791,
    "start_time": "2023-01-31T15:12:30.234Z"
   },
   {
    "duration": 1658,
    "start_time": "2023-01-31T15:14:20.181Z"
   },
   {
    "duration": 1685,
    "start_time": "2023-01-31T15:14:34.226Z"
   },
   {
    "duration": 246,
    "start_time": "2023-01-31T15:26:54.471Z"
   },
   {
    "duration": 78,
    "start_time": "2023-01-31T15:29:19.336Z"
   },
   {
    "duration": 74,
    "start_time": "2023-01-31T15:29:32.204Z"
   },
   {
    "duration": 51,
    "start_time": "2023-01-31T19:58:19.631Z"
   },
   {
    "duration": 1396,
    "start_time": "2023-01-31T19:58:27.798Z"
   },
   {
    "duration": 87,
    "start_time": "2023-01-31T19:58:29.196Z"
   },
   {
    "duration": 18,
    "start_time": "2023-01-31T19:58:29.284Z"
   },
   {
    "duration": 14,
    "start_time": "2023-01-31T19:58:29.304Z"
   },
   {
    "duration": 8,
    "start_time": "2023-01-31T19:58:29.319Z"
   },
   {
    "duration": 29,
    "start_time": "2023-01-31T19:58:29.328Z"
   },
   {
    "duration": 3,
    "start_time": "2023-01-31T19:58:29.358Z"
   },
   {
    "duration": 31,
    "start_time": "2023-01-31T19:58:29.362Z"
   },
   {
    "duration": 11,
    "start_time": "2023-01-31T19:58:29.395Z"
   },
   {
    "duration": 14,
    "start_time": "2023-01-31T19:58:29.409Z"
   },
   {
    "duration": 15,
    "start_time": "2023-01-31T19:58:29.424Z"
   },
   {
    "duration": 9,
    "start_time": "2023-01-31T19:58:29.441Z"
   },
   {
    "duration": 5,
    "start_time": "2023-01-31T19:58:29.452Z"
   },
   {
    "duration": 34,
    "start_time": "2023-01-31T19:58:29.459Z"
   },
   {
    "duration": 6,
    "start_time": "2023-01-31T19:58:29.495Z"
   },
   {
    "duration": 9,
    "start_time": "2023-01-31T19:58:29.503Z"
   },
   {
    "duration": 4,
    "start_time": "2023-01-31T19:58:29.513Z"
   },
   {
    "duration": 18,
    "start_time": "2023-01-31T19:58:29.518Z"
   },
   {
    "duration": 14,
    "start_time": "2023-01-31T19:58:29.537Z"
   },
   {
    "duration": 177,
    "start_time": "2023-01-31T19:58:29.553Z"
   },
   {
    "duration": 7,
    "start_time": "2023-01-31T19:58:29.732Z"
   },
   {
    "duration": 1621,
    "start_time": "2023-01-31T19:58:29.740Z"
   },
   {
    "duration": 9,
    "start_time": "2023-01-31T19:58:31.363Z"
   },
   {
    "duration": 10,
    "start_time": "2023-01-31T19:58:31.374Z"
   },
   {
    "duration": 7,
    "start_time": "2023-01-31T19:58:31.386Z"
   },
   {
    "duration": 30,
    "start_time": "2023-01-31T19:58:31.395Z"
   },
   {
    "duration": 242,
    "start_time": "2023-01-31T19:58:31.427Z"
   },
   {
    "duration": 1532,
    "start_time": "2023-01-31T20:02:08.761Z"
   },
   {
    "duration": 1669,
    "start_time": "2023-01-31T20:02:34.736Z"
   },
   {
    "duration": 15,
    "start_time": "2023-01-31T20:03:16.464Z"
   },
   {
    "duration": 8,
    "start_time": "2023-01-31T20:03:23.514Z"
   },
   {
    "duration": 4,
    "start_time": "2023-01-31T20:03:39.629Z"
   },
   {
    "duration": 52,
    "start_time": "2023-01-31T20:56:49.240Z"
   },
   {
    "duration": 10,
    "start_time": "2023-01-31T21:06:53.614Z"
   },
   {
    "duration": 8,
    "start_time": "2023-01-31T21:07:05.503Z"
   },
   {
    "duration": 1576,
    "start_time": "2023-01-31T21:11:32.683Z"
   },
   {
    "duration": 1004,
    "start_time": "2023-01-31T21:22:55.823Z"
   },
   {
    "duration": 312,
    "start_time": "2023-01-31T21:23:42.938Z"
   },
   {
    "duration": 313,
    "start_time": "2023-01-31T21:24:00.774Z"
   },
   {
    "duration": 424,
    "start_time": "2023-01-31T21:24:39.016Z"
   },
   {
    "duration": 319,
    "start_time": "2023-01-31T21:26:19.407Z"
   },
   {
    "duration": 1180,
    "start_time": "2023-01-31T21:28:18.258Z"
   },
   {
    "duration": 47,
    "start_time": "2023-01-31T21:28:19.440Z"
   },
   {
    "duration": 19,
    "start_time": "2023-01-31T21:28:19.489Z"
   },
   {
    "duration": 13,
    "start_time": "2023-01-31T21:28:19.510Z"
   },
   {
    "duration": 12,
    "start_time": "2023-01-31T21:28:19.524Z"
   },
   {
    "duration": 28,
    "start_time": "2023-01-31T21:28:19.538Z"
   },
   {
    "duration": 2,
    "start_time": "2023-01-31T21:28:19.568Z"
   },
   {
    "duration": 30,
    "start_time": "2023-01-31T21:28:19.572Z"
   },
   {
    "duration": 11,
    "start_time": "2023-01-31T21:28:19.604Z"
   },
   {
    "duration": 14,
    "start_time": "2023-01-31T21:28:19.618Z"
   },
   {
    "duration": 9,
    "start_time": "2023-01-31T21:28:19.633Z"
   },
   {
    "duration": 13,
    "start_time": "2023-01-31T21:28:19.644Z"
   },
   {
    "duration": 36,
    "start_time": "2023-01-31T21:28:19.658Z"
   },
   {
    "duration": 5,
    "start_time": "2023-01-31T21:28:19.696Z"
   },
   {
    "duration": 9,
    "start_time": "2023-01-31T21:28:19.702Z"
   },
   {
    "duration": 9,
    "start_time": "2023-01-31T21:28:19.713Z"
   },
   {
    "duration": 5,
    "start_time": "2023-01-31T21:28:19.724Z"
   },
   {
    "duration": 29,
    "start_time": "2023-01-31T21:28:19.731Z"
   },
   {
    "duration": 20,
    "start_time": "2023-01-31T21:28:19.762Z"
   },
   {
    "duration": 171,
    "start_time": "2023-01-31T21:28:19.783Z"
   },
   {
    "duration": 6,
    "start_time": "2023-01-31T21:28:19.956Z"
   },
   {
    "duration": 349,
    "start_time": "2023-01-31T21:28:19.964Z"
   },
   {
    "duration": 10,
    "start_time": "2023-01-31T21:28:20.315Z"
   },
   {
    "duration": 22,
    "start_time": "2023-01-31T21:28:20.326Z"
   },
   {
    "duration": 99,
    "start_time": "2023-01-31T21:28:20.350Z"
   },
   {
    "duration": 0,
    "start_time": "2023-01-31T21:28:20.450Z"
   },
   {
    "duration": 0,
    "start_time": "2023-01-31T21:28:20.452Z"
   },
   {
    "duration": 354,
    "start_time": "2023-01-31T21:29:08.566Z"
   },
   {
    "duration": 320,
    "start_time": "2023-01-31T21:29:24.425Z"
   },
   {
    "duration": 316,
    "start_time": "2023-01-31T21:30:29.570Z"
   },
   {
    "duration": 8,
    "start_time": "2023-01-31T21:34:47.988Z"
   },
   {
    "duration": 4,
    "start_time": "2023-01-31T21:35:56.553Z"
   },
   {
    "duration": 413,
    "start_time": "2023-01-31T21:40:40.055Z"
   },
   {
    "duration": 23,
    "start_time": "2023-01-31T21:50:37.994Z"
   },
   {
    "duration": 12,
    "start_time": "2023-01-31T21:50:55.536Z"
   },
   {
    "duration": 1324,
    "start_time": "2023-01-31T21:51:15.692Z"
   },
   {
    "duration": 58,
    "start_time": "2023-01-31T21:51:42.136Z"
   },
   {
    "duration": 84,
    "start_time": "2023-01-31T21:53:01.522Z"
   },
   {
    "duration": 1241,
    "start_time": "2023-01-31T21:53:10.226Z"
   },
   {
    "duration": 28,
    "start_time": "2023-01-31T22:06:09.407Z"
   },
   {
    "duration": 26,
    "start_time": "2023-01-31T22:06:39.912Z"
   },
   {
    "duration": 25,
    "start_time": "2023-01-31T22:07:19.827Z"
   },
   {
    "duration": 26,
    "start_time": "2023-01-31T22:07:33.445Z"
   },
   {
    "duration": 1082,
    "start_time": "2023-01-31T22:07:42.037Z"
   },
   {
    "duration": 47,
    "start_time": "2023-01-31T22:07:43.121Z"
   },
   {
    "duration": 19,
    "start_time": "2023-01-31T22:07:43.169Z"
   },
   {
    "duration": 13,
    "start_time": "2023-01-31T22:07:43.190Z"
   },
   {
    "duration": 8,
    "start_time": "2023-01-31T22:07:43.205Z"
   },
   {
    "duration": 33,
    "start_time": "2023-01-31T22:07:43.214Z"
   },
   {
    "duration": 2,
    "start_time": "2023-01-31T22:07:43.249Z"
   },
   {
    "duration": 20,
    "start_time": "2023-01-31T22:07:43.253Z"
   },
   {
    "duration": 19,
    "start_time": "2023-01-31T22:07:43.275Z"
   },
   {
    "duration": 15,
    "start_time": "2023-01-31T22:07:43.297Z"
   },
   {
    "duration": 12,
    "start_time": "2023-01-31T22:07:43.313Z"
   },
   {
    "duration": 11,
    "start_time": "2023-01-31T22:07:43.326Z"
   },
   {
    "duration": 5,
    "start_time": "2023-01-31T22:07:43.338Z"
   },
   {
    "duration": 8,
    "start_time": "2023-01-31T22:07:43.344Z"
   },
   {
    "duration": 9,
    "start_time": "2023-01-31T22:07:43.353Z"
   },
   {
    "duration": 9,
    "start_time": "2023-01-31T22:07:43.363Z"
   },
   {
    "duration": 6,
    "start_time": "2023-01-31T22:07:43.393Z"
   },
   {
    "duration": 21,
    "start_time": "2023-01-31T22:07:43.400Z"
   },
   {
    "duration": 23,
    "start_time": "2023-01-31T22:07:43.422Z"
   },
   {
    "duration": 179,
    "start_time": "2023-01-31T22:07:43.447Z"
   },
   {
    "duration": 6,
    "start_time": "2023-01-31T22:07:43.628Z"
   },
   {
    "duration": 368,
    "start_time": "2023-01-31T22:07:43.636Z"
   },
   {
    "duration": 11,
    "start_time": "2023-01-31T22:07:44.006Z"
   },
   {
    "duration": 8,
    "start_time": "2023-01-31T22:07:44.019Z"
   },
   {
    "duration": 137,
    "start_time": "2023-01-31T22:07:44.030Z"
   },
   {
    "duration": 0,
    "start_time": "2023-01-31T22:07:44.169Z"
   },
   {
    "duration": 0,
    "start_time": "2023-01-31T22:07:44.170Z"
   },
   {
    "duration": 4,
    "start_time": "2023-01-31T22:08:10.203Z"
   },
   {
    "duration": 311,
    "start_time": "2023-01-31T22:08:20.514Z"
   },
   {
    "duration": 302,
    "start_time": "2023-01-31T22:14:52.687Z"
   },
   {
    "duration": 368,
    "start_time": "2023-01-31T22:15:28.013Z"
   },
   {
    "duration": 59,
    "start_time": "2023-02-01T05:47:22.551Z"
   },
   {
    "duration": 1350,
    "start_time": "2023-02-01T05:47:26.885Z"
   },
   {
    "duration": 98,
    "start_time": "2023-02-01T05:47:28.237Z"
   },
   {
    "duration": 21,
    "start_time": "2023-02-01T05:47:28.337Z"
   },
   {
    "duration": 19,
    "start_time": "2023-02-01T05:47:28.361Z"
   },
   {
    "duration": 9,
    "start_time": "2023-02-01T05:47:28.382Z"
   },
   {
    "duration": 46,
    "start_time": "2023-02-01T05:47:28.393Z"
   },
   {
    "duration": 4,
    "start_time": "2023-02-01T05:47:28.441Z"
   },
   {
    "duration": 19,
    "start_time": "2023-02-01T05:47:28.447Z"
   },
   {
    "duration": 9,
    "start_time": "2023-02-01T05:47:28.468Z"
   },
   {
    "duration": 22,
    "start_time": "2023-02-01T05:47:28.480Z"
   },
   {
    "duration": 27,
    "start_time": "2023-02-01T05:47:28.504Z"
   },
   {
    "duration": 17,
    "start_time": "2023-02-01T05:47:28.532Z"
   },
   {
    "duration": 8,
    "start_time": "2023-02-01T05:47:28.551Z"
   },
   {
    "duration": 8,
    "start_time": "2023-02-01T05:47:28.560Z"
   },
   {
    "duration": 16,
    "start_time": "2023-02-01T05:47:28.570Z"
   },
   {
    "duration": 9,
    "start_time": "2023-02-01T05:47:28.587Z"
   },
   {
    "duration": 7,
    "start_time": "2023-02-01T05:47:28.598Z"
   },
   {
    "duration": 30,
    "start_time": "2023-02-01T05:47:28.606Z"
   },
   {
    "duration": 18,
    "start_time": "2023-02-01T05:47:28.638Z"
   },
   {
    "duration": 183,
    "start_time": "2023-02-01T05:47:28.658Z"
   },
   {
    "duration": 7,
    "start_time": "2023-02-01T05:47:28.844Z"
   },
   {
    "duration": 366,
    "start_time": "2023-02-01T05:47:28.853Z"
   },
   {
    "duration": 10,
    "start_time": "2023-02-01T05:47:29.221Z"
   },
   {
    "duration": 5,
    "start_time": "2023-02-01T05:47:29.233Z"
   },
   {
    "duration": 291,
    "start_time": "2023-02-01T05:47:29.240Z"
   },
   {
    "duration": 64,
    "start_time": "2023-02-01T05:47:29.534Z"
   },
   {
    "duration": 128,
    "start_time": "2023-02-01T05:47:29.600Z"
   },
   {
    "duration": 231,
    "start_time": "2023-02-01T05:51:09.148Z"
   },
   {
    "duration": 341,
    "start_time": "2023-02-01T05:51:53.775Z"
   },
   {
    "duration": 25,
    "start_time": "2023-02-01T05:52:02.989Z"
   },
   {
    "duration": 1243,
    "start_time": "2023-02-01T05:52:37.583Z"
   },
   {
    "duration": 312,
    "start_time": "2023-02-01T05:56:19.138Z"
   },
   {
    "duration": 227,
    "start_time": "2023-02-01T05:56:30.914Z"
   },
   {
    "duration": 29,
    "start_time": "2023-02-01T06:32:14.335Z"
   },
   {
    "duration": 1169,
    "start_time": "2023-02-01T06:32:24.197Z"
   },
   {
    "duration": 49,
    "start_time": "2023-02-01T06:32:25.368Z"
   },
   {
    "duration": 22,
    "start_time": "2023-02-01T06:32:25.419Z"
   },
   {
    "duration": 23,
    "start_time": "2023-02-01T06:32:25.443Z"
   },
   {
    "duration": 10,
    "start_time": "2023-02-01T06:32:25.468Z"
   },
   {
    "duration": 33,
    "start_time": "2023-02-01T06:32:25.480Z"
   },
   {
    "duration": 3,
    "start_time": "2023-02-01T06:32:25.515Z"
   },
   {
    "duration": 16,
    "start_time": "2023-02-01T06:32:25.519Z"
   },
   {
    "duration": 10,
    "start_time": "2023-02-01T06:32:25.537Z"
   },
   {
    "duration": 21,
    "start_time": "2023-02-01T06:32:25.550Z"
   },
   {
    "duration": 25,
    "start_time": "2023-02-01T06:32:25.573Z"
   },
   {
    "duration": 10,
    "start_time": "2023-02-01T06:32:25.600Z"
   },
   {
    "duration": 19,
    "start_time": "2023-02-01T06:32:25.611Z"
   },
   {
    "duration": 5,
    "start_time": "2023-02-01T06:32:25.632Z"
   },
   {
    "duration": 18,
    "start_time": "2023-02-01T06:32:25.639Z"
   },
   {
    "duration": 11,
    "start_time": "2023-02-01T06:32:25.658Z"
   },
   {
    "duration": 14,
    "start_time": "2023-02-01T06:32:25.670Z"
   },
   {
    "duration": 19,
    "start_time": "2023-02-01T06:32:25.685Z"
   },
   {
    "duration": 30,
    "start_time": "2023-02-01T06:32:25.705Z"
   },
   {
    "duration": 193,
    "start_time": "2023-02-01T06:32:25.736Z"
   },
   {
    "duration": 6,
    "start_time": "2023-02-01T06:32:25.931Z"
   },
   {
    "duration": 358,
    "start_time": "2023-02-01T06:32:25.939Z"
   },
   {
    "duration": 8,
    "start_time": "2023-02-01T06:32:26.298Z"
   },
   {
    "duration": 30,
    "start_time": "2023-02-01T06:32:26.308Z"
   },
   {
    "duration": 281,
    "start_time": "2023-02-01T06:32:26.340Z"
   },
   {
    "duration": 247,
    "start_time": "2023-02-01T06:41:25.258Z"
   },
   {
    "duration": 280,
    "start_time": "2023-02-01T06:42:32.790Z"
   },
   {
    "duration": 7,
    "start_time": "2023-02-01T08:29:40.455Z"
   },
   {
    "duration": 6,
    "start_time": "2023-02-01T08:30:26.854Z"
   },
   {
    "duration": 190,
    "start_time": "2023-02-01T08:35:02.294Z"
   },
   {
    "duration": 458,
    "start_time": "2023-02-01T08:35:56.900Z"
   },
   {
    "duration": 158,
    "start_time": "2023-02-01T08:36:04.823Z"
   },
   {
    "duration": 255,
    "start_time": "2023-02-01T08:45:05.436Z"
   },
   {
    "duration": 9,
    "start_time": "2023-02-01T08:47:45.975Z"
   },
   {
    "duration": 21,
    "start_time": "2023-02-01T08:48:34.946Z"
   },
   {
    "duration": 200,
    "start_time": "2023-02-01T08:55:05.418Z"
   },
   {
    "duration": 192,
    "start_time": "2023-02-01T08:55:19.680Z"
   },
   {
    "duration": 172,
    "start_time": "2023-02-01T08:56:01.133Z"
   },
   {
    "duration": 243,
    "start_time": "2023-02-01T08:56:11.980Z"
   },
   {
    "duration": 225,
    "start_time": "2023-02-01T08:56:19.403Z"
   },
   {
    "duration": 186,
    "start_time": "2023-02-01T08:56:31.018Z"
   },
   {
    "duration": 217,
    "start_time": "2023-02-01T08:58:56.978Z"
   },
   {
    "duration": 1476,
    "start_time": "2023-02-01T09:06:05.199Z"
   },
   {
    "duration": 6,
    "start_time": "2023-02-01T09:06:16.229Z"
   },
   {
    "duration": 6,
    "start_time": "2023-02-01T09:42:15.160Z"
   },
   {
    "duration": 5,
    "start_time": "2023-02-01T09:43:27.598Z"
   },
   {
    "duration": 137,
    "start_time": "2023-02-01T11:29:12.400Z"
   },
   {
    "duration": 125,
    "start_time": "2023-02-01T11:29:29.843Z"
   },
   {
    "duration": 135,
    "start_time": "2023-02-01T11:29:45.114Z"
   },
   {
    "duration": 231,
    "start_time": "2023-02-01T11:30:02.022Z"
   },
   {
    "duration": 160,
    "start_time": "2023-02-01T11:31:09.711Z"
   },
   {
    "duration": 142,
    "start_time": "2023-02-01T11:32:38.129Z"
   },
   {
    "duration": 11,
    "start_time": "2023-02-01T11:59:44.909Z"
   },
   {
    "duration": 19,
    "start_time": "2023-02-01T12:00:08.213Z"
   },
   {
    "duration": 714,
    "start_time": "2023-02-01T12:02:17.897Z"
   },
   {
    "duration": 1211,
    "start_time": "2023-02-01T12:04:05.122Z"
   },
   {
    "duration": 18,
    "start_time": "2023-02-01T12:17:47.018Z"
   },
   {
    "duration": 15,
    "start_time": "2023-02-01T12:21:40.252Z"
   },
   {
    "duration": 6,
    "start_time": "2023-02-01T12:24:53.172Z"
   },
   {
    "duration": 20,
    "start_time": "2023-02-01T12:24:54.249Z"
   },
   {
    "duration": 6,
    "start_time": "2023-02-01T12:25:20.701Z"
   },
   {
    "duration": 17,
    "start_time": "2023-02-01T12:25:21.554Z"
   },
   {
    "duration": 6,
    "start_time": "2023-02-01T12:25:40.602Z"
   },
   {
    "duration": 20,
    "start_time": "2023-02-01T12:25:41.129Z"
   },
   {
    "duration": 5,
    "start_time": "2023-02-01T12:26:10.730Z"
   },
   {
    "duration": 19,
    "start_time": "2023-02-01T12:26:11.360Z"
   },
   {
    "duration": 6,
    "start_time": "2023-02-01T12:27:10.833Z"
   },
   {
    "duration": 17,
    "start_time": "2023-02-01T12:27:11.560Z"
   },
   {
    "duration": 4,
    "start_time": "2023-02-01T12:28:09.132Z"
   },
   {
    "duration": 16,
    "start_time": "2023-02-01T12:28:09.662Z"
   },
   {
    "duration": 16,
    "start_time": "2023-02-01T12:29:26.126Z"
   },
   {
    "duration": 16,
    "start_time": "2023-02-01T12:59:20.733Z"
   },
   {
    "duration": 16,
    "start_time": "2023-02-01T13:01:10.119Z"
   },
   {
    "duration": 14,
    "start_time": "2023-02-01T13:01:22.722Z"
   },
   {
    "duration": 15,
    "start_time": "2023-02-01T13:02:29.317Z"
   },
   {
    "duration": 198,
    "start_time": "2023-02-01T13:13:55.018Z"
   },
   {
    "duration": 45,
    "start_time": "2023-02-01T13:49:38.440Z"
   },
   {
    "duration": 1329,
    "start_time": "2023-02-01T13:49:43.506Z"
   },
   {
    "duration": 93,
    "start_time": "2023-02-01T13:49:44.837Z"
   },
   {
    "duration": 20,
    "start_time": "2023-02-01T13:49:44.931Z"
   },
   {
    "duration": 13,
    "start_time": "2023-02-01T13:49:44.952Z"
   },
   {
    "duration": 12,
    "start_time": "2023-02-01T13:49:44.967Z"
   },
   {
    "duration": 37,
    "start_time": "2023-02-01T13:49:44.980Z"
   },
   {
    "duration": 3,
    "start_time": "2023-02-01T13:49:45.027Z"
   },
   {
    "duration": 31,
    "start_time": "2023-02-01T13:49:45.031Z"
   },
   {
    "duration": 15,
    "start_time": "2023-02-01T13:49:45.063Z"
   },
   {
    "duration": 21,
    "start_time": "2023-02-01T13:49:45.079Z"
   },
   {
    "duration": 48,
    "start_time": "2023-02-01T13:49:45.102Z"
   },
   {
    "duration": 28,
    "start_time": "2023-02-01T13:49:45.151Z"
   },
   {
    "duration": 7,
    "start_time": "2023-02-01T13:49:45.180Z"
   },
   {
    "duration": 16,
    "start_time": "2023-02-01T13:49:45.190Z"
   },
   {
    "duration": 16,
    "start_time": "2023-02-01T13:49:45.207Z"
   },
   {
    "duration": 12,
    "start_time": "2023-02-01T13:49:45.225Z"
   },
   {
    "duration": 7,
    "start_time": "2023-02-01T13:49:45.239Z"
   },
   {
    "duration": 21,
    "start_time": "2023-02-01T13:49:45.247Z"
   },
   {
    "duration": 21,
    "start_time": "2023-02-01T13:49:45.270Z"
   },
   {
    "duration": 166,
    "start_time": "2023-02-01T13:49:45.292Z"
   },
   {
    "duration": 6,
    "start_time": "2023-02-01T13:49:45.459Z"
   },
   {
    "duration": 369,
    "start_time": "2023-02-01T13:49:45.467Z"
   },
   {
    "duration": 9,
    "start_time": "2023-02-01T13:49:45.838Z"
   },
   {
    "duration": 9,
    "start_time": "2023-02-01T13:49:45.848Z"
   },
   {
    "duration": 324,
    "start_time": "2023-02-01T13:49:45.859Z"
   },
   {
    "duration": 6,
    "start_time": "2023-02-01T13:49:46.185Z"
   },
   {
    "duration": 9,
    "start_time": "2023-02-01T13:49:46.193Z"
   },
   {
    "duration": 186,
    "start_time": "2023-02-01T13:49:46.203Z"
   },
   {
    "duration": 5,
    "start_time": "2023-02-01T13:49:46.391Z"
   },
   {
    "duration": 36,
    "start_time": "2023-02-01T13:49:46.398Z"
   },
   {
    "duration": 18,
    "start_time": "2023-02-01T13:49:46.436Z"
   },
   {
    "duration": 148,
    "start_time": "2023-02-01T13:49:46.456Z"
   },
   {
    "duration": 173,
    "start_time": "2023-02-01T13:49:46.606Z"
   },
   {
    "duration": 3,
    "start_time": "2023-02-01T13:49:46.780Z"
   },
   {
    "duration": 37,
    "start_time": "2023-02-01T13:49:46.785Z"
   },
   {
    "duration": 15,
    "start_time": "2023-02-01T13:49:46.824Z"
   },
   {
    "duration": 17,
    "start_time": "2023-02-01T13:49:46.840Z"
   },
   {
    "duration": 106,
    "start_time": "2023-02-01T13:49:46.859Z"
   },
   {
    "duration": 16,
    "start_time": "2023-02-01T13:59:36.602Z"
   },
   {
    "duration": 74,
    "start_time": "2023-02-01T14:01:02.101Z"
   },
   {
    "duration": 12,
    "start_time": "2023-02-01T14:01:08.807Z"
   },
   {
    "duration": 16,
    "start_time": "2023-02-01T14:01:17.490Z"
   },
   {
    "duration": 17,
    "start_time": "2023-02-01T14:01:26.867Z"
   },
   {
    "duration": 17,
    "start_time": "2023-02-01T14:01:49.358Z"
   },
   {
    "duration": 15,
    "start_time": "2023-02-01T14:04:57.293Z"
   },
   {
    "duration": 325,
    "start_time": "2023-02-01T14:08:11.391Z"
   },
   {
    "duration": 72,
    "start_time": "2023-02-01T14:45:27.924Z"
   },
   {
    "duration": 1207,
    "start_time": "2023-02-01T14:45:47.783Z"
   },
   {
    "duration": 362,
    "start_time": "2023-02-01T14:46:37.633Z"
   },
   {
    "duration": 55,
    "start_time": "2023-02-01T16:45:18.627Z"
   },
   {
    "duration": 1321,
    "start_time": "2023-02-01T16:45:22.897Z"
   },
   {
    "duration": 99,
    "start_time": "2023-02-01T16:45:24.220Z"
   },
   {
    "duration": 31,
    "start_time": "2023-02-01T16:45:24.321Z"
   },
   {
    "duration": 16,
    "start_time": "2023-02-01T16:45:24.354Z"
   },
   {
    "duration": 11,
    "start_time": "2023-02-01T16:45:24.372Z"
   },
   {
    "duration": 30,
    "start_time": "2023-02-01T16:45:24.385Z"
   },
   {
    "duration": 3,
    "start_time": "2023-02-01T16:45:24.417Z"
   },
   {
    "duration": 34,
    "start_time": "2023-02-01T16:45:24.421Z"
   },
   {
    "duration": 15,
    "start_time": "2023-02-01T16:45:24.457Z"
   },
   {
    "duration": 16,
    "start_time": "2023-02-01T16:45:24.474Z"
   },
   {
    "duration": 12,
    "start_time": "2023-02-01T16:45:24.492Z"
   },
   {
    "duration": 11,
    "start_time": "2023-02-01T16:45:24.506Z"
   },
   {
    "duration": 7,
    "start_time": "2023-02-01T16:45:24.518Z"
   },
   {
    "duration": 10,
    "start_time": "2023-02-01T16:45:24.545Z"
   },
   {
    "duration": 16,
    "start_time": "2023-02-01T16:45:24.556Z"
   },
   {
    "duration": 11,
    "start_time": "2023-02-01T16:45:24.573Z"
   },
   {
    "duration": 7,
    "start_time": "2023-02-01T16:45:24.585Z"
   },
   {
    "duration": 20,
    "start_time": "2023-02-01T16:45:24.594Z"
   },
   {
    "duration": 15,
    "start_time": "2023-02-01T16:45:24.615Z"
   },
   {
    "duration": 190,
    "start_time": "2023-02-01T16:45:24.632Z"
   },
   {
    "duration": 6,
    "start_time": "2023-02-01T16:45:24.824Z"
   },
   {
    "duration": 389,
    "start_time": "2023-02-01T16:45:24.840Z"
   },
   {
    "duration": 18,
    "start_time": "2023-02-01T16:45:25.231Z"
   },
   {
    "duration": 13,
    "start_time": "2023-02-01T16:45:25.251Z"
   },
   {
    "duration": 356,
    "start_time": "2023-02-01T16:45:25.265Z"
   },
   {
    "duration": 8,
    "start_time": "2023-02-01T16:45:25.623Z"
   },
   {
    "duration": 16,
    "start_time": "2023-02-01T16:45:25.633Z"
   },
   {
    "duration": 203,
    "start_time": "2023-02-01T16:45:25.653Z"
   },
   {
    "duration": 4,
    "start_time": "2023-02-01T16:45:25.858Z"
   },
   {
    "duration": 9,
    "start_time": "2023-02-01T16:45:25.864Z"
   },
   {
    "duration": 6,
    "start_time": "2023-02-01T16:45:25.874Z"
   },
   {
    "duration": 180,
    "start_time": "2023-02-01T16:45:25.881Z"
   },
   {
    "duration": 172,
    "start_time": "2023-02-01T16:45:26.063Z"
   },
   {
    "duration": 12,
    "start_time": "2023-02-01T16:45:26.239Z"
   },
   {
    "duration": 29,
    "start_time": "2023-02-01T16:45:26.253Z"
   },
   {
    "duration": 28,
    "start_time": "2023-02-01T16:45:26.284Z"
   },
   {
    "duration": 23,
    "start_time": "2023-02-01T16:45:26.313Z"
   },
   {
    "duration": 276,
    "start_time": "2023-02-01T16:45:26.338Z"
   },
   {
    "duration": 199,
    "start_time": "2023-02-01T16:45:26.616Z"
   },
   {
    "duration": 244,
    "start_time": "2023-02-01T16:45:53.399Z"
   },
   {
    "duration": 137,
    "start_time": "2023-02-01T16:46:02.464Z"
   },
   {
    "duration": 128,
    "start_time": "2023-02-01T16:46:09.664Z"
   },
   {
    "duration": 253,
    "start_time": "2023-02-01T16:59:10.541Z"
   },
   {
    "duration": 141,
    "start_time": "2023-02-01T16:59:14.083Z"
   },
   {
    "duration": 151,
    "start_time": "2023-02-01T17:02:23.037Z"
   },
   {
    "duration": 252,
    "start_time": "2023-02-01T17:02:39.889Z"
   },
   {
    "duration": 7,
    "start_time": "2023-02-01T17:17:00.464Z"
   },
   {
    "duration": 9,
    "start_time": "2023-02-01T17:17:33.447Z"
   },
   {
    "duration": 11,
    "start_time": "2023-02-01T17:17:42.659Z"
   },
   {
    "duration": 1135,
    "start_time": "2023-02-01T17:17:54.957Z"
   },
   {
    "duration": 4,
    "start_time": "2023-02-01T17:18:27.595Z"
   },
   {
    "duration": 135,
    "start_time": "2023-02-01T17:18:30.267Z"
   },
   {
    "duration": 9,
    "start_time": "2023-02-01T17:20:52.905Z"
   },
   {
    "duration": 1368,
    "start_time": "2023-02-01T17:21:08.025Z"
   },
   {
    "duration": 1175,
    "start_time": "2023-02-01T17:21:51.104Z"
   },
   {
    "duration": 5,
    "start_time": "2023-02-01T17:22:33.952Z"
   },
   {
    "duration": 1382,
    "start_time": "2023-02-01T17:22:37.768Z"
   },
   {
    "duration": 1198,
    "start_time": "2023-02-01T17:22:56.403Z"
   },
   {
    "duration": 52,
    "start_time": "2023-02-01T17:22:57.603Z"
   },
   {
    "duration": 20,
    "start_time": "2023-02-01T17:22:57.657Z"
   },
   {
    "duration": 25,
    "start_time": "2023-02-01T17:22:57.679Z"
   },
   {
    "duration": 11,
    "start_time": "2023-02-01T17:22:57.706Z"
   },
   {
    "duration": 53,
    "start_time": "2023-02-01T17:22:57.719Z"
   },
   {
    "duration": 3,
    "start_time": "2023-02-01T17:22:57.774Z"
   },
   {
    "duration": 51,
    "start_time": "2023-02-01T17:22:57.779Z"
   },
   {
    "duration": 42,
    "start_time": "2023-02-01T17:22:57.832Z"
   },
   {
    "duration": 26,
    "start_time": "2023-02-01T17:22:57.878Z"
   },
   {
    "duration": 36,
    "start_time": "2023-02-01T17:22:57.905Z"
   },
   {
    "duration": 38,
    "start_time": "2023-02-01T17:22:57.943Z"
   },
   {
    "duration": 44,
    "start_time": "2023-02-01T17:22:57.983Z"
   },
   {
    "duration": 54,
    "start_time": "2023-02-01T17:22:58.029Z"
   },
   {
    "duration": 27,
    "start_time": "2023-02-01T17:22:58.085Z"
   },
   {
    "duration": 36,
    "start_time": "2023-02-01T17:22:58.115Z"
   },
   {
    "duration": 10,
    "start_time": "2023-02-01T17:22:58.153Z"
   },
   {
    "duration": 58,
    "start_time": "2023-02-01T17:22:58.165Z"
   },
   {
    "duration": 75,
    "start_time": "2023-02-01T17:22:58.225Z"
   },
   {
    "duration": 182,
    "start_time": "2023-02-01T17:22:58.302Z"
   },
   {
    "duration": 7,
    "start_time": "2023-02-01T17:22:58.486Z"
   },
   {
    "duration": 415,
    "start_time": "2023-02-01T17:22:58.495Z"
   },
   {
    "duration": 12,
    "start_time": "2023-02-01T17:22:58.913Z"
   },
   {
    "duration": 10,
    "start_time": "2023-02-01T17:22:58.939Z"
   },
   {
    "duration": 336,
    "start_time": "2023-02-01T17:22:58.952Z"
   },
   {
    "duration": 6,
    "start_time": "2023-02-01T17:22:59.291Z"
   },
   {
    "duration": 13,
    "start_time": "2023-02-01T17:22:59.298Z"
   },
   {
    "duration": 188,
    "start_time": "2023-02-01T17:22:59.315Z"
   },
   {
    "duration": 5,
    "start_time": "2023-02-01T17:22:59.504Z"
   },
   {
    "duration": 28,
    "start_time": "2023-02-01T17:22:59.511Z"
   },
   {
    "duration": 9,
    "start_time": "2023-02-01T17:22:59.540Z"
   },
   {
    "duration": 150,
    "start_time": "2023-02-01T17:22:59.550Z"
   },
   {
    "duration": 178,
    "start_time": "2023-02-01T17:22:59.702Z"
   },
   {
    "duration": 4,
    "start_time": "2023-02-01T17:22:59.882Z"
   },
   {
    "duration": 20,
    "start_time": "2023-02-01T17:22:59.887Z"
   },
   {
    "duration": 31,
    "start_time": "2023-02-01T17:22:59.909Z"
   },
   {
    "duration": 15,
    "start_time": "2023-02-01T17:22:59.942Z"
   },
   {
    "duration": 263,
    "start_time": "2023-02-01T17:22:59.958Z"
   },
   {
    "duration": 5,
    "start_time": "2023-02-01T17:23:00.223Z"
   },
   {
    "duration": 161,
    "start_time": "2023-02-01T17:23:00.230Z"
   },
   {
    "duration": 7,
    "start_time": "2023-02-01T17:23:19.137Z"
   },
   {
    "duration": 437,
    "start_time": "2023-02-01T17:23:21.196Z"
   },
   {
    "duration": 5,
    "start_time": "2023-02-01T17:37:47.669Z"
   },
   {
    "duration": 366,
    "start_time": "2023-02-01T17:37:57.158Z"
   },
   {
    "duration": 85,
    "start_time": "2023-02-01T20:51:08.695Z"
   },
   {
    "duration": 44,
    "start_time": "2023-02-01T20:52:27.172Z"
   },
   {
    "duration": 1381,
    "start_time": "2023-02-01T20:52:33.607Z"
   },
   {
    "duration": 95,
    "start_time": "2023-02-01T20:52:34.990Z"
   },
   {
    "duration": 20,
    "start_time": "2023-02-01T20:52:35.087Z"
   },
   {
    "duration": 15,
    "start_time": "2023-02-01T20:52:35.109Z"
   },
   {
    "duration": 10,
    "start_time": "2023-02-01T20:52:35.126Z"
   },
   {
    "duration": 32,
    "start_time": "2023-02-01T20:52:35.137Z"
   },
   {
    "duration": 3,
    "start_time": "2023-02-01T20:52:35.171Z"
   },
   {
    "duration": 22,
    "start_time": "2023-02-01T20:52:35.175Z"
   },
   {
    "duration": 11,
    "start_time": "2023-02-01T20:52:35.199Z"
   },
   {
    "duration": 15,
    "start_time": "2023-02-01T20:52:35.227Z"
   },
   {
    "duration": 15,
    "start_time": "2023-02-01T20:52:35.244Z"
   },
   {
    "duration": 12,
    "start_time": "2023-02-01T20:52:35.260Z"
   },
   {
    "duration": 7,
    "start_time": "2023-02-01T20:52:35.273Z"
   },
   {
    "duration": 10,
    "start_time": "2023-02-01T20:52:35.282Z"
   },
   {
    "duration": 9,
    "start_time": "2023-02-01T20:52:35.294Z"
   },
   {
    "duration": 27,
    "start_time": "2023-02-01T20:52:35.304Z"
   },
   {
    "duration": 13,
    "start_time": "2023-02-01T20:52:35.332Z"
   },
   {
    "duration": 19,
    "start_time": "2023-02-01T20:52:35.347Z"
   },
   {
    "duration": 15,
    "start_time": "2023-02-01T20:52:35.368Z"
   },
   {
    "duration": 183,
    "start_time": "2023-02-01T20:52:35.385Z"
   },
   {
    "duration": 8,
    "start_time": "2023-02-01T20:52:35.570Z"
   },
   {
    "duration": 375,
    "start_time": "2023-02-01T20:52:35.580Z"
   },
   {
    "duration": 9,
    "start_time": "2023-02-01T20:52:35.956Z"
   },
   {
    "duration": 10,
    "start_time": "2023-02-01T20:52:35.967Z"
   },
   {
    "duration": 308,
    "start_time": "2023-02-01T20:52:35.979Z"
   },
   {
    "duration": 8,
    "start_time": "2023-02-01T20:52:36.289Z"
   },
   {
    "duration": 11,
    "start_time": "2023-02-01T20:52:36.298Z"
   },
   {
    "duration": 206,
    "start_time": "2023-02-01T20:52:36.313Z"
   },
   {
    "duration": 9,
    "start_time": "2023-02-01T20:52:36.520Z"
   },
   {
    "duration": 10,
    "start_time": "2023-02-01T20:52:36.530Z"
   },
   {
    "duration": 6,
    "start_time": "2023-02-01T20:52:36.542Z"
   },
   {
    "duration": 158,
    "start_time": "2023-02-01T20:52:36.549Z"
   },
   {
    "duration": 167,
    "start_time": "2023-02-01T20:52:36.709Z"
   },
   {
    "duration": 4,
    "start_time": "2023-02-01T20:52:36.878Z"
   },
   {
    "duration": 18,
    "start_time": "2023-02-01T20:52:36.884Z"
   },
   {
    "duration": 33,
    "start_time": "2023-02-01T20:52:36.903Z"
   },
   {
    "duration": 16,
    "start_time": "2023-02-01T20:52:36.938Z"
   },
   {
    "duration": 273,
    "start_time": "2023-02-01T20:52:36.956Z"
   },
   {
    "duration": 4,
    "start_time": "2023-02-01T20:52:37.231Z"
   },
   {
    "duration": 460,
    "start_time": "2023-02-01T20:52:37.236Z"
   },
   {
    "duration": 4,
    "start_time": "2023-02-01T20:52:37.698Z"
   },
   {
    "duration": 383,
    "start_time": "2023-02-01T20:52:37.704Z"
   },
   {
    "duration": 10,
    "start_time": "2023-02-01T20:52:38.089Z"
   },
   {
    "duration": 1419,
    "start_time": "2023-02-01T20:54:50.602Z"
   },
   {
    "duration": 1239,
    "start_time": "2023-02-01T20:56:00.036Z"
   },
   {
    "duration": 99,
    "start_time": "2023-02-01T20:56:13.186Z"
   },
   {
    "duration": 37,
    "start_time": "2023-02-01T20:56:26.422Z"
   },
   {
    "duration": 188,
    "start_time": "2023-02-01T20:57:18.226Z"
   },
   {
    "duration": 345,
    "start_time": "2023-02-01T20:58:00.361Z"
   },
   {
    "duration": 327,
    "start_time": "2023-02-01T20:58:07.159Z"
   },
   {
    "duration": 274,
    "start_time": "2023-02-01T21:00:10.392Z"
   },
   {
    "duration": 1209,
    "start_time": "2023-02-01T21:02:07.394Z"
   },
   {
    "duration": 333,
    "start_time": "2023-02-01T21:03:01.420Z"
   },
   {
    "duration": 225,
    "start_time": "2023-02-01T21:03:59.905Z"
   },
   {
    "duration": 3,
    "start_time": "2023-02-01T21:12:31.905Z"
   },
   {
    "duration": 5,
    "start_time": "2023-02-01T21:25:52.264Z"
   },
   {
    "duration": 10,
    "start_time": "2023-02-01T21:26:17.893Z"
   },
   {
    "duration": 14,
    "start_time": "2023-02-01T21:29:32.312Z"
   },
   {
    "duration": 1210,
    "start_time": "2023-02-01T21:29:42.829Z"
   },
   {
    "duration": 57,
    "start_time": "2023-02-01T21:29:44.042Z"
   },
   {
    "duration": 20,
    "start_time": "2023-02-01T21:29:44.101Z"
   },
   {
    "duration": 14,
    "start_time": "2023-02-01T21:29:44.123Z"
   },
   {
    "duration": 10,
    "start_time": "2023-02-01T21:29:44.139Z"
   },
   {
    "duration": 37,
    "start_time": "2023-02-01T21:29:44.150Z"
   },
   {
    "duration": 5,
    "start_time": "2023-02-01T21:29:44.190Z"
   },
   {
    "duration": 36,
    "start_time": "2023-02-01T21:29:44.198Z"
   },
   {
    "duration": 13,
    "start_time": "2023-02-01T21:29:44.236Z"
   },
   {
    "duration": 17,
    "start_time": "2023-02-01T21:29:44.252Z"
   },
   {
    "duration": 18,
    "start_time": "2023-02-01T21:29:44.271Z"
   },
   {
    "duration": 35,
    "start_time": "2023-02-01T21:29:44.292Z"
   },
   {
    "duration": 10,
    "start_time": "2023-02-01T21:29:44.329Z"
   },
   {
    "duration": 27,
    "start_time": "2023-02-01T21:29:44.341Z"
   },
   {
    "duration": 15,
    "start_time": "2023-02-01T21:29:44.370Z"
   },
   {
    "duration": 11,
    "start_time": "2023-02-01T21:29:44.387Z"
   },
   {
    "duration": 16,
    "start_time": "2023-02-01T21:29:44.401Z"
   },
   {
    "duration": 27,
    "start_time": "2023-02-01T21:29:44.419Z"
   },
   {
    "duration": 27,
    "start_time": "2023-02-01T21:29:44.449Z"
   },
   {
    "duration": 210,
    "start_time": "2023-02-01T21:29:44.478Z"
   },
   {
    "duration": 8,
    "start_time": "2023-02-01T21:29:44.691Z"
   },
   {
    "duration": 403,
    "start_time": "2023-02-01T21:29:44.701Z"
   },
   {
    "duration": 11,
    "start_time": "2023-02-01T21:29:45.105Z"
   },
   {
    "duration": 11,
    "start_time": "2023-02-01T21:29:45.118Z"
   },
   {
    "duration": 332,
    "start_time": "2023-02-01T21:29:45.131Z"
   },
   {
    "duration": 9,
    "start_time": "2023-02-01T21:29:45.465Z"
   },
   {
    "duration": 14,
    "start_time": "2023-02-01T21:29:45.477Z"
   },
   {
    "duration": 206,
    "start_time": "2023-02-01T21:29:45.496Z"
   },
   {
    "duration": 5,
    "start_time": "2023-02-01T21:29:45.704Z"
   },
   {
    "duration": 16,
    "start_time": "2023-02-01T21:29:45.711Z"
   },
   {
    "duration": 6,
    "start_time": "2023-02-01T21:29:45.729Z"
   },
   {
    "duration": 169,
    "start_time": "2023-02-01T21:29:45.736Z"
   },
   {
    "duration": 174,
    "start_time": "2023-02-01T21:29:45.906Z"
   },
   {
    "duration": 4,
    "start_time": "2023-02-01T21:29:46.081Z"
   },
   {
    "duration": 24,
    "start_time": "2023-02-01T21:29:46.087Z"
   },
   {
    "duration": 27,
    "start_time": "2023-02-01T21:29:46.113Z"
   },
   {
    "duration": 15,
    "start_time": "2023-02-01T21:29:46.142Z"
   },
   {
    "duration": 305,
    "start_time": "2023-02-01T21:29:46.159Z"
   },
   {
    "duration": 5,
    "start_time": "2023-02-01T21:29:46.466Z"
   },
   {
    "duration": 472,
    "start_time": "2023-02-01T21:29:46.473Z"
   },
   {
    "duration": 4,
    "start_time": "2023-02-01T21:29:46.947Z"
   },
   {
    "duration": 375,
    "start_time": "2023-02-01T21:29:46.953Z"
   },
   {
    "duration": 244,
    "start_time": "2023-02-01T21:29:47.330Z"
   },
   {
    "duration": 11,
    "start_time": "2023-02-01T21:29:47.576Z"
   },
   {
    "duration": 15,
    "start_time": "2023-02-01T21:30:21.801Z"
   },
   {
    "duration": 12,
    "start_time": "2023-02-01T21:30:32.592Z"
   },
   {
    "duration": 16,
    "start_time": "2023-02-01T21:31:47.937Z"
   },
   {
    "duration": 12,
    "start_time": "2023-02-01T21:32:11.125Z"
   },
   {
    "duration": 12,
    "start_time": "2023-02-01T21:32:17.618Z"
   },
   {
    "duration": 15,
    "start_time": "2023-02-01T21:33:20.991Z"
   },
   {
    "duration": 15,
    "start_time": "2023-02-01T21:33:26.531Z"
   },
   {
    "duration": 12,
    "start_time": "2023-02-01T21:34:46.206Z"
   },
   {
    "duration": 3,
    "start_time": "2023-02-01T21:36:09.947Z"
   },
   {
    "duration": 271,
    "start_time": "2023-02-01T21:36:10.998Z"
   },
   {
    "duration": 1181,
    "start_time": "2023-02-01T21:36:16.889Z"
   },
   {
    "duration": 52,
    "start_time": "2023-02-01T21:36:18.072Z"
   },
   {
    "duration": 21,
    "start_time": "2023-02-01T21:36:18.126Z"
   },
   {
    "duration": 39,
    "start_time": "2023-02-01T21:36:18.149Z"
   },
   {
    "duration": 31,
    "start_time": "2023-02-01T21:36:18.190Z"
   },
   {
    "duration": 60,
    "start_time": "2023-02-01T21:36:18.223Z"
   },
   {
    "duration": 29,
    "start_time": "2023-02-01T21:36:18.284Z"
   },
   {
    "duration": 21,
    "start_time": "2023-02-01T21:36:18.315Z"
   },
   {
    "duration": 37,
    "start_time": "2023-02-01T21:36:18.338Z"
   },
   {
    "duration": 26,
    "start_time": "2023-02-01T21:36:18.377Z"
   },
   {
    "duration": 32,
    "start_time": "2023-02-01T21:36:18.404Z"
   },
   {
    "duration": 35,
    "start_time": "2023-02-01T21:36:18.437Z"
   },
   {
    "duration": 20,
    "start_time": "2023-02-01T21:36:18.474Z"
   },
   {
    "duration": 25,
    "start_time": "2023-02-01T21:36:18.497Z"
   },
   {
    "duration": 40,
    "start_time": "2023-02-01T21:36:18.524Z"
   },
   {
    "duration": 32,
    "start_time": "2023-02-01T21:36:18.566Z"
   },
   {
    "duration": 24,
    "start_time": "2023-02-01T21:36:18.600Z"
   },
   {
    "duration": 45,
    "start_time": "2023-02-01T21:36:18.626Z"
   },
   {
    "duration": 48,
    "start_time": "2023-02-01T21:36:18.673Z"
   },
   {
    "duration": 182,
    "start_time": "2023-02-01T21:36:18.723Z"
   },
   {
    "duration": 6,
    "start_time": "2023-02-01T21:36:18.907Z"
   },
   {
    "duration": 379,
    "start_time": "2023-02-01T21:36:18.915Z"
   },
   {
    "duration": 8,
    "start_time": "2023-02-01T21:36:19.296Z"
   },
   {
    "duration": 19,
    "start_time": "2023-02-01T21:36:19.306Z"
   },
   {
    "duration": 135,
    "start_time": "2023-02-01T21:36:19.327Z"
   },
   {
    "duration": 0,
    "start_time": "2023-02-01T21:36:19.463Z"
   },
   {
    "duration": 0,
    "start_time": "2023-02-01T21:36:19.465Z"
   },
   {
    "duration": 0,
    "start_time": "2023-02-01T21:36:19.466Z"
   },
   {
    "duration": 0,
    "start_time": "2023-02-01T21:36:19.467Z"
   },
   {
    "duration": 0,
    "start_time": "2023-02-01T21:36:19.468Z"
   },
   {
    "duration": 0,
    "start_time": "2023-02-01T21:36:19.470Z"
   },
   {
    "duration": 0,
    "start_time": "2023-02-01T21:36:19.472Z"
   },
   {
    "duration": 0,
    "start_time": "2023-02-01T21:36:19.472Z"
   },
   {
    "duration": 0,
    "start_time": "2023-02-01T21:36:19.474Z"
   },
   {
    "duration": 0,
    "start_time": "2023-02-01T21:36:19.475Z"
   },
   {
    "duration": 0,
    "start_time": "2023-02-01T21:36:19.476Z"
   },
   {
    "duration": 0,
    "start_time": "2023-02-01T21:36:19.478Z"
   },
   {
    "duration": 0,
    "start_time": "2023-02-01T21:36:19.479Z"
   },
   {
    "duration": 0,
    "start_time": "2023-02-01T21:36:19.480Z"
   },
   {
    "duration": 0,
    "start_time": "2023-02-01T21:36:19.482Z"
   },
   {
    "duration": 0,
    "start_time": "2023-02-01T21:36:19.483Z"
   },
   {
    "duration": 0,
    "start_time": "2023-02-01T21:36:19.484Z"
   },
   {
    "duration": 0,
    "start_time": "2023-02-01T21:36:19.486Z"
   },
   {
    "duration": 0,
    "start_time": "2023-02-01T21:36:19.487Z"
   },
   {
    "duration": 6,
    "start_time": "2023-02-01T21:36:57.235Z"
   },
   {
    "duration": 478,
    "start_time": "2023-02-01T21:36:57.901Z"
   },
   {
    "duration": 13,
    "start_time": "2023-02-01T21:38:06.120Z"
   },
   {
    "duration": 474,
    "start_time": "2023-02-01T21:38:06.762Z"
   },
   {
    "duration": 1315,
    "start_time": "2023-02-01T21:38:15.409Z"
   },
   {
    "duration": 52,
    "start_time": "2023-02-01T21:38:16.726Z"
   },
   {
    "duration": 22,
    "start_time": "2023-02-01T21:38:16.780Z"
   },
   {
    "duration": 19,
    "start_time": "2023-02-01T21:38:16.805Z"
   },
   {
    "duration": 13,
    "start_time": "2023-02-01T21:38:16.828Z"
   },
   {
    "duration": 42,
    "start_time": "2023-02-01T21:38:16.843Z"
   },
   {
    "duration": 3,
    "start_time": "2023-02-01T21:38:16.887Z"
   },
   {
    "duration": 23,
    "start_time": "2023-02-01T21:38:16.891Z"
   },
   {
    "duration": 10,
    "start_time": "2023-02-01T21:38:16.928Z"
   },
   {
    "duration": 25,
    "start_time": "2023-02-01T21:38:16.941Z"
   },
   {
    "duration": 21,
    "start_time": "2023-02-01T21:38:16.968Z"
   },
   {
    "duration": 18,
    "start_time": "2023-02-01T21:38:16.991Z"
   },
   {
    "duration": 9,
    "start_time": "2023-02-01T21:38:17.028Z"
   },
   {
    "duration": 25,
    "start_time": "2023-02-01T21:38:17.038Z"
   },
   {
    "duration": 14,
    "start_time": "2023-02-01T21:38:17.065Z"
   },
   {
    "duration": 12,
    "start_time": "2023-02-01T21:38:17.081Z"
   },
   {
    "duration": 29,
    "start_time": "2023-02-01T21:38:17.095Z"
   },
   {
    "duration": 72,
    "start_time": "2023-02-01T21:38:17.126Z"
   },
   {
    "duration": 20,
    "start_time": "2023-02-01T21:38:17.200Z"
   },
   {
    "duration": 258,
    "start_time": "2023-02-01T21:38:17.222Z"
   },
   {
    "duration": 8,
    "start_time": "2023-02-01T21:38:17.483Z"
   },
   {
    "duration": 472,
    "start_time": "2023-02-01T21:38:17.494Z"
   },
   {
    "duration": 11,
    "start_time": "2023-02-01T21:38:17.969Z"
   },
   {
    "duration": 16,
    "start_time": "2023-02-01T21:38:17.982Z"
   },
   {
    "duration": 411,
    "start_time": "2023-02-01T21:38:18.000Z"
   },
   {
    "duration": 11,
    "start_time": "2023-02-01T21:38:18.415Z"
   },
   {
    "duration": 29,
    "start_time": "2023-02-01T21:38:18.431Z"
   },
   {
    "duration": 254,
    "start_time": "2023-02-01T21:38:18.464Z"
   },
   {
    "duration": 10,
    "start_time": "2023-02-01T21:38:18.719Z"
   },
   {
    "duration": 14,
    "start_time": "2023-02-01T21:38:18.731Z"
   },
   {
    "duration": 14,
    "start_time": "2023-02-01T21:38:18.747Z"
   },
   {
    "duration": 167,
    "start_time": "2023-02-01T21:38:18.764Z"
   },
   {
    "duration": 197,
    "start_time": "2023-02-01T21:38:18.932Z"
   },
   {
    "duration": 5,
    "start_time": "2023-02-01T21:38:19.133Z"
   },
   {
    "duration": 33,
    "start_time": "2023-02-01T21:38:19.141Z"
   },
   {
    "duration": 20,
    "start_time": "2023-02-01T21:38:19.176Z"
   },
   {
    "duration": 41,
    "start_time": "2023-02-01T21:38:19.200Z"
   },
   {
    "duration": 322,
    "start_time": "2023-02-01T21:38:19.243Z"
   },
   {
    "duration": 6,
    "start_time": "2023-02-01T21:38:19.568Z"
   },
   {
    "duration": 565,
    "start_time": "2023-02-01T21:38:19.579Z"
   },
   {
    "duration": 4,
    "start_time": "2023-02-01T21:38:20.146Z"
   },
   {
    "duration": 568,
    "start_time": "2023-02-01T21:38:20.152Z"
   },
   {
    "duration": 291,
    "start_time": "2023-02-01T21:38:20.723Z"
   },
   {
    "duration": 16,
    "start_time": "2023-02-01T21:38:21.016Z"
   },
   {
    "duration": 15,
    "start_time": "2023-02-01T21:38:43.023Z"
   },
   {
    "duration": 12,
    "start_time": "2023-02-01T21:40:57.362Z"
   },
   {
    "duration": 14,
    "start_time": "2023-02-01T21:42:34.516Z"
   },
   {
    "duration": 1186,
    "start_time": "2023-02-01T21:42:43.597Z"
   },
   {
    "duration": 51,
    "start_time": "2023-02-01T21:42:44.785Z"
   },
   {
    "duration": 23,
    "start_time": "2023-02-01T21:42:44.838Z"
   },
   {
    "duration": 33,
    "start_time": "2023-02-01T21:42:44.863Z"
   },
   {
    "duration": 26,
    "start_time": "2023-02-01T21:42:44.898Z"
   },
   {
    "duration": 55,
    "start_time": "2023-02-01T21:42:44.926Z"
   },
   {
    "duration": 17,
    "start_time": "2023-02-01T21:42:44.983Z"
   },
   {
    "duration": 59,
    "start_time": "2023-02-01T21:42:45.002Z"
   },
   {
    "duration": 24,
    "start_time": "2023-02-01T21:42:45.063Z"
   },
   {
    "duration": 31,
    "start_time": "2023-02-01T21:42:45.089Z"
   },
   {
    "duration": 32,
    "start_time": "2023-02-01T21:42:45.122Z"
   },
   {
    "duration": 25,
    "start_time": "2023-02-01T21:42:45.156Z"
   },
   {
    "duration": 28,
    "start_time": "2023-02-01T21:42:45.183Z"
   },
   {
    "duration": 49,
    "start_time": "2023-02-01T21:42:45.214Z"
   },
   {
    "duration": 25,
    "start_time": "2023-02-01T21:42:45.265Z"
   },
   {
    "duration": 28,
    "start_time": "2023-02-01T21:42:45.291Z"
   },
   {
    "duration": 47,
    "start_time": "2023-02-01T21:42:45.321Z"
   },
   {
    "duration": 57,
    "start_time": "2023-02-01T21:42:45.371Z"
   },
   {
    "duration": 52,
    "start_time": "2023-02-01T21:42:45.430Z"
   },
   {
    "duration": 223,
    "start_time": "2023-02-01T21:42:45.484Z"
   },
   {
    "duration": 9,
    "start_time": "2023-02-01T21:42:45.708Z"
   },
   {
    "duration": 418,
    "start_time": "2023-02-01T21:42:45.726Z"
   },
   {
    "duration": 11,
    "start_time": "2023-02-01T21:42:46.146Z"
   },
   {
    "duration": 17,
    "start_time": "2023-02-01T21:42:46.159Z"
   },
   {
    "duration": 369,
    "start_time": "2023-02-01T21:42:46.178Z"
   },
   {
    "duration": 8,
    "start_time": "2023-02-01T21:42:46.551Z"
   },
   {
    "duration": 19,
    "start_time": "2023-02-01T21:42:46.562Z"
   },
   {
    "duration": 236,
    "start_time": "2023-02-01T21:42:46.583Z"
   },
   {
    "duration": 8,
    "start_time": "2023-02-01T21:42:46.821Z"
   },
   {
    "duration": 43,
    "start_time": "2023-02-01T21:42:46.830Z"
   },
   {
    "duration": 31,
    "start_time": "2023-02-01T21:42:46.875Z"
   },
   {
    "duration": 161,
    "start_time": "2023-02-01T21:42:46.908Z"
   },
   {
    "duration": 182,
    "start_time": "2023-02-01T21:42:47.070Z"
   },
   {
    "duration": 4,
    "start_time": "2023-02-01T21:42:47.254Z"
   },
   {
    "duration": 33,
    "start_time": "2023-02-01T21:42:47.260Z"
   },
   {
    "duration": 23,
    "start_time": "2023-02-01T21:42:47.295Z"
   },
   {
    "duration": 17,
    "start_time": "2023-02-01T21:42:47.320Z"
   },
   {
    "duration": 275,
    "start_time": "2023-02-01T21:42:47.339Z"
   },
   {
    "duration": 4,
    "start_time": "2023-02-01T21:42:47.616Z"
   },
   {
    "duration": 490,
    "start_time": "2023-02-01T21:42:47.626Z"
   },
   {
    "duration": 9,
    "start_time": "2023-02-01T21:42:48.119Z"
   },
   {
    "duration": 458,
    "start_time": "2023-02-01T21:42:48.129Z"
   },
   {
    "duration": 286,
    "start_time": "2023-02-01T21:42:48.589Z"
   },
   {
    "duration": 13,
    "start_time": "2023-02-01T21:42:48.876Z"
   },
   {
    "duration": 24,
    "start_time": "2023-02-01T21:42:48.891Z"
   },
   {
    "duration": 13,
    "start_time": "2023-02-01T21:43:24.918Z"
   },
   {
    "duration": 69,
    "start_time": "2023-02-02T06:20:06.573Z"
   },
   {
    "duration": 8,
    "start_time": "2023-02-02T06:20:27.425Z"
   },
   {
    "duration": 1515,
    "start_time": "2023-02-02T06:30:29.230Z"
   },
   {
    "duration": 320,
    "start_time": "2023-02-02T06:30:30.748Z"
   },
   {
    "duration": 22,
    "start_time": "2023-02-02T06:30:31.070Z"
   },
   {
    "duration": 28,
    "start_time": "2023-02-02T06:30:31.095Z"
   },
   {
    "duration": 19,
    "start_time": "2023-02-02T06:30:31.126Z"
   },
   {
    "duration": 41,
    "start_time": "2023-02-02T06:30:31.147Z"
   },
   {
    "duration": 3,
    "start_time": "2023-02-02T06:30:31.190Z"
   },
   {
    "duration": 28,
    "start_time": "2023-02-02T06:30:31.195Z"
   },
   {
    "duration": 22,
    "start_time": "2023-02-02T06:30:31.225Z"
   },
   {
    "duration": 32,
    "start_time": "2023-02-02T06:30:31.251Z"
   },
   {
    "duration": 18,
    "start_time": "2023-02-02T06:30:31.285Z"
   },
   {
    "duration": 19,
    "start_time": "2023-02-02T06:30:31.304Z"
   },
   {
    "duration": 8,
    "start_time": "2023-02-02T06:30:31.324Z"
   },
   {
    "duration": 8,
    "start_time": "2023-02-02T06:30:31.334Z"
   },
   {
    "duration": 20,
    "start_time": "2023-02-02T06:30:31.344Z"
   },
   {
    "duration": 21,
    "start_time": "2023-02-02T06:30:31.367Z"
   },
   {
    "duration": 6,
    "start_time": "2023-02-02T06:30:31.390Z"
   },
   {
    "duration": 28,
    "start_time": "2023-02-02T06:30:31.398Z"
   },
   {
    "duration": 24,
    "start_time": "2023-02-02T06:30:31.429Z"
   },
   {
    "duration": 201,
    "start_time": "2023-02-02T06:30:31.456Z"
   },
   {
    "duration": 9,
    "start_time": "2023-02-02T06:30:31.660Z"
   },
   {
    "duration": 395,
    "start_time": "2023-02-02T06:30:31.671Z"
   },
   {
    "duration": 10,
    "start_time": "2023-02-02T06:30:32.068Z"
   },
   {
    "duration": 26,
    "start_time": "2023-02-02T06:30:32.079Z"
   },
   {
    "duration": 353,
    "start_time": "2023-02-02T06:30:32.107Z"
   },
   {
    "duration": 10,
    "start_time": "2023-02-02T06:30:32.463Z"
   },
   {
    "duration": 43,
    "start_time": "2023-02-02T06:30:32.474Z"
   },
   {
    "duration": 212,
    "start_time": "2023-02-02T06:30:32.522Z"
   },
   {
    "duration": 6,
    "start_time": "2023-02-02T06:30:32.736Z"
   },
   {
    "duration": 8,
    "start_time": "2023-02-02T06:30:32.744Z"
   },
   {
    "duration": 7,
    "start_time": "2023-02-02T06:30:32.754Z"
   },
   {
    "duration": 184,
    "start_time": "2023-02-02T06:30:32.763Z"
   },
   {
    "duration": 193,
    "start_time": "2023-02-02T06:30:32.950Z"
   },
   {
    "duration": 4,
    "start_time": "2023-02-02T06:30:33.145Z"
   },
   {
    "duration": 17,
    "start_time": "2023-02-02T06:30:33.151Z"
   },
   {
    "duration": 14,
    "start_time": "2023-02-02T06:30:33.170Z"
   },
   {
    "duration": 42,
    "start_time": "2023-02-02T06:30:33.186Z"
   },
   {
    "duration": 279,
    "start_time": "2023-02-02T06:30:33.230Z"
   },
   {
    "duration": 10,
    "start_time": "2023-02-02T06:30:33.511Z"
   },
   {
    "duration": 531,
    "start_time": "2023-02-02T06:30:33.522Z"
   },
   {
    "duration": 4,
    "start_time": "2023-02-02T06:30:34.055Z"
   },
   {
    "duration": 437,
    "start_time": "2023-02-02T06:30:34.060Z"
   },
   {
    "duration": 361,
    "start_time": "2023-02-02T06:30:34.500Z"
   },
   {
    "duration": 14,
    "start_time": "2023-02-02T06:30:34.863Z"
   },
   {
    "duration": 35,
    "start_time": "2023-02-02T06:30:34.879Z"
   },
   {
    "duration": 1184,
    "start_time": "2023-02-02T07:37:49.958Z"
   },
   {
    "duration": 66,
    "start_time": "2023-02-02T07:37:51.143Z"
   },
   {
    "duration": 19,
    "start_time": "2023-02-02T07:37:51.210Z"
   },
   {
    "duration": 22,
    "start_time": "2023-02-02T07:37:51.231Z"
   },
   {
    "duration": 26,
    "start_time": "2023-02-02T07:37:51.255Z"
   },
   {
    "duration": 42,
    "start_time": "2023-02-02T07:37:51.283Z"
   },
   {
    "duration": 3,
    "start_time": "2023-02-02T07:37:51.327Z"
   },
   {
    "duration": 21,
    "start_time": "2023-02-02T07:37:51.331Z"
   },
   {
    "duration": 36,
    "start_time": "2023-02-02T07:37:51.354Z"
   },
   {
    "duration": 34,
    "start_time": "2023-02-02T07:37:51.393Z"
   },
   {
    "duration": 23,
    "start_time": "2023-02-02T07:37:51.429Z"
   },
   {
    "duration": 36,
    "start_time": "2023-02-02T07:37:51.454Z"
   },
   {
    "duration": 7,
    "start_time": "2023-02-02T07:37:51.492Z"
   },
   {
    "duration": 20,
    "start_time": "2023-02-02T07:37:51.501Z"
   },
   {
    "duration": 12,
    "start_time": "2023-02-02T07:37:51.523Z"
   },
   {
    "duration": 34,
    "start_time": "2023-02-02T07:37:51.536Z"
   },
   {
    "duration": 25,
    "start_time": "2023-02-02T07:37:51.573Z"
   },
   {
    "duration": 21,
    "start_time": "2023-02-02T07:37:51.600Z"
   },
   {
    "duration": 24,
    "start_time": "2023-02-02T07:37:51.623Z"
   },
   {
    "duration": 176,
    "start_time": "2023-02-02T07:37:51.649Z"
   },
   {
    "duration": 6,
    "start_time": "2023-02-02T07:37:51.827Z"
   },
   {
    "duration": 363,
    "start_time": "2023-02-02T07:37:51.834Z"
   },
   {
    "duration": 7,
    "start_time": "2023-02-02T07:37:52.199Z"
   },
   {
    "duration": 41,
    "start_time": "2023-02-02T07:37:52.208Z"
   },
   {
    "duration": 330,
    "start_time": "2023-02-02T07:37:52.251Z"
   },
   {
    "duration": 8,
    "start_time": "2023-02-02T07:37:52.583Z"
   },
   {
    "duration": 31,
    "start_time": "2023-02-02T07:37:52.593Z"
   },
   {
    "duration": 208,
    "start_time": "2023-02-02T07:37:52.629Z"
   },
   {
    "duration": 5,
    "start_time": "2023-02-02T07:37:52.839Z"
   },
   {
    "duration": 38,
    "start_time": "2023-02-02T07:37:52.845Z"
   },
   {
    "duration": 18,
    "start_time": "2023-02-02T07:37:52.885Z"
   },
   {
    "duration": 155,
    "start_time": "2023-02-02T07:37:52.905Z"
   },
   {
    "duration": 167,
    "start_time": "2023-02-02T07:37:53.062Z"
   },
   {
    "duration": 3,
    "start_time": "2023-02-02T07:37:53.231Z"
   },
   {
    "duration": 48,
    "start_time": "2023-02-02T07:37:53.235Z"
   },
   {
    "duration": 55,
    "start_time": "2023-02-02T07:37:53.287Z"
   },
   {
    "duration": 17,
    "start_time": "2023-02-02T07:37:53.344Z"
   },
   {
    "duration": 282,
    "start_time": "2023-02-02T07:37:53.362Z"
   },
   {
    "duration": 4,
    "start_time": "2023-02-02T07:37:53.646Z"
   },
   {
    "duration": 448,
    "start_time": "2023-02-02T07:37:53.652Z"
   },
   {
    "duration": 4,
    "start_time": "2023-02-02T07:37:54.101Z"
   },
   {
    "duration": 353,
    "start_time": "2023-02-02T07:37:54.107Z"
   },
   {
    "duration": 232,
    "start_time": "2023-02-02T07:37:54.462Z"
   },
   {
    "duration": 12,
    "start_time": "2023-02-02T07:37:54.695Z"
   },
   {
    "duration": 15,
    "start_time": "2023-02-02T07:37:54.708Z"
   },
   {
    "duration": 53,
    "start_time": "2023-02-02T08:45:45.836Z"
   },
   {
    "duration": 1267,
    "start_time": "2023-02-02T08:45:52.045Z"
   },
   {
    "duration": 85,
    "start_time": "2023-02-02T08:45:53.314Z"
   },
   {
    "duration": 20,
    "start_time": "2023-02-02T08:45:53.401Z"
   },
   {
    "duration": 14,
    "start_time": "2023-02-02T08:45:53.423Z"
   },
   {
    "duration": 13,
    "start_time": "2023-02-02T08:45:53.438Z"
   },
   {
    "duration": 97,
    "start_time": "2023-02-02T08:45:53.453Z"
   },
   {
    "duration": 0,
    "start_time": "2023-02-02T08:45:53.553Z"
   },
   {
    "duration": 0,
    "start_time": "2023-02-02T08:45:53.554Z"
   },
   {
    "duration": 0,
    "start_time": "2023-02-02T08:45:53.555Z"
   },
   {
    "duration": 0,
    "start_time": "2023-02-02T08:45:53.556Z"
   },
   {
    "duration": 0,
    "start_time": "2023-02-02T08:45:53.558Z"
   },
   {
    "duration": 0,
    "start_time": "2023-02-02T08:45:53.559Z"
   },
   {
    "duration": 0,
    "start_time": "2023-02-02T08:45:53.560Z"
   },
   {
    "duration": 0,
    "start_time": "2023-02-02T08:45:53.560Z"
   },
   {
    "duration": 0,
    "start_time": "2023-02-02T08:45:53.561Z"
   },
   {
    "duration": 0,
    "start_time": "2023-02-02T08:45:53.562Z"
   },
   {
    "duration": 0,
    "start_time": "2023-02-02T08:45:53.563Z"
   },
   {
    "duration": 0,
    "start_time": "2023-02-02T08:45:53.564Z"
   },
   {
    "duration": 0,
    "start_time": "2023-02-02T08:45:53.565Z"
   },
   {
    "duration": 0,
    "start_time": "2023-02-02T08:45:53.593Z"
   },
   {
    "duration": 0,
    "start_time": "2023-02-02T08:45:53.594Z"
   },
   {
    "duration": 0,
    "start_time": "2023-02-02T08:45:53.595Z"
   },
   {
    "duration": 0,
    "start_time": "2023-02-02T08:45:53.596Z"
   },
   {
    "duration": 0,
    "start_time": "2023-02-02T08:45:53.598Z"
   },
   {
    "duration": 0,
    "start_time": "2023-02-02T08:45:53.598Z"
   },
   {
    "duration": 0,
    "start_time": "2023-02-02T08:45:53.600Z"
   },
   {
    "duration": 0,
    "start_time": "2023-02-02T08:45:53.601Z"
   },
   {
    "duration": 0,
    "start_time": "2023-02-02T08:45:53.602Z"
   },
   {
    "duration": 0,
    "start_time": "2023-02-02T08:45:53.603Z"
   },
   {
    "duration": 0,
    "start_time": "2023-02-02T08:45:53.604Z"
   },
   {
    "duration": 0,
    "start_time": "2023-02-02T08:45:53.605Z"
   },
   {
    "duration": 0,
    "start_time": "2023-02-02T08:45:53.606Z"
   },
   {
    "duration": 0,
    "start_time": "2023-02-02T08:45:53.607Z"
   },
   {
    "duration": 0,
    "start_time": "2023-02-02T08:45:53.608Z"
   },
   {
    "duration": 0,
    "start_time": "2023-02-02T08:45:53.608Z"
   },
   {
    "duration": 0,
    "start_time": "2023-02-02T08:45:53.609Z"
   },
   {
    "duration": 0,
    "start_time": "2023-02-02T08:45:53.610Z"
   },
   {
    "duration": 0,
    "start_time": "2023-02-02T08:45:53.611Z"
   },
   {
    "duration": 0,
    "start_time": "2023-02-02T08:45:53.612Z"
   },
   {
    "duration": 0,
    "start_time": "2023-02-02T08:45:53.613Z"
   },
   {
    "duration": 0,
    "start_time": "2023-02-02T08:45:53.614Z"
   },
   {
    "duration": 0,
    "start_time": "2023-02-02T08:45:53.615Z"
   },
   {
    "duration": 0,
    "start_time": "2023-02-02T08:45:53.616Z"
   },
   {
    "duration": 0,
    "start_time": "2023-02-02T08:45:53.617Z"
   },
   {
    "duration": 0,
    "start_time": "2023-02-02T08:45:53.618Z"
   },
   {
    "duration": 0,
    "start_time": "2023-02-02T08:45:53.619Z"
   },
   {
    "duration": 48,
    "start_time": "2023-02-02T08:46:20.865Z"
   },
   {
    "duration": 15,
    "start_time": "2023-02-02T08:49:11.413Z"
   },
   {
    "duration": 1092,
    "start_time": "2023-02-02T09:04:37.545Z"
   },
   {
    "duration": 48,
    "start_time": "2023-02-02T09:04:38.639Z"
   },
   {
    "duration": 21,
    "start_time": "2023-02-02T09:04:38.689Z"
   },
   {
    "duration": 16,
    "start_time": "2023-02-02T09:04:38.712Z"
   },
   {
    "duration": 14,
    "start_time": "2023-02-02T09:04:38.729Z"
   },
   {
    "duration": 79,
    "start_time": "2023-02-02T09:04:38.744Z"
   },
   {
    "duration": 29,
    "start_time": "2023-02-02T09:04:38.824Z"
   },
   {
    "duration": 3,
    "start_time": "2023-02-02T09:04:38.855Z"
   },
   {
    "duration": 34,
    "start_time": "2023-02-02T09:04:38.859Z"
   },
   {
    "duration": 14,
    "start_time": "2023-02-02T09:04:38.896Z"
   },
   {
    "duration": 20,
    "start_time": "2023-02-02T09:04:38.912Z"
   },
   {
    "duration": 29,
    "start_time": "2023-02-02T09:04:38.934Z"
   },
   {
    "duration": 26,
    "start_time": "2023-02-02T09:04:38.966Z"
   },
   {
    "duration": 13,
    "start_time": "2023-02-02T09:04:38.994Z"
   },
   {
    "duration": 19,
    "start_time": "2023-02-02T09:04:39.009Z"
   },
   {
    "duration": 22,
    "start_time": "2023-02-02T09:04:39.030Z"
   },
   {
    "duration": 21,
    "start_time": "2023-02-02T09:04:39.054Z"
   },
   {
    "duration": 36,
    "start_time": "2023-02-02T09:04:39.076Z"
   },
   {
    "duration": 26,
    "start_time": "2023-02-02T09:04:39.114Z"
   },
   {
    "duration": 25,
    "start_time": "2023-02-02T09:04:39.141Z"
   },
   {
    "duration": 243,
    "start_time": "2023-02-02T09:04:39.167Z"
   },
   {
    "duration": 7,
    "start_time": "2023-02-02T09:04:39.411Z"
   },
   {
    "duration": 385,
    "start_time": "2023-02-02T09:04:39.420Z"
   },
   {
    "duration": 8,
    "start_time": "2023-02-02T09:04:39.807Z"
   },
   {
    "duration": 12,
    "start_time": "2023-02-02T09:04:39.816Z"
   },
   {
    "duration": 315,
    "start_time": "2023-02-02T09:04:39.830Z"
   },
   {
    "duration": 8,
    "start_time": "2023-02-02T09:04:40.147Z"
   },
   {
    "duration": 22,
    "start_time": "2023-02-02T09:04:40.158Z"
   },
   {
    "duration": 204,
    "start_time": "2023-02-02T09:04:40.182Z"
   },
   {
    "duration": 8,
    "start_time": "2023-02-02T09:04:40.387Z"
   },
   {
    "duration": 42,
    "start_time": "2023-02-02T09:04:40.397Z"
   },
   {
    "duration": 22,
    "start_time": "2023-02-02T09:04:40.441Z"
   },
   {
    "duration": 187,
    "start_time": "2023-02-02T09:04:40.465Z"
   },
   {
    "duration": 183,
    "start_time": "2023-02-02T09:04:40.654Z"
   },
   {
    "duration": 5,
    "start_time": "2023-02-02T09:04:40.839Z"
   },
   {
    "duration": 32,
    "start_time": "2023-02-02T09:04:40.846Z"
   },
   {
    "duration": 14,
    "start_time": "2023-02-02T09:04:40.880Z"
   },
   {
    "duration": 30,
    "start_time": "2023-02-02T09:04:40.896Z"
   },
   {
    "duration": 267,
    "start_time": "2023-02-02T09:04:40.928Z"
   },
   {
    "duration": 4,
    "start_time": "2023-02-02T09:04:41.196Z"
   },
   {
    "duration": 447,
    "start_time": "2023-02-02T09:04:41.201Z"
   },
   {
    "duration": 4,
    "start_time": "2023-02-02T09:04:41.650Z"
   },
   {
    "duration": 368,
    "start_time": "2023-02-02T09:04:41.656Z"
   },
   {
    "duration": 256,
    "start_time": "2023-02-02T09:04:42.025Z"
   },
   {
    "duration": 15,
    "start_time": "2023-02-02T09:04:42.283Z"
   },
   {
    "duration": 45,
    "start_time": "2023-02-02T09:04:42.300Z"
   },
   {
    "duration": 26,
    "start_time": "2023-02-02T09:07:32.919Z"
   },
   {
    "duration": 13,
    "start_time": "2023-02-02T09:08:54.721Z"
   },
   {
    "duration": 18,
    "start_time": "2023-02-02T09:10:02.925Z"
   },
   {
    "duration": 18,
    "start_time": "2023-02-02T09:10:27.514Z"
   },
   {
    "duration": 17,
    "start_time": "2023-02-02T09:10:44.264Z"
   },
   {
    "duration": 1197,
    "start_time": "2023-02-02T09:23:54.292Z"
   },
   {
    "duration": 50,
    "start_time": "2023-02-02T09:23:55.491Z"
   },
   {
    "duration": 19,
    "start_time": "2023-02-02T09:23:55.542Z"
   },
   {
    "duration": 14,
    "start_time": "2023-02-02T09:23:55.563Z"
   },
   {
    "duration": 9,
    "start_time": "2023-02-02T09:23:55.579Z"
   },
   {
    "duration": 52,
    "start_time": "2023-02-02T09:23:55.594Z"
   },
   {
    "duration": 47,
    "start_time": "2023-02-02T09:23:55.648Z"
   },
   {
    "duration": 3,
    "start_time": "2023-02-02T09:23:55.697Z"
   },
   {
    "duration": 18,
    "start_time": "2023-02-02T09:23:55.702Z"
   },
   {
    "duration": 13,
    "start_time": "2023-02-02T09:23:55.723Z"
   },
   {
    "duration": 14,
    "start_time": "2023-02-02T09:23:55.738Z"
   },
   {
    "duration": 11,
    "start_time": "2023-02-02T09:23:55.754Z"
   },
   {
    "duration": 38,
    "start_time": "2023-02-02T09:23:55.767Z"
   },
   {
    "duration": 8,
    "start_time": "2023-02-02T09:23:55.807Z"
   },
   {
    "duration": 6,
    "start_time": "2023-02-02T09:23:55.816Z"
   },
   {
    "duration": 11,
    "start_time": "2023-02-02T09:23:55.824Z"
   },
   {
    "duration": 9,
    "start_time": "2023-02-02T09:23:55.837Z"
   },
   {
    "duration": 5,
    "start_time": "2023-02-02T09:23:55.847Z"
   },
   {
    "duration": 43,
    "start_time": "2023-02-02T09:23:55.853Z"
   },
   {
    "duration": 17,
    "start_time": "2023-02-02T09:23:55.898Z"
   },
   {
    "duration": 14,
    "start_time": "2023-02-02T09:23:55.917Z"
   },
   {
    "duration": 197,
    "start_time": "2023-02-02T09:23:55.932Z"
   },
   {
    "duration": 7,
    "start_time": "2023-02-02T09:23:56.131Z"
   },
   {
    "duration": 349,
    "start_time": "2023-02-02T09:23:56.139Z"
   },
   {
    "duration": 9,
    "start_time": "2023-02-02T09:23:56.493Z"
   },
   {
    "duration": 6,
    "start_time": "2023-02-02T09:23:56.504Z"
   },
   {
    "duration": 313,
    "start_time": "2023-02-02T09:23:56.512Z"
   },
   {
    "duration": 7,
    "start_time": "2023-02-02T09:23:56.828Z"
   },
   {
    "duration": 13,
    "start_time": "2023-02-02T09:23:56.837Z"
   },
   {
    "duration": 177,
    "start_time": "2023-02-02T09:23:56.852Z"
   },
   {
    "duration": 4,
    "start_time": "2023-02-02T09:23:57.031Z"
   },
   {
    "duration": 23,
    "start_time": "2023-02-02T09:23:57.037Z"
   },
   {
    "duration": 10,
    "start_time": "2023-02-02T09:23:57.062Z"
   },
   {
    "duration": 173,
    "start_time": "2023-02-02T09:23:57.073Z"
   },
   {
    "duration": 167,
    "start_time": "2023-02-02T09:23:57.248Z"
   },
   {
    "duration": 4,
    "start_time": "2023-02-02T09:23:57.417Z"
   },
   {
    "duration": 13,
    "start_time": "2023-02-02T09:23:57.423Z"
   },
   {
    "duration": 14,
    "start_time": "2023-02-02T09:23:57.437Z"
   },
   {
    "duration": 15,
    "start_time": "2023-02-02T09:23:57.452Z"
   },
   {
    "duration": 266,
    "start_time": "2023-02-02T09:23:57.469Z"
   },
   {
    "duration": 4,
    "start_time": "2023-02-02T09:23:57.736Z"
   },
   {
    "duration": 458,
    "start_time": "2023-02-02T09:23:57.742Z"
   },
   {
    "duration": 4,
    "start_time": "2023-02-02T09:23:58.202Z"
   },
   {
    "duration": 386,
    "start_time": "2023-02-02T09:23:58.207Z"
   },
   {
    "duration": 227,
    "start_time": "2023-02-02T09:23:58.595Z"
   },
   {
    "duration": 13,
    "start_time": "2023-02-02T09:23:58.824Z"
   },
   {
    "duration": 12,
    "start_time": "2023-02-02T09:23:58.839Z"
   },
   {
    "duration": 1279,
    "start_time": "2023-02-02T09:37:36.568Z"
   },
   {
    "duration": 48,
    "start_time": "2023-02-02T09:37:37.849Z"
   },
   {
    "duration": 19,
    "start_time": "2023-02-02T09:37:37.899Z"
   },
   {
    "duration": 14,
    "start_time": "2023-02-02T09:37:37.920Z"
   },
   {
    "duration": 9,
    "start_time": "2023-02-02T09:37:37.936Z"
   },
   {
    "duration": 75,
    "start_time": "2023-02-02T09:37:37.947Z"
   },
   {
    "duration": 29,
    "start_time": "2023-02-02T09:37:38.024Z"
   },
   {
    "duration": 3,
    "start_time": "2023-02-02T09:37:38.054Z"
   },
   {
    "duration": 35,
    "start_time": "2023-02-02T09:37:38.059Z"
   },
   {
    "duration": 9,
    "start_time": "2023-02-02T09:37:38.097Z"
   },
   {
    "duration": 15,
    "start_time": "2023-02-02T09:37:38.108Z"
   },
   {
    "duration": 11,
    "start_time": "2023-02-02T09:37:38.124Z"
   },
   {
    "duration": 10,
    "start_time": "2023-02-02T09:37:38.137Z"
   },
   {
    "duration": 6,
    "start_time": "2023-02-02T09:37:38.149Z"
   },
   {
    "duration": 5,
    "start_time": "2023-02-02T09:37:38.194Z"
   },
   {
    "duration": 9,
    "start_time": "2023-02-02T09:37:38.201Z"
   },
   {
    "duration": 11,
    "start_time": "2023-02-02T09:37:38.212Z"
   },
   {
    "duration": 5,
    "start_time": "2023-02-02T09:37:38.225Z"
   },
   {
    "duration": 19,
    "start_time": "2023-02-02T09:37:38.232Z"
   },
   {
    "duration": 18,
    "start_time": "2023-02-02T09:37:38.253Z"
   },
   {
    "duration": 14,
    "start_time": "2023-02-02T09:37:38.294Z"
   },
   {
    "duration": 192,
    "start_time": "2023-02-02T09:37:38.309Z"
   },
   {
    "duration": 6,
    "start_time": "2023-02-02T09:37:38.503Z"
   },
   {
    "duration": 353,
    "start_time": "2023-02-02T09:37:38.511Z"
   },
   {
    "duration": 8,
    "start_time": "2023-02-02T09:37:38.866Z"
   },
   {
    "duration": 18,
    "start_time": "2023-02-02T09:37:38.876Z"
   },
   {
    "duration": 325,
    "start_time": "2023-02-02T09:37:38.896Z"
   },
   {
    "duration": 7,
    "start_time": "2023-02-02T09:37:39.225Z"
   },
   {
    "duration": 16,
    "start_time": "2023-02-02T09:37:39.233Z"
   },
   {
    "duration": 156,
    "start_time": "2023-02-02T09:37:39.251Z"
   },
   {
    "duration": 4,
    "start_time": "2023-02-02T09:37:39.409Z"
   },
   {
    "duration": 24,
    "start_time": "2023-02-02T09:37:39.415Z"
   },
   {
    "duration": 19,
    "start_time": "2023-02-02T09:37:39.441Z"
   },
   {
    "duration": 169,
    "start_time": "2023-02-02T09:37:39.462Z"
   },
   {
    "duration": 165,
    "start_time": "2023-02-02T09:37:39.633Z"
   },
   {
    "duration": 4,
    "start_time": "2023-02-02T09:37:39.800Z"
   },
   {
    "duration": 15,
    "start_time": "2023-02-02T09:37:39.805Z"
   },
   {
    "duration": 14,
    "start_time": "2023-02-02T09:37:39.821Z"
   },
   {
    "duration": 15,
    "start_time": "2023-02-02T09:37:39.836Z"
   },
   {
    "duration": 259,
    "start_time": "2023-02-02T09:37:39.852Z"
   },
   {
    "duration": 4,
    "start_time": "2023-02-02T09:37:40.113Z"
   },
   {
    "duration": 479,
    "start_time": "2023-02-02T09:37:40.118Z"
   },
   {
    "duration": 4,
    "start_time": "2023-02-02T09:37:40.599Z"
   },
   {
    "duration": 360,
    "start_time": "2023-02-02T09:37:40.605Z"
   },
   {
    "duration": 235,
    "start_time": "2023-02-02T09:37:40.967Z"
   },
   {
    "duration": 12,
    "start_time": "2023-02-02T09:37:41.204Z"
   },
   {
    "duration": 36,
    "start_time": "2023-02-02T09:37:41.217Z"
   },
   {
    "duration": 1201,
    "start_time": "2023-02-02T09:43:58.690Z"
   },
   {
    "duration": 48,
    "start_time": "2023-02-02T09:43:59.892Z"
   },
   {
    "duration": 19,
    "start_time": "2023-02-02T09:43:59.942Z"
   },
   {
    "duration": 15,
    "start_time": "2023-02-02T09:43:59.962Z"
   },
   {
    "duration": 15,
    "start_time": "2023-02-02T09:43:59.979Z"
   },
   {
    "duration": 54,
    "start_time": "2023-02-02T09:43:59.995Z"
   },
   {
    "duration": 45,
    "start_time": "2023-02-02T09:44:00.050Z"
   },
   {
    "duration": 3,
    "start_time": "2023-02-02T09:44:00.096Z"
   },
   {
    "duration": 30,
    "start_time": "2023-02-02T09:44:00.101Z"
   },
   {
    "duration": 22,
    "start_time": "2023-02-02T09:44:00.134Z"
   },
   {
    "duration": 24,
    "start_time": "2023-02-02T09:44:00.158Z"
   },
   {
    "duration": 14,
    "start_time": "2023-02-02T09:44:00.184Z"
   },
   {
    "duration": 37,
    "start_time": "2023-02-02T09:44:00.200Z"
   },
   {
    "duration": 22,
    "start_time": "2023-02-02T09:44:00.240Z"
   },
   {
    "duration": 36,
    "start_time": "2023-02-02T09:44:00.264Z"
   },
   {
    "duration": 38,
    "start_time": "2023-02-02T09:44:00.301Z"
   },
   {
    "duration": 41,
    "start_time": "2023-02-02T09:44:00.341Z"
   },
   {
    "duration": 27,
    "start_time": "2023-02-02T09:44:00.384Z"
   },
   {
    "duration": 24,
    "start_time": "2023-02-02T09:44:00.413Z"
   },
   {
    "duration": 24,
    "start_time": "2023-02-02T09:44:00.438Z"
   },
   {
    "duration": 18,
    "start_time": "2023-02-02T09:44:00.463Z"
   },
   {
    "duration": 172,
    "start_time": "2023-02-02T09:44:00.482Z"
   },
   {
    "duration": 7,
    "start_time": "2023-02-02T09:44:00.656Z"
   },
   {
    "duration": 356,
    "start_time": "2023-02-02T09:44:00.665Z"
   },
   {
    "duration": 10,
    "start_time": "2023-02-02T09:44:01.022Z"
   },
   {
    "duration": 24,
    "start_time": "2023-02-02T09:44:01.034Z"
   },
   {
    "duration": 369,
    "start_time": "2023-02-02T09:44:01.060Z"
   },
   {
    "duration": 11,
    "start_time": "2023-02-02T09:44:01.434Z"
   },
   {
    "duration": 37,
    "start_time": "2023-02-02T09:44:01.447Z"
   },
   {
    "duration": 259,
    "start_time": "2023-02-02T09:44:01.486Z"
   },
   {
    "duration": 4,
    "start_time": "2023-02-02T09:44:01.747Z"
   },
   {
    "duration": 51,
    "start_time": "2023-02-02T09:44:01.753Z"
   },
   {
    "duration": 64,
    "start_time": "2023-02-02T09:44:01.805Z"
   },
   {
    "duration": 204,
    "start_time": "2023-02-02T09:44:01.871Z"
   },
   {
    "duration": 206,
    "start_time": "2023-02-02T09:44:02.077Z"
   },
   {
    "duration": 9,
    "start_time": "2023-02-02T09:44:02.285Z"
   },
   {
    "duration": 36,
    "start_time": "2023-02-02T09:44:02.297Z"
   },
   {
    "duration": 40,
    "start_time": "2023-02-02T09:44:02.335Z"
   },
   {
    "duration": 26,
    "start_time": "2023-02-02T09:44:02.378Z"
   },
   {
    "duration": 278,
    "start_time": "2023-02-02T09:44:02.407Z"
   },
   {
    "duration": 7,
    "start_time": "2023-02-02T09:44:02.687Z"
   },
   {
    "duration": 486,
    "start_time": "2023-02-02T09:44:02.697Z"
   },
   {
    "duration": 4,
    "start_time": "2023-02-02T09:44:03.193Z"
   },
   {
    "duration": 391,
    "start_time": "2023-02-02T09:44:03.199Z"
   },
   {
    "duration": 233,
    "start_time": "2023-02-02T09:44:03.593Z"
   },
   {
    "duration": 12,
    "start_time": "2023-02-02T09:44:03.828Z"
   },
   {
    "duration": 34,
    "start_time": "2023-02-02T09:44:03.842Z"
   },
   {
    "duration": 7,
    "start_time": "2023-02-02T11:27:10.493Z"
   },
   {
    "duration": 1132,
    "start_time": "2023-02-02T11:27:20.317Z"
   },
   {
    "duration": 51,
    "start_time": "2023-02-02T11:27:21.451Z"
   },
   {
    "duration": 22,
    "start_time": "2023-02-02T11:27:21.503Z"
   },
   {
    "duration": 34,
    "start_time": "2023-02-02T11:27:21.527Z"
   },
   {
    "duration": 12,
    "start_time": "2023-02-02T11:27:21.563Z"
   },
   {
    "duration": 68,
    "start_time": "2023-02-02T11:27:21.577Z"
   },
   {
    "duration": 31,
    "start_time": "2023-02-02T11:27:21.646Z"
   },
   {
    "duration": 3,
    "start_time": "2023-02-02T11:27:21.678Z"
   },
   {
    "duration": 11,
    "start_time": "2023-02-02T11:27:21.693Z"
   },
   {
    "duration": 10,
    "start_time": "2023-02-02T11:27:21.706Z"
   },
   {
    "duration": 29,
    "start_time": "2023-02-02T11:27:21.718Z"
   },
   {
    "duration": 18,
    "start_time": "2023-02-02T11:27:21.749Z"
   },
   {
    "duration": 21,
    "start_time": "2023-02-02T11:27:21.769Z"
   },
   {
    "duration": 9,
    "start_time": "2023-02-02T11:27:21.795Z"
   },
   {
    "duration": 27,
    "start_time": "2023-02-02T11:27:21.806Z"
   },
   {
    "duration": 22,
    "start_time": "2023-02-02T11:27:21.835Z"
   },
   {
    "duration": 11,
    "start_time": "2023-02-02T11:27:21.859Z"
   },
   {
    "duration": 24,
    "start_time": "2023-02-02T11:27:21.872Z"
   },
   {
    "duration": 23,
    "start_time": "2023-02-02T11:27:21.898Z"
   },
   {
    "duration": 27,
    "start_time": "2023-02-02T11:27:21.923Z"
   },
   {
    "duration": 15,
    "start_time": "2023-02-02T11:27:21.952Z"
   },
   {
    "duration": 196,
    "start_time": "2023-02-02T11:27:21.969Z"
   },
   {
    "duration": 7,
    "start_time": "2023-02-02T11:27:22.167Z"
   },
   {
    "duration": 371,
    "start_time": "2023-02-02T11:27:22.176Z"
   },
   {
    "duration": 8,
    "start_time": "2023-02-02T11:27:22.549Z"
   },
   {
    "duration": 14,
    "start_time": "2023-02-02T11:27:22.559Z"
   },
   {
    "duration": 315,
    "start_time": "2023-02-02T11:27:22.574Z"
   },
   {
    "duration": 7,
    "start_time": "2023-02-02T11:27:22.892Z"
   },
   {
    "duration": 17,
    "start_time": "2023-02-02T11:27:22.901Z"
   },
   {
    "duration": 176,
    "start_time": "2023-02-02T11:27:22.920Z"
   },
   {
    "duration": 4,
    "start_time": "2023-02-02T11:27:23.098Z"
   },
   {
    "duration": 17,
    "start_time": "2023-02-02T11:27:23.103Z"
   },
   {
    "duration": 12,
    "start_time": "2023-02-02T11:27:23.122Z"
   },
   {
    "duration": 151,
    "start_time": "2023-02-02T11:27:23.136Z"
   },
   {
    "duration": 172,
    "start_time": "2023-02-02T11:27:23.289Z"
   },
   {
    "duration": 4,
    "start_time": "2023-02-02T11:27:23.463Z"
   },
   {
    "duration": 36,
    "start_time": "2023-02-02T11:27:23.468Z"
   },
   {
    "duration": 17,
    "start_time": "2023-02-02T11:27:23.505Z"
   },
   {
    "duration": 19,
    "start_time": "2023-02-02T11:27:23.524Z"
   },
   {
    "duration": 251,
    "start_time": "2023-02-02T11:27:23.544Z"
   },
   {
    "duration": 4,
    "start_time": "2023-02-02T11:27:23.797Z"
   },
   {
    "duration": 545,
    "start_time": "2023-02-02T11:27:23.802Z"
   },
   {
    "duration": 4,
    "start_time": "2023-02-02T11:27:24.348Z"
   },
   {
    "duration": 370,
    "start_time": "2023-02-02T11:27:24.354Z"
   },
   {
    "duration": 232,
    "start_time": "2023-02-02T11:27:24.726Z"
   },
   {
    "duration": 12,
    "start_time": "2023-02-02T11:27:24.960Z"
   },
   {
    "duration": 24,
    "start_time": "2023-02-02T11:27:24.973Z"
   },
   {
    "duration": 5,
    "start_time": "2023-02-02T11:35:37.081Z"
   },
   {
    "duration": 959,
    "start_time": "2023-02-02T11:35:39.122Z"
   },
   {
    "duration": 139,
    "start_time": "2023-02-02T11:40:12.175Z"
   },
   {
    "duration": 160,
    "start_time": "2023-02-02T11:40:16.242Z"
   },
   {
    "duration": 6,
    "start_time": "2023-02-02T11:47:56.909Z"
   },
   {
    "duration": 1137,
    "start_time": "2023-02-02T11:50:25.956Z"
   },
   {
    "duration": 967,
    "start_time": "2023-02-02T11:50:52.495Z"
   },
   {
    "duration": 15,
    "start_time": "2023-02-02T12:12:49.811Z"
   },
   {
    "duration": 384,
    "start_time": "2023-02-02T12:12:49.828Z"
   },
   {
    "duration": 1245,
    "start_time": "2023-02-02T14:09:10.210Z"
   },
   {
    "duration": 458,
    "start_time": "2023-02-02T14:09:11.457Z"
   },
   {
    "duration": 20,
    "start_time": "2023-02-02T14:09:11.917Z"
   },
   {
    "duration": 13,
    "start_time": "2023-02-02T14:09:11.939Z"
   },
   {
    "duration": 9,
    "start_time": "2023-02-02T14:09:11.954Z"
   },
   {
    "duration": 50,
    "start_time": "2023-02-02T14:09:11.965Z"
   },
   {
    "duration": 35,
    "start_time": "2023-02-02T14:09:12.016Z"
   },
   {
    "duration": 3,
    "start_time": "2023-02-02T14:09:12.053Z"
   },
   {
    "duration": 15,
    "start_time": "2023-02-02T14:09:12.058Z"
   },
   {
    "duration": 11,
    "start_time": "2023-02-02T14:09:12.076Z"
   },
   {
    "duration": 14,
    "start_time": "2023-02-02T14:09:12.089Z"
   },
   {
    "duration": 16,
    "start_time": "2023-02-02T14:09:12.105Z"
   },
   {
    "duration": 27,
    "start_time": "2023-02-02T14:09:12.123Z"
   },
   {
    "duration": 7,
    "start_time": "2023-02-02T14:09:12.151Z"
   },
   {
    "duration": 7,
    "start_time": "2023-02-02T14:09:12.159Z"
   },
   {
    "duration": 12,
    "start_time": "2023-02-02T14:09:12.167Z"
   },
   {
    "duration": 12,
    "start_time": "2023-02-02T14:09:12.180Z"
   },
   {
    "duration": 6,
    "start_time": "2023-02-02T14:09:12.193Z"
   },
   {
    "duration": 18,
    "start_time": "2023-02-02T14:09:12.201Z"
   },
   {
    "duration": 36,
    "start_time": "2023-02-02T14:09:12.221Z"
   },
   {
    "duration": 12,
    "start_time": "2023-02-02T14:09:12.258Z"
   },
   {
    "duration": 179,
    "start_time": "2023-02-02T14:09:12.272Z"
   },
   {
    "duration": 7,
    "start_time": "2023-02-02T14:09:12.452Z"
   },
   {
    "duration": 355,
    "start_time": "2023-02-02T14:09:12.460Z"
   },
   {
    "duration": 8,
    "start_time": "2023-02-02T14:09:12.817Z"
   },
   {
    "duration": 8,
    "start_time": "2023-02-02T14:09:12.827Z"
   },
   {
    "duration": 297,
    "start_time": "2023-02-02T14:09:12.836Z"
   },
   {
    "duration": 8,
    "start_time": "2023-02-02T14:09:13.138Z"
   },
   {
    "duration": 11,
    "start_time": "2023-02-02T14:09:13.148Z"
   },
   {
    "duration": 196,
    "start_time": "2023-02-02T14:09:13.161Z"
   },
   {
    "duration": 5,
    "start_time": "2023-02-02T14:09:13.359Z"
   },
   {
    "duration": 25,
    "start_time": "2023-02-02T14:09:13.365Z"
   },
   {
    "duration": 8,
    "start_time": "2023-02-02T14:09:13.392Z"
   },
   {
    "duration": 176,
    "start_time": "2023-02-02T14:09:13.401Z"
   },
   {
    "duration": 189,
    "start_time": "2023-02-02T14:09:13.578Z"
   },
   {
    "duration": 5,
    "start_time": "2023-02-02T14:09:13.769Z"
   },
   {
    "duration": 997,
    "start_time": "2023-02-02T14:09:13.776Z"
   },
   {
    "duration": 13,
    "start_time": "2023-02-02T14:09:14.775Z"
   },
   {
    "duration": 14,
    "start_time": "2023-02-02T14:09:14.789Z"
   },
   {
    "duration": 246,
    "start_time": "2023-02-02T14:09:14.805Z"
   },
   {
    "duration": 78,
    "start_time": "2023-02-02T14:09:15.053Z"
   },
   {
    "duration": 0,
    "start_time": "2023-02-02T14:09:15.133Z"
   },
   {
    "duration": 0,
    "start_time": "2023-02-02T14:09:15.134Z"
   },
   {
    "duration": 0,
    "start_time": "2023-02-02T14:09:15.135Z"
   },
   {
    "duration": 0,
    "start_time": "2023-02-02T14:09:15.136Z"
   },
   {
    "duration": 0,
    "start_time": "2023-02-02T14:09:15.137Z"
   },
   {
    "duration": 0,
    "start_time": "2023-02-02T14:09:15.138Z"
   },
   {
    "duration": 0,
    "start_time": "2023-02-02T14:09:15.139Z"
   },
   {
    "duration": 104,
    "start_time": "2023-02-02T14:10:18.423Z"
   },
   {
    "duration": 15,
    "start_time": "2023-02-02T14:12:14.141Z"
   },
   {
    "duration": 298,
    "start_time": "2023-02-02T14:14:07.314Z"
   },
   {
    "duration": 1113,
    "start_time": "2023-02-02T14:14:35.357Z"
   },
   {
    "duration": 371,
    "start_time": "2023-02-02T14:14:50.373Z"
   },
   {
    "duration": 295,
    "start_time": "2023-02-02T14:17:26.025Z"
   },
   {
    "duration": 320,
    "start_time": "2023-02-02T14:17:58.096Z"
   },
   {
    "duration": 24,
    "start_time": "2023-02-02T14:23:58.919Z"
   },
   {
    "duration": 22,
    "start_time": "2023-02-02T14:24:25.818Z"
   },
   {
    "duration": 20,
    "start_time": "2023-02-02T14:24:36.248Z"
   },
   {
    "duration": 21,
    "start_time": "2023-02-02T14:25:18.408Z"
   },
   {
    "duration": 21,
    "start_time": "2023-02-02T14:25:41.752Z"
   },
   {
    "duration": 23,
    "start_time": "2023-02-02T14:25:54.876Z"
   },
   {
    "duration": 21,
    "start_time": "2023-02-02T14:26:32.436Z"
   },
   {
    "duration": 26,
    "start_time": "2023-02-02T14:27:03.812Z"
   },
   {
    "duration": 5,
    "start_time": "2023-02-02T14:40:45.862Z"
   },
   {
    "duration": 367,
    "start_time": "2023-02-02T14:40:47.767Z"
   },
   {
    "duration": 5,
    "start_time": "2023-02-02T14:44:58.575Z"
   },
   {
    "duration": 359,
    "start_time": "2023-02-02T14:45:00.822Z"
   },
   {
    "duration": 339,
    "start_time": "2023-02-02T14:49:34.579Z"
   },
   {
    "duration": 1200,
    "start_time": "2023-02-02T20:32:56.994Z"
   },
   {
    "duration": 86,
    "start_time": "2023-02-02T20:32:58.196Z"
   },
   {
    "duration": 19,
    "start_time": "2023-02-02T20:32:58.283Z"
   },
   {
    "duration": 12,
    "start_time": "2023-02-02T20:32:58.303Z"
   },
   {
    "duration": 8,
    "start_time": "2023-02-02T20:32:58.317Z"
   },
   {
    "duration": 57,
    "start_time": "2023-02-02T20:32:58.327Z"
   },
   {
    "duration": 26,
    "start_time": "2023-02-02T20:32:58.385Z"
   },
   {
    "duration": 2,
    "start_time": "2023-02-02T20:32:58.413Z"
   },
   {
    "duration": 24,
    "start_time": "2023-02-02T20:32:58.417Z"
   },
   {
    "duration": 8,
    "start_time": "2023-02-02T20:32:58.444Z"
   },
   {
    "duration": 12,
    "start_time": "2023-02-02T20:32:58.454Z"
   },
   {
    "duration": 11,
    "start_time": "2023-02-02T20:32:58.468Z"
   },
   {
    "duration": 4,
    "start_time": "2023-02-02T20:32:58.480Z"
   },
   {
    "duration": 12,
    "start_time": "2023-02-02T20:32:58.485Z"
   },
   {
    "duration": 5,
    "start_time": "2023-02-02T20:32:58.499Z"
   },
   {
    "duration": 8,
    "start_time": "2023-02-02T20:32:58.505Z"
   },
   {
    "duration": 6,
    "start_time": "2023-02-02T20:32:58.538Z"
   },
   {
    "duration": 8,
    "start_time": "2023-02-02T20:32:58.545Z"
   },
   {
    "duration": 4,
    "start_time": "2023-02-02T20:32:58.555Z"
   },
   {
    "duration": 16,
    "start_time": "2023-02-02T20:32:58.560Z"
   },
   {
    "duration": 15,
    "start_time": "2023-02-02T20:32:58.578Z"
   },
   {
    "duration": 11,
    "start_time": "2023-02-02T20:32:58.595Z"
   },
   {
    "duration": 173,
    "start_time": "2023-02-02T20:32:58.608Z"
   },
   {
    "duration": 6,
    "start_time": "2023-02-02T20:32:58.783Z"
   },
   {
    "duration": 319,
    "start_time": "2023-02-02T20:32:58.790Z"
   },
   {
    "duration": 8,
    "start_time": "2023-02-02T20:32:59.111Z"
   },
   {
    "duration": 16,
    "start_time": "2023-02-02T20:32:59.121Z"
   },
   {
    "duration": 267,
    "start_time": "2023-02-02T20:32:59.140Z"
   },
   {
    "duration": 7,
    "start_time": "2023-02-02T20:32:59.409Z"
   },
   {
    "duration": 8,
    "start_time": "2023-02-02T20:32:59.418Z"
   },
   {
    "duration": 172,
    "start_time": "2023-02-02T20:32:59.428Z"
   },
   {
    "duration": 5,
    "start_time": "2023-02-02T20:32:59.602Z"
   },
   {
    "duration": 8,
    "start_time": "2023-02-02T20:32:59.609Z"
   },
   {
    "duration": 19,
    "start_time": "2023-02-02T20:32:59.618Z"
   },
   {
    "duration": 138,
    "start_time": "2023-02-02T20:32:59.639Z"
   },
   {
    "duration": 154,
    "start_time": "2023-02-02T20:32:59.779Z"
   },
   {
    "duration": 5,
    "start_time": "2023-02-02T20:32:59.935Z"
   },
   {
    "duration": 931,
    "start_time": "2023-02-02T20:32:59.941Z"
   },
   {
    "duration": 15,
    "start_time": "2023-02-02T20:33:00.874Z"
   },
   {
    "duration": 13,
    "start_time": "2023-02-02T20:33:00.891Z"
   },
   {
    "duration": 225,
    "start_time": "2023-02-02T20:33:00.906Z"
   },
   {
    "duration": 296,
    "start_time": "2023-02-02T20:33:01.132Z"
   },
   {
    "duration": 23,
    "start_time": "2023-02-02T20:33:01.429Z"
   },
   {
    "duration": 12,
    "start_time": "2023-02-02T20:33:01.453Z"
   },
   {
    "duration": 347,
    "start_time": "2023-02-02T20:33:01.466Z"
   },
   {
    "duration": 5,
    "start_time": "2023-02-02T20:33:01.815Z"
   },
   {
    "duration": 428,
    "start_time": "2023-02-02T20:33:01.821Z"
   },
   {
    "duration": 253,
    "start_time": "2023-02-02T20:33:02.251Z"
   },
   {
    "duration": 14,
    "start_time": "2023-02-02T20:33:02.506Z"
   },
   {
    "duration": 13,
    "start_time": "2023-02-02T20:33:02.537Z"
   },
   {
    "duration": 8,
    "start_time": "2023-02-02T20:47:18.214Z"
   },
   {
    "duration": 4,
    "start_time": "2023-02-02T20:48:43.132Z"
   },
   {
    "duration": 111,
    "start_time": "2023-02-02T20:48:51.702Z"
   },
   {
    "duration": 1109,
    "start_time": "2023-02-02T20:49:03.839Z"
   },
   {
    "duration": 46,
    "start_time": "2023-02-02T20:49:04.950Z"
   },
   {
    "duration": 17,
    "start_time": "2023-02-02T20:49:04.998Z"
   },
   {
    "duration": 13,
    "start_time": "2023-02-02T20:49:05.017Z"
   },
   {
    "duration": 17,
    "start_time": "2023-02-02T20:49:05.031Z"
   },
   {
    "duration": 51,
    "start_time": "2023-02-02T20:49:05.049Z"
   },
   {
    "duration": 26,
    "start_time": "2023-02-02T20:49:05.101Z"
   },
   {
    "duration": 14,
    "start_time": "2023-02-02T20:49:05.128Z"
   },
   {
    "duration": 14,
    "start_time": "2023-02-02T20:49:05.151Z"
   },
   {
    "duration": 8,
    "start_time": "2023-02-02T20:49:05.168Z"
   },
   {
    "duration": 17,
    "start_time": "2023-02-02T20:49:05.177Z"
   },
   {
    "duration": 13,
    "start_time": "2023-02-02T20:49:05.195Z"
   },
   {
    "duration": 9,
    "start_time": "2023-02-02T20:49:05.209Z"
   },
   {
    "duration": 11,
    "start_time": "2023-02-02T20:49:05.220Z"
   },
   {
    "duration": 20,
    "start_time": "2023-02-02T20:49:05.232Z"
   },
   {
    "duration": 6,
    "start_time": "2023-02-02T20:49:05.253Z"
   },
   {
    "duration": 7,
    "start_time": "2023-02-02T20:49:05.261Z"
   },
   {
    "duration": 8,
    "start_time": "2023-02-02T20:49:05.269Z"
   },
   {
    "duration": 4,
    "start_time": "2023-02-02T20:49:05.278Z"
   },
   {
    "duration": 19,
    "start_time": "2023-02-02T20:49:05.283Z"
   },
   {
    "duration": 21,
    "start_time": "2023-02-02T20:49:05.303Z"
   },
   {
    "duration": 23,
    "start_time": "2023-02-02T20:49:05.325Z"
   },
   {
    "duration": 169,
    "start_time": "2023-02-02T20:49:05.349Z"
   },
   {
    "duration": 7,
    "start_time": "2023-02-02T20:49:05.520Z"
   },
   {
    "duration": 358,
    "start_time": "2023-02-02T20:49:05.536Z"
   },
   {
    "duration": 8,
    "start_time": "2023-02-02T20:49:05.896Z"
   },
   {
    "duration": 6,
    "start_time": "2023-02-02T20:49:05.905Z"
   },
   {
    "duration": 418,
    "start_time": "2023-02-02T20:49:05.914Z"
   },
   {
    "duration": 26,
    "start_time": "2023-02-02T20:49:06.333Z"
   },
   {
    "duration": 10,
    "start_time": "2023-02-02T20:49:06.361Z"
   },
   {
    "duration": 163,
    "start_time": "2023-02-02T20:49:06.372Z"
   },
   {
    "duration": 7,
    "start_time": "2023-02-02T20:49:06.536Z"
   },
   {
    "duration": 16,
    "start_time": "2023-02-02T20:49:06.544Z"
   },
   {
    "duration": 6,
    "start_time": "2023-02-02T20:49:06.562Z"
   },
   {
    "duration": 137,
    "start_time": "2023-02-02T20:49:06.570Z"
   },
   {
    "duration": 158,
    "start_time": "2023-02-02T20:49:06.709Z"
   },
   {
    "duration": 5,
    "start_time": "2023-02-02T20:49:06.868Z"
   },
   {
    "duration": 923,
    "start_time": "2023-02-02T20:49:06.875Z"
   },
   {
    "duration": 12,
    "start_time": "2023-02-02T20:49:07.800Z"
   },
   {
    "duration": 12,
    "start_time": "2023-02-02T20:49:07.813Z"
   },
   {
    "duration": 236,
    "start_time": "2023-02-02T20:49:07.826Z"
   },
   {
    "duration": 315,
    "start_time": "2023-02-02T20:49:08.063Z"
   },
   {
    "duration": 20,
    "start_time": "2023-02-02T20:49:08.380Z"
   },
   {
    "duration": 4,
    "start_time": "2023-02-02T20:49:08.401Z"
   },
   {
    "duration": 413,
    "start_time": "2023-02-02T20:49:08.406Z"
   },
   {
    "duration": 3,
    "start_time": "2023-02-02T20:49:08.821Z"
   },
   {
    "duration": 347,
    "start_time": "2023-02-02T20:49:08.826Z"
   },
   {
    "duration": 248,
    "start_time": "2023-02-02T20:49:09.175Z"
   },
   {
    "duration": 17,
    "start_time": "2023-02-02T20:49:09.424Z"
   },
   {
    "duration": 12,
    "start_time": "2023-02-02T20:49:09.451Z"
   },
   {
    "duration": 11,
    "start_time": "2023-02-02T20:51:11.675Z"
   },
   {
    "duration": 11,
    "start_time": "2023-02-02T20:52:11.501Z"
   },
   {
    "duration": 73,
    "start_time": "2023-02-02T20:52:48.137Z"
   },
   {
    "duration": 79,
    "start_time": "2023-02-02T21:24:31.323Z"
   },
   {
    "duration": 1170,
    "start_time": "2023-02-03T07:53:52.482Z"
   },
   {
    "duration": 49,
    "start_time": "2023-02-03T07:53:53.654Z"
   },
   {
    "duration": 19,
    "start_time": "2023-02-03T07:53:53.705Z"
   },
   {
    "duration": 13,
    "start_time": "2023-02-03T07:53:53.726Z"
   },
   {
    "duration": 9,
    "start_time": "2023-02-03T07:53:53.741Z"
   },
   {
    "duration": 82,
    "start_time": "2023-02-03T07:53:53.752Z"
   },
   {
    "duration": 31,
    "start_time": "2023-02-03T07:53:53.836Z"
   },
   {
    "duration": 3,
    "start_time": "2023-02-03T07:53:53.869Z"
   },
   {
    "duration": 27,
    "start_time": "2023-02-03T07:53:53.874Z"
   },
   {
    "duration": 10,
    "start_time": "2023-02-03T07:53:53.905Z"
   },
   {
    "duration": 20,
    "start_time": "2023-02-03T07:53:53.917Z"
   },
   {
    "duration": 11,
    "start_time": "2023-02-03T07:53:53.939Z"
   },
   {
    "duration": 6,
    "start_time": "2023-02-03T07:53:53.952Z"
   },
   {
    "duration": 35,
    "start_time": "2023-02-03T07:53:53.960Z"
   },
   {
    "duration": 9,
    "start_time": "2023-02-03T07:53:53.997Z"
   },
   {
    "duration": 7,
    "start_time": "2023-02-03T07:53:54.008Z"
   },
   {
    "duration": 9,
    "start_time": "2023-02-03T07:53:54.017Z"
   },
   {
    "duration": 21,
    "start_time": "2023-02-03T07:53:54.028Z"
   },
   {
    "duration": 9,
    "start_time": "2023-02-03T07:53:54.051Z"
   },
   {
    "duration": 31,
    "start_time": "2023-02-03T07:53:54.062Z"
   },
   {
    "duration": 21,
    "start_time": "2023-02-03T07:53:54.095Z"
   },
   {
    "duration": 15,
    "start_time": "2023-02-03T07:53:54.118Z"
   },
   {
    "duration": 200,
    "start_time": "2023-02-03T07:53:54.135Z"
   },
   {
    "duration": 8,
    "start_time": "2023-02-03T07:53:54.336Z"
   },
   {
    "duration": 358,
    "start_time": "2023-02-03T07:53:54.346Z"
   },
   {
    "duration": 9,
    "start_time": "2023-02-03T07:53:54.706Z"
   },
   {
    "duration": 6,
    "start_time": "2023-02-03T07:53:54.717Z"
   },
   {
    "duration": 407,
    "start_time": "2023-02-03T07:53:54.727Z"
   },
   {
    "duration": 9,
    "start_time": "2023-02-03T07:53:55.137Z"
   },
   {
    "duration": 16,
    "start_time": "2023-02-03T07:53:55.147Z"
   },
   {
    "duration": 213,
    "start_time": "2023-02-03T07:53:55.165Z"
   },
   {
    "duration": 12,
    "start_time": "2023-02-03T07:53:55.380Z"
   },
   {
    "duration": 12,
    "start_time": "2023-02-03T07:53:55.393Z"
   },
   {
    "duration": 9,
    "start_time": "2023-02-03T07:53:55.407Z"
   },
   {
    "duration": 149,
    "start_time": "2023-02-03T07:53:55.417Z"
   },
   {
    "duration": 186,
    "start_time": "2023-02-03T07:53:55.567Z"
   },
   {
    "duration": 5,
    "start_time": "2023-02-03T07:53:55.754Z"
   },
   {
    "duration": 1212,
    "start_time": "2023-02-03T07:53:55.761Z"
   },
   {
    "duration": 26,
    "start_time": "2023-02-03T07:53:56.975Z"
   },
   {
    "duration": 20,
    "start_time": "2023-02-03T07:53:57.003Z"
   },
   {
    "duration": 281,
    "start_time": "2023-02-03T07:53:57.025Z"
   },
   {
    "duration": 346,
    "start_time": "2023-02-03T07:53:57.308Z"
   },
   {
    "duration": 21,
    "start_time": "2023-02-03T07:53:57.655Z"
   },
   {
    "duration": 17,
    "start_time": "2023-02-03T07:53:57.678Z"
   },
   {
    "duration": 496,
    "start_time": "2023-02-03T07:53:57.697Z"
   },
   {
    "duration": 4,
    "start_time": "2023-02-03T07:53:58.195Z"
   },
   {
    "duration": 426,
    "start_time": "2023-02-03T07:53:58.201Z"
   },
   {
    "duration": 282,
    "start_time": "2023-02-03T07:53:58.629Z"
   },
   {
    "duration": 13,
    "start_time": "2023-02-03T07:53:58.913Z"
   },
   {
    "duration": 21,
    "start_time": "2023-02-03T07:53:58.928Z"
   },
   {
    "duration": 1254,
    "start_time": "2023-02-03T08:24:49.169Z"
   },
   {
    "duration": 99,
    "start_time": "2023-02-03T08:24:50.424Z"
   },
   {
    "duration": 22,
    "start_time": "2023-02-03T08:24:50.525Z"
   },
   {
    "duration": 21,
    "start_time": "2023-02-03T08:24:50.549Z"
   },
   {
    "duration": 10,
    "start_time": "2023-02-03T08:24:50.572Z"
   },
   {
    "duration": 75,
    "start_time": "2023-02-03T08:24:50.583Z"
   },
   {
    "duration": 26,
    "start_time": "2023-02-03T08:24:50.660Z"
   },
   {
    "duration": 3,
    "start_time": "2023-02-03T08:24:50.687Z"
   },
   {
    "duration": 15,
    "start_time": "2023-02-03T08:24:50.691Z"
   },
   {
    "duration": 13,
    "start_time": "2023-02-03T08:24:50.709Z"
   },
   {
    "duration": 11,
    "start_time": "2023-02-03T08:24:50.723Z"
   },
   {
    "duration": 7,
    "start_time": "2023-02-03T08:24:50.736Z"
   },
   {
    "duration": 15,
    "start_time": "2023-02-03T08:24:50.745Z"
   },
   {
    "duration": 15,
    "start_time": "2023-02-03T08:24:50.762Z"
   },
   {
    "duration": 4,
    "start_time": "2023-02-03T08:24:50.778Z"
   },
   {
    "duration": 10,
    "start_time": "2023-02-03T08:24:50.784Z"
   },
   {
    "duration": 5,
    "start_time": "2023-02-03T08:24:50.795Z"
   },
   {
    "duration": 6,
    "start_time": "2023-02-03T08:24:50.802Z"
   },
   {
    "duration": 7,
    "start_time": "2023-02-03T08:24:50.810Z"
   },
   {
    "duration": 21,
    "start_time": "2023-02-03T08:24:50.819Z"
   },
   {
    "duration": 4,
    "start_time": "2023-02-03T08:24:50.841Z"
   },
   {
    "duration": 15,
    "start_time": "2023-02-03T08:24:50.847Z"
   },
   {
    "duration": 18,
    "start_time": "2023-02-03T08:24:50.864Z"
   },
   {
    "duration": 11,
    "start_time": "2023-02-03T08:24:50.884Z"
   },
   {
    "duration": 174,
    "start_time": "2023-02-03T08:24:50.896Z"
   },
   {
    "duration": 6,
    "start_time": "2023-02-03T08:24:51.071Z"
   },
   {
    "duration": 336,
    "start_time": "2023-02-03T08:24:51.079Z"
   },
   {
    "duration": 7,
    "start_time": "2023-02-03T08:24:51.418Z"
   },
   {
    "duration": 14,
    "start_time": "2023-02-03T08:24:51.426Z"
   },
   {
    "duration": 387,
    "start_time": "2023-02-03T08:24:51.441Z"
   },
   {
    "duration": 7,
    "start_time": "2023-02-03T08:24:51.830Z"
   },
   {
    "duration": 9,
    "start_time": "2023-02-03T08:24:51.838Z"
   },
   {
    "duration": 166,
    "start_time": "2023-02-03T08:24:51.848Z"
   },
   {
    "duration": 3,
    "start_time": "2023-02-03T08:24:52.016Z"
   },
   {
    "duration": 17,
    "start_time": "2023-02-03T08:24:52.020Z"
   },
   {
    "duration": 12,
    "start_time": "2023-02-03T08:24:52.038Z"
   },
   {
    "duration": 169,
    "start_time": "2023-02-03T08:24:52.051Z"
   },
   {
    "duration": 166,
    "start_time": "2023-02-03T08:24:52.221Z"
   },
   {
    "duration": 8,
    "start_time": "2023-02-03T08:24:52.388Z"
   },
   {
    "duration": 922,
    "start_time": "2023-02-03T08:24:52.398Z"
   },
   {
    "duration": 21,
    "start_time": "2023-02-03T08:24:53.321Z"
   },
   {
    "duration": 20,
    "start_time": "2023-02-03T08:24:53.344Z"
   },
   {
    "duration": 212,
    "start_time": "2023-02-03T08:24:53.366Z"
   },
   {
    "duration": 287,
    "start_time": "2023-02-03T08:24:53.579Z"
   },
   {
    "duration": 20,
    "start_time": "2023-02-03T08:24:53.867Z"
   },
   {
    "duration": 3,
    "start_time": "2023-02-03T08:24:53.888Z"
   },
   {
    "duration": 380,
    "start_time": "2023-02-03T08:24:53.893Z"
   },
   {
    "duration": 3,
    "start_time": "2023-02-03T08:24:54.275Z"
   },
   {
    "duration": 318,
    "start_time": "2023-02-03T08:24:54.280Z"
   },
   {
    "duration": 239,
    "start_time": "2023-02-03T08:24:54.600Z"
   },
   {
    "duration": 10,
    "start_time": "2023-02-03T08:24:54.841Z"
   },
   {
    "duration": 10,
    "start_time": "2023-02-03T08:24:54.852Z"
   },
   {
    "duration": 127,
    "start_time": "2023-02-03T08:32:29.811Z"
   },
   {
    "duration": 331,
    "start_time": "2023-02-03T08:32:30.777Z"
   },
   {
    "duration": 1087,
    "start_time": "2023-02-03T08:34:06.250Z"
   },
   {
    "duration": 45,
    "start_time": "2023-02-03T08:34:07.339Z"
   },
   {
    "duration": 19,
    "start_time": "2023-02-03T08:34:07.386Z"
   },
   {
    "duration": 12,
    "start_time": "2023-02-03T08:34:07.407Z"
   },
   {
    "duration": 7,
    "start_time": "2023-02-03T08:34:07.421Z"
   },
   {
    "duration": 55,
    "start_time": "2023-02-03T08:34:07.429Z"
   },
   {
    "duration": 25,
    "start_time": "2023-02-03T08:34:07.486Z"
   },
   {
    "duration": 2,
    "start_time": "2023-02-03T08:34:07.513Z"
   },
   {
    "duration": 20,
    "start_time": "2023-02-03T08:34:07.517Z"
   },
   {
    "duration": 2,
    "start_time": "2023-02-03T08:34:07.540Z"
   },
   {
    "duration": 12,
    "start_time": "2023-02-03T08:34:07.544Z"
   },
   {
    "duration": 7,
    "start_time": "2023-02-03T08:34:07.558Z"
   },
   {
    "duration": 18,
    "start_time": "2023-02-03T08:34:07.567Z"
   },
   {
    "duration": 11,
    "start_time": "2023-02-03T08:34:07.586Z"
   },
   {
    "duration": 6,
    "start_time": "2023-02-03T08:34:07.599Z"
   },
   {
    "duration": 11,
    "start_time": "2023-02-03T08:34:07.606Z"
   },
   {
    "duration": 22,
    "start_time": "2023-02-03T08:34:07.618Z"
   },
   {
    "duration": 5,
    "start_time": "2023-02-03T08:34:07.641Z"
   },
   {
    "duration": 9,
    "start_time": "2023-02-03T08:34:07.647Z"
   },
   {
    "duration": 9,
    "start_time": "2023-02-03T08:34:07.657Z"
   },
   {
    "duration": 3,
    "start_time": "2023-02-03T08:34:07.668Z"
   },
   {
    "duration": 17,
    "start_time": "2023-02-03T08:34:07.673Z"
   },
   {
    "duration": 16,
    "start_time": "2023-02-03T08:34:07.691Z"
   },
   {
    "duration": 31,
    "start_time": "2023-02-03T08:34:07.709Z"
   },
   {
    "duration": 151,
    "start_time": "2023-02-03T08:34:07.742Z"
   },
   {
    "duration": 6,
    "start_time": "2023-02-03T08:34:07.895Z"
   },
   {
    "duration": 327,
    "start_time": "2023-02-03T08:34:07.903Z"
   },
   {
    "duration": 8,
    "start_time": "2023-02-03T08:34:08.236Z"
   },
   {
    "duration": 125,
    "start_time": "2023-02-03T08:34:08.245Z"
   },
   {
    "duration": 0,
    "start_time": "2023-02-03T08:34:08.372Z"
   },
   {
    "duration": 0,
    "start_time": "2023-02-03T08:34:08.373Z"
   },
   {
    "duration": 0,
    "start_time": "2023-02-03T08:34:08.374Z"
   },
   {
    "duration": 1,
    "start_time": "2023-02-03T08:34:08.375Z"
   },
   {
    "duration": 0,
    "start_time": "2023-02-03T08:34:08.377Z"
   },
   {
    "duration": 0,
    "start_time": "2023-02-03T08:34:08.378Z"
   },
   {
    "duration": 0,
    "start_time": "2023-02-03T08:34:08.379Z"
   },
   {
    "duration": 0,
    "start_time": "2023-02-03T08:34:08.379Z"
   },
   {
    "duration": 0,
    "start_time": "2023-02-03T08:34:08.381Z"
   },
   {
    "duration": 0,
    "start_time": "2023-02-03T08:34:08.382Z"
   },
   {
    "duration": 0,
    "start_time": "2023-02-03T08:34:08.383Z"
   },
   {
    "duration": 0,
    "start_time": "2023-02-03T08:34:08.384Z"
   },
   {
    "duration": 0,
    "start_time": "2023-02-03T08:34:08.385Z"
   },
   {
    "duration": 0,
    "start_time": "2023-02-03T08:34:08.385Z"
   },
   {
    "duration": 0,
    "start_time": "2023-02-03T08:34:08.387Z"
   },
   {
    "duration": 0,
    "start_time": "2023-02-03T08:34:08.388Z"
   },
   {
    "duration": 0,
    "start_time": "2023-02-03T08:34:08.389Z"
   },
   {
    "duration": 0,
    "start_time": "2023-02-03T08:34:08.390Z"
   },
   {
    "duration": 0,
    "start_time": "2023-02-03T08:34:08.391Z"
   },
   {
    "duration": 0,
    "start_time": "2023-02-03T08:34:08.391Z"
   },
   {
    "duration": 0,
    "start_time": "2023-02-03T08:34:08.392Z"
   },
   {
    "duration": 0,
    "start_time": "2023-02-03T08:34:08.394Z"
   },
   {
    "duration": 0,
    "start_time": "2023-02-03T08:34:08.394Z"
   },
   {
    "duration": 5,
    "start_time": "2023-02-03T08:35:06.925Z"
   },
   {
    "duration": 397,
    "start_time": "2023-02-03T08:35:11.215Z"
   },
   {
    "duration": 5,
    "start_time": "2023-02-03T08:35:21.848Z"
   },
   {
    "duration": 217,
    "start_time": "2023-02-03T08:35:24.694Z"
   },
   {
    "duration": 6,
    "start_time": "2023-02-03T09:25:09.198Z"
   },
   {
    "duration": 313,
    "start_time": "2023-02-03T09:37:07.285Z"
   },
   {
    "duration": 4,
    "start_time": "2023-02-03T09:37:12.827Z"
   },
   {
    "duration": 407,
    "start_time": "2023-02-03T09:37:14.205Z"
   },
   {
    "duration": 6,
    "start_time": "2023-02-03T09:38:21.364Z"
   },
   {
    "duration": 71,
    "start_time": "2023-02-03T09:38:54.915Z"
   },
   {
    "duration": 6,
    "start_time": "2023-02-03T09:39:44.285Z"
   },
   {
    "duration": 1046,
    "start_time": "2023-02-03T09:39:54.787Z"
   },
   {
    "duration": 44,
    "start_time": "2023-02-03T09:39:55.835Z"
   },
   {
    "duration": 18,
    "start_time": "2023-02-03T09:39:55.881Z"
   },
   {
    "duration": 22,
    "start_time": "2023-02-03T09:39:55.900Z"
   },
   {
    "duration": 14,
    "start_time": "2023-02-03T09:39:55.924Z"
   },
   {
    "duration": 56,
    "start_time": "2023-02-03T09:39:55.939Z"
   },
   {
    "duration": 27,
    "start_time": "2023-02-03T09:39:55.997Z"
   },
   {
    "duration": 12,
    "start_time": "2023-02-03T09:39:56.025Z"
   },
   {
    "duration": 3,
    "start_time": "2023-02-03T09:39:56.038Z"
   },
   {
    "duration": 5,
    "start_time": "2023-02-03T09:39:56.043Z"
   },
   {
    "duration": 10,
    "start_time": "2023-02-03T09:39:56.049Z"
   },
   {
    "duration": 9,
    "start_time": "2023-02-03T09:39:56.060Z"
   },
   {
    "duration": 12,
    "start_time": "2023-02-03T09:39:56.070Z"
   },
   {
    "duration": 9,
    "start_time": "2023-02-03T09:39:56.083Z"
   },
   {
    "duration": 5,
    "start_time": "2023-02-03T09:39:56.093Z"
   },
   {
    "duration": 38,
    "start_time": "2023-02-03T09:39:56.099Z"
   },
   {
    "duration": 7,
    "start_time": "2023-02-03T09:39:56.138Z"
   },
   {
    "duration": 6,
    "start_time": "2023-02-03T09:39:56.146Z"
   },
   {
    "duration": 8,
    "start_time": "2023-02-03T09:39:56.153Z"
   },
   {
    "duration": 7,
    "start_time": "2023-02-03T09:39:56.162Z"
   },
   {
    "duration": 4,
    "start_time": "2023-02-03T09:39:56.170Z"
   },
   {
    "duration": 16,
    "start_time": "2023-02-03T09:39:56.175Z"
   },
   {
    "duration": 16,
    "start_time": "2023-02-03T09:39:56.193Z"
   },
   {
    "duration": 35,
    "start_time": "2023-02-03T09:39:56.210Z"
   },
   {
    "duration": 163,
    "start_time": "2023-02-03T09:39:56.246Z"
   },
   {
    "duration": 5,
    "start_time": "2023-02-03T09:39:56.410Z"
   },
   {
    "duration": 320,
    "start_time": "2023-02-03T09:39:56.417Z"
   },
   {
    "duration": 7,
    "start_time": "2023-02-03T09:39:56.740Z"
   },
   {
    "duration": 6,
    "start_time": "2023-02-03T09:39:56.748Z"
   },
   {
    "duration": 356,
    "start_time": "2023-02-03T09:39:56.756Z"
   },
   {
    "duration": 7,
    "start_time": "2023-02-03T09:39:57.113Z"
   },
   {
    "duration": 11,
    "start_time": "2023-02-03T09:39:57.121Z"
   },
   {
    "duration": 167,
    "start_time": "2023-02-03T09:39:57.133Z"
   },
   {
    "duration": 4,
    "start_time": "2023-02-03T09:39:57.301Z"
   },
   {
    "duration": 7,
    "start_time": "2023-02-03T09:39:57.306Z"
   },
   {
    "duration": 5,
    "start_time": "2023-02-03T09:39:57.315Z"
   },
   {
    "duration": 164,
    "start_time": "2023-02-03T09:39:57.322Z"
   },
   {
    "duration": 168,
    "start_time": "2023-02-03T09:39:57.488Z"
   },
   {
    "duration": 5,
    "start_time": "2023-02-03T09:39:57.657Z"
   },
   {
    "duration": 792,
    "start_time": "2023-02-03T09:39:57.663Z"
   },
   {
    "duration": 12,
    "start_time": "2023-02-03T09:39:58.456Z"
   },
   {
    "duration": 15,
    "start_time": "2023-02-03T09:39:58.469Z"
   },
   {
    "duration": 217,
    "start_time": "2023-02-03T09:39:58.486Z"
   },
   {
    "duration": 280,
    "start_time": "2023-02-03T09:39:58.704Z"
   },
   {
    "duration": 19,
    "start_time": "2023-02-03T09:39:58.985Z"
   },
   {
    "duration": 4,
    "start_time": "2023-02-03T09:39:59.005Z"
   },
   {
    "duration": 336,
    "start_time": "2023-02-03T09:39:59.010Z"
   },
   {
    "duration": 4,
    "start_time": "2023-02-03T09:39:59.347Z"
   },
   {
    "duration": 407,
    "start_time": "2023-02-03T09:39:59.352Z"
   },
   {
    "duration": 228,
    "start_time": "2023-02-03T09:39:59.760Z"
   },
   {
    "duration": 11,
    "start_time": "2023-02-03T09:39:59.989Z"
   },
   {
    "duration": 14,
    "start_time": "2023-02-03T09:40:00.001Z"
   },
   {
    "duration": 1051,
    "start_time": "2023-02-03T09:42:27.183Z"
   },
   {
    "duration": 1140,
    "start_time": "2023-02-03T09:46:01.708Z"
   },
   {
    "duration": 51,
    "start_time": "2023-02-03T09:46:02.850Z"
   },
   {
    "duration": 23,
    "start_time": "2023-02-03T09:46:02.903Z"
   },
   {
    "duration": 16,
    "start_time": "2023-02-03T09:46:02.928Z"
   },
   {
    "duration": 16,
    "start_time": "2023-02-03T09:46:02.946Z"
   },
   {
    "duration": 60,
    "start_time": "2023-02-03T09:46:02.963Z"
   },
   {
    "duration": 25,
    "start_time": "2023-02-03T09:46:03.025Z"
   },
   {
    "duration": 3,
    "start_time": "2023-02-03T09:46:03.051Z"
   },
   {
    "duration": 33,
    "start_time": "2023-02-03T09:46:03.055Z"
   },
   {
    "duration": 23,
    "start_time": "2023-02-03T09:46:03.091Z"
   },
   {
    "duration": 23,
    "start_time": "2023-02-03T09:46:03.115Z"
   },
   {
    "duration": 16,
    "start_time": "2023-02-03T09:46:03.140Z"
   },
   {
    "duration": 28,
    "start_time": "2023-02-03T09:46:03.158Z"
   },
   {
    "duration": 9,
    "start_time": "2023-02-03T09:46:03.187Z"
   },
   {
    "duration": 9,
    "start_time": "2023-02-03T09:46:03.198Z"
   },
   {
    "duration": 15,
    "start_time": "2023-02-03T09:46:03.208Z"
   },
   {
    "duration": 6,
    "start_time": "2023-02-03T09:46:03.224Z"
   },
   {
    "duration": 4,
    "start_time": "2023-02-03T09:46:03.231Z"
   },
   {
    "duration": 17,
    "start_time": "2023-02-03T09:46:03.236Z"
   },
   {
    "duration": 13,
    "start_time": "2023-02-03T09:46:03.255Z"
   },
   {
    "duration": 10,
    "start_time": "2023-02-03T09:46:03.269Z"
   },
   {
    "duration": 18,
    "start_time": "2023-02-03T09:46:03.281Z"
   },
   {
    "duration": 17,
    "start_time": "2023-02-03T09:46:03.300Z"
   },
   {
    "duration": 20,
    "start_time": "2023-02-03T09:46:03.319Z"
   },
   {
    "duration": 169,
    "start_time": "2023-02-03T09:46:03.340Z"
   },
   {
    "duration": 8,
    "start_time": "2023-02-03T09:46:03.511Z"
   },
   {
    "duration": 324,
    "start_time": "2023-02-03T09:46:03.521Z"
   },
   {
    "duration": 7,
    "start_time": "2023-02-03T09:46:03.849Z"
   },
   {
    "duration": 12,
    "start_time": "2023-02-03T09:46:03.858Z"
   },
   {
    "duration": 359,
    "start_time": "2023-02-03T09:46:03.872Z"
   },
   {
    "duration": 6,
    "start_time": "2023-02-03T09:46:04.233Z"
   },
   {
    "duration": 20,
    "start_time": "2023-02-03T09:46:04.240Z"
   },
   {
    "duration": 179,
    "start_time": "2023-02-03T09:46:04.261Z"
   },
   {
    "duration": 4,
    "start_time": "2023-02-03T09:46:04.442Z"
   },
   {
    "duration": 7,
    "start_time": "2023-02-03T09:46:04.447Z"
   },
   {
    "duration": 16,
    "start_time": "2023-02-03T09:46:04.455Z"
   },
   {
    "duration": 164,
    "start_time": "2023-02-03T09:46:04.473Z"
   },
   {
    "duration": 158,
    "start_time": "2023-02-03T09:46:04.639Z"
   },
   {
    "duration": 5,
    "start_time": "2023-02-03T09:46:04.799Z"
   },
   {
    "duration": 1181,
    "start_time": "2023-02-03T09:46:04.805Z"
   },
   {
    "duration": 14,
    "start_time": "2023-02-03T09:46:05.988Z"
   },
   {
    "duration": 29,
    "start_time": "2023-02-03T09:46:06.004Z"
   },
   {
    "duration": 215,
    "start_time": "2023-02-03T09:46:06.035Z"
   },
   {
    "duration": 294,
    "start_time": "2023-02-03T09:46:06.252Z"
   },
   {
    "duration": 21,
    "start_time": "2023-02-03T09:46:06.547Z"
   },
   {
    "duration": 4,
    "start_time": "2023-02-03T09:46:06.570Z"
   },
   {
    "duration": 423,
    "start_time": "2023-02-03T09:46:06.576Z"
   },
   {
    "duration": 4,
    "start_time": "2023-02-03T09:46:07.001Z"
   },
   {
    "duration": 331,
    "start_time": "2023-02-03T09:46:07.007Z"
   },
   {
    "duration": 252,
    "start_time": "2023-02-03T09:46:07.340Z"
   },
   {
    "duration": 11,
    "start_time": "2023-02-03T09:46:07.594Z"
   },
   {
    "duration": 12,
    "start_time": "2023-02-03T09:46:07.607Z"
   },
   {
    "duration": 20,
    "start_time": "2023-02-03T09:53:01.687Z"
   },
   {
    "duration": 12,
    "start_time": "2023-02-03T10:02:12.239Z"
   },
   {
    "duration": 11,
    "start_time": "2023-02-03T10:03:51.028Z"
   },
   {
    "duration": 1098,
    "start_time": "2023-02-03T10:11:49.628Z"
   },
   {
    "duration": 46,
    "start_time": "2023-02-03T10:11:50.728Z"
   },
   {
    "duration": 17,
    "start_time": "2023-02-03T10:11:50.776Z"
   },
   {
    "duration": 20,
    "start_time": "2023-02-03T10:11:50.795Z"
   },
   {
    "duration": 8,
    "start_time": "2023-02-03T10:11:50.816Z"
   },
   {
    "duration": 50,
    "start_time": "2023-02-03T10:11:50.825Z"
   },
   {
    "duration": 26,
    "start_time": "2023-02-03T10:11:50.876Z"
   },
   {
    "duration": 2,
    "start_time": "2023-02-03T10:11:50.904Z"
   },
   {
    "duration": 6,
    "start_time": "2023-02-03T10:11:50.907Z"
   },
   {
    "duration": 7,
    "start_time": "2023-02-03T10:11:50.915Z"
   },
   {
    "duration": 17,
    "start_time": "2023-02-03T10:11:50.923Z"
   },
   {
    "duration": 18,
    "start_time": "2023-02-03T10:11:50.941Z"
   },
   {
    "duration": 13,
    "start_time": "2023-02-03T10:11:50.961Z"
   },
   {
    "duration": 11,
    "start_time": "2023-02-03T10:11:50.975Z"
   },
   {
    "duration": 4,
    "start_time": "2023-02-03T10:11:50.987Z"
   },
   {
    "duration": 17,
    "start_time": "2023-02-03T10:11:50.992Z"
   },
   {
    "duration": 6,
    "start_time": "2023-02-03T10:11:51.010Z"
   },
   {
    "duration": 20,
    "start_time": "2023-02-03T10:11:51.017Z"
   },
   {
    "duration": 6,
    "start_time": "2023-02-03T10:11:51.039Z"
   },
   {
    "duration": 9,
    "start_time": "2023-02-03T10:11:51.046Z"
   },
   {
    "duration": 10,
    "start_time": "2023-02-03T10:11:51.056Z"
   },
   {
    "duration": 38,
    "start_time": "2023-02-03T10:11:51.067Z"
   },
   {
    "duration": 20,
    "start_time": "2023-02-03T10:11:51.107Z"
   },
   {
    "duration": 12,
    "start_time": "2023-02-03T10:11:51.129Z"
   },
   {
    "duration": 161,
    "start_time": "2023-02-03T10:11:51.143Z"
   },
   {
    "duration": 7,
    "start_time": "2023-02-03T10:11:51.306Z"
   },
   {
    "duration": 316,
    "start_time": "2023-02-03T10:11:51.315Z"
   },
   {
    "duration": 8,
    "start_time": "2023-02-03T10:11:51.635Z"
   },
   {
    "duration": 10,
    "start_time": "2023-02-03T10:11:51.644Z"
   },
   {
    "duration": 363,
    "start_time": "2023-02-03T10:11:51.656Z"
   },
   {
    "duration": 6,
    "start_time": "2023-02-03T10:11:52.021Z"
   },
   {
    "duration": 11,
    "start_time": "2023-02-03T10:11:52.029Z"
   },
   {
    "duration": 168,
    "start_time": "2023-02-03T10:11:52.041Z"
   },
   {
    "duration": 4,
    "start_time": "2023-02-03T10:11:52.210Z"
   },
   {
    "duration": 10,
    "start_time": "2023-02-03T10:11:52.215Z"
   },
   {
    "duration": 5,
    "start_time": "2023-02-03T10:11:52.238Z"
   },
   {
    "duration": 185,
    "start_time": "2023-02-03T10:11:52.245Z"
   },
   {
    "duration": 209,
    "start_time": "2023-02-03T10:11:52.432Z"
   },
   {
    "duration": 4,
    "start_time": "2023-02-03T10:11:52.643Z"
   },
   {
    "duration": 1162,
    "start_time": "2023-02-03T10:11:52.649Z"
   },
   {
    "duration": 12,
    "start_time": "2023-02-03T10:11:53.812Z"
   },
   {
    "duration": 28,
    "start_time": "2023-02-03T10:11:53.825Z"
   },
   {
    "duration": 210,
    "start_time": "2023-02-03T10:11:53.855Z"
   },
   {
    "duration": 292,
    "start_time": "2023-02-03T10:11:54.067Z"
   },
   {
    "duration": 21,
    "start_time": "2023-02-03T10:11:54.360Z"
   },
   {
    "duration": 6,
    "start_time": "2023-02-03T10:11:54.383Z"
   },
   {
    "duration": 427,
    "start_time": "2023-02-03T10:11:54.391Z"
   },
   {
    "duration": 4,
    "start_time": "2023-02-03T10:11:54.820Z"
   },
   {
    "duration": 345,
    "start_time": "2023-02-03T10:11:54.826Z"
   },
   {
    "duration": 247,
    "start_time": "2023-02-03T10:11:55.173Z"
   },
   {
    "duration": 16,
    "start_time": "2023-02-03T10:11:55.422Z"
   },
   {
    "duration": 11,
    "start_time": "2023-02-03T10:11:55.439Z"
   }
  ],
  "kernelspec": {
   "display_name": "Python 3 (ipykernel)",
   "language": "python",
   "name": "python3"
  },
  "language_info": {
   "codemirror_mode": {
    "name": "ipython",
    "version": 3
   },
   "file_extension": ".py",
   "mimetype": "text/x-python",
   "name": "python",
   "nbconvert_exporter": "python",
   "pygments_lexer": "ipython3",
   "version": "3.13.5"
  },
  "toc": {
   "base_numbering": 1,
   "nav_menu": {},
   "number_sections": true,
   "sideBar": true,
   "skip_h1_title": true,
   "title_cell": "Table of Contents",
   "title_sidebar": "Contents",
   "toc_cell": false,
   "toc_position": {},
   "toc_section_display": true,
   "toc_window_display": false
  }
 },
 "nbformat": 4,
 "nbformat_minor": 4
}
